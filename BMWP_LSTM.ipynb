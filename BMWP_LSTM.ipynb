{
  "cells": [
    {
      "cell_type": "code",
      "execution_count": 3,
      "metadata": {
        "id": "zuhkmYoj2DQi",
        "colab": {
          "base_uri": "https://localhost:8080/"
        },
        "outputId": "e60a9cd1-3808-4e01-ec61-5bd9e984bc44"
      },
      "outputs": [
        {
          "output_type": "stream",
          "name": "stdout",
          "text": [
            "Mounted at /content/drive/\n"
          ]
        }
      ],
      "source": [
        "#import io\n",
        "from google.colab import drive\n",
        "drive.mount(\"/content/drive/\")"
      ]
    },
    {
      "cell_type": "markdown",
      "metadata": {
        "id": "MNRVARup83kz"
      },
      "source": [
        "## Load the dataset"
      ]
    },
    {
      "cell_type": "code",
      "execution_count": 4,
      "metadata": {
        "id": "-Y8mLsSO3ezc",
        "colab": {
          "base_uri": "https://localhost:8080/",
          "height": 475
        },
        "outputId": "0520b129-f7d8-4a85-a017-5172a6775977"
      },
      "outputs": [
        {
          "output_type": "execute_result",
          "data": {
            "text/plain": [
              "                                                Problem    Equation Sollution  \\\n",
              "0     সানির কিছু মার্বেল রয়েছে। তিনি ৪৮৯ মার্বেল কি...    ২৭৭৮-৪৮৯      1929   \n",
              "1     কমলির ১২১ টি খেলনা ছিল। এখন তার ২২ টি খেলনা আছ...      ১২১-২২        99   \n",
              "2     কমলিনির কিছু মার্বেল ছিল। সে জুয়ানকে ১৮৩ গুলি...     ৫৯৩-১৮৩       410   \n",
              "3     কনিকার ২৩১৫ টি লাল কলম এবং ১০২৮ টি নীল কলম রয়...   ২৩১৫+১০২৮      3343   \n",
              "4     ইশিতার ৩৪৪ টি বই রয়েছে। ২৩৬ টি গল্পের বই এবং ...     ৩৪৪-২৩৬       108   \n",
              "...                                                 ...         ...       ...   \n",
              "8654  পুরুলিয়ার একটি মেলায় অমল ৯৫ টাকাতে একটি ব্যাগ ...       ৯৫*১৮      1710   \n",
              "8655  আমাদের গ্রামে ১২৫ টি পরিবার বসবাস করে। পরিবেশ ...      ১২৫*১৭      2125   \n",
              "8656  বিবেকানন্দ কলোনিতে মোট ১২৮ জন শিশু আছে। প্রত্য...      ১২৫*২৮      3500   \n",
              "8657  শাহানাকে ১৬ টাকা দামের কয়েকটি জলের বোতল কিনতে ...        ৪৮/৬         8   \n",
              "8658  পৃথা বাজার থেকে ২৫০গ্রাম পেঁয়াজ, ৫০ গ্রাম রসুন...  ২৫০+৫০+৩০০       600   \n",
              "\n",
              "     Class  \n",
              "0        -  \n",
              "1        -  \n",
              "2        -  \n",
              "3        +  \n",
              "4        -  \n",
              "...    ...  \n",
              "8654     *  \n",
              "8655     *  \n",
              "8656     *  \n",
              "8657     /  \n",
              "8658     +  \n",
              "\n",
              "[8659 rows x 4 columns]"
            ],
            "text/html": [
              "\n",
              "  <div id=\"df-6e190efd-3b0d-4b70-ae70-50aa9bc0c9a4\" class=\"colab-df-container\">\n",
              "    <div>\n",
              "<style scoped>\n",
              "    .dataframe tbody tr th:only-of-type {\n",
              "        vertical-align: middle;\n",
              "    }\n",
              "\n",
              "    .dataframe tbody tr th {\n",
              "        vertical-align: top;\n",
              "    }\n",
              "\n",
              "    .dataframe thead th {\n",
              "        text-align: right;\n",
              "    }\n",
              "</style>\n",
              "<table border=\"1\" class=\"dataframe\">\n",
              "  <thead>\n",
              "    <tr style=\"text-align: right;\">\n",
              "      <th></th>\n",
              "      <th>Problem</th>\n",
              "      <th>Equation</th>\n",
              "      <th>Sollution</th>\n",
              "      <th>Class</th>\n",
              "    </tr>\n",
              "  </thead>\n",
              "  <tbody>\n",
              "    <tr>\n",
              "      <th>0</th>\n",
              "      <td>সানির কিছু মার্বেল রয়েছে। তিনি ৪৮৯ মার্বেল কি...</td>\n",
              "      <td>২৭৭৮-৪৮৯</td>\n",
              "      <td>1929</td>\n",
              "      <td>-</td>\n",
              "    </tr>\n",
              "    <tr>\n",
              "      <th>1</th>\n",
              "      <td>কমলির ১২১ টি খেলনা ছিল। এখন তার ২২ টি খেলনা আছ...</td>\n",
              "      <td>১২১-২২</td>\n",
              "      <td>99</td>\n",
              "      <td>-</td>\n",
              "    </tr>\n",
              "    <tr>\n",
              "      <th>2</th>\n",
              "      <td>কমলিনির কিছু মার্বেল ছিল। সে জুয়ানকে ১৮৩ গুলি...</td>\n",
              "      <td>৫৯৩-১৮৩</td>\n",
              "      <td>410</td>\n",
              "      <td>-</td>\n",
              "    </tr>\n",
              "    <tr>\n",
              "      <th>3</th>\n",
              "      <td>কনিকার ২৩১৫ টি লাল কলম এবং ১০২৮ টি নীল কলম রয়...</td>\n",
              "      <td>২৩১৫+১০২৮</td>\n",
              "      <td>3343</td>\n",
              "      <td>+</td>\n",
              "    </tr>\n",
              "    <tr>\n",
              "      <th>4</th>\n",
              "      <td>ইশিতার ৩৪৪ টি বই রয়েছে। ২৩৬ টি গল্পের বই এবং ...</td>\n",
              "      <td>৩৪৪-২৩৬</td>\n",
              "      <td>108</td>\n",
              "      <td>-</td>\n",
              "    </tr>\n",
              "    <tr>\n",
              "      <th>...</th>\n",
              "      <td>...</td>\n",
              "      <td>...</td>\n",
              "      <td>...</td>\n",
              "      <td>...</td>\n",
              "    </tr>\n",
              "    <tr>\n",
              "      <th>8654</th>\n",
              "      <td>পুরুলিয়ার একটি মেলায় অমল ৯৫ টাকাতে একটি ব্যাগ ...</td>\n",
              "      <td>৯৫*১৮</td>\n",
              "      <td>1710</td>\n",
              "      <td>*</td>\n",
              "    </tr>\n",
              "    <tr>\n",
              "      <th>8655</th>\n",
              "      <td>আমাদের গ্রামে ১২৫ টি পরিবার বসবাস করে। পরিবেশ ...</td>\n",
              "      <td>১২৫*১৭</td>\n",
              "      <td>2125</td>\n",
              "      <td>*</td>\n",
              "    </tr>\n",
              "    <tr>\n",
              "      <th>8656</th>\n",
              "      <td>বিবেকানন্দ কলোনিতে মোট ১২৮ জন শিশু আছে। প্রত্য...</td>\n",
              "      <td>১২৫*২৮</td>\n",
              "      <td>3500</td>\n",
              "      <td>*</td>\n",
              "    </tr>\n",
              "    <tr>\n",
              "      <th>8657</th>\n",
              "      <td>শাহানাকে ১৬ টাকা দামের কয়েকটি জলের বোতল কিনতে ...</td>\n",
              "      <td>৪৮/৬</td>\n",
              "      <td>8</td>\n",
              "      <td>/</td>\n",
              "    </tr>\n",
              "    <tr>\n",
              "      <th>8658</th>\n",
              "      <td>পৃথা বাজার থেকে ২৫০গ্রাম পেঁয়াজ, ৫০ গ্রাম রসুন...</td>\n",
              "      <td>২৫০+৫০+৩০০</td>\n",
              "      <td>600</td>\n",
              "      <td>+</td>\n",
              "    </tr>\n",
              "  </tbody>\n",
              "</table>\n",
              "<p>8659 rows × 4 columns</p>\n",
              "</div>\n",
              "    <div class=\"colab-df-buttons\">\n",
              "\n",
              "  <div class=\"colab-df-container\">\n",
              "    <button class=\"colab-df-convert\" onclick=\"convertToInteractive('df-6e190efd-3b0d-4b70-ae70-50aa9bc0c9a4')\"\n",
              "            title=\"Convert this dataframe to an interactive table.\"\n",
              "            style=\"display:none;\">\n",
              "\n",
              "  <svg xmlns=\"http://www.w3.org/2000/svg\" height=\"24px\" viewBox=\"0 -960 960 960\">\n",
              "    <path d=\"M120-120v-720h720v720H120Zm60-500h600v-160H180v160Zm220 220h160v-160H400v160Zm0 220h160v-160H400v160ZM180-400h160v-160H180v160Zm440 0h160v-160H620v160ZM180-180h160v-160H180v160Zm440 0h160v-160H620v160Z\"/>\n",
              "  </svg>\n",
              "    </button>\n",
              "\n",
              "  <style>\n",
              "    .colab-df-container {\n",
              "      display:flex;\n",
              "      gap: 12px;\n",
              "    }\n",
              "\n",
              "    .colab-df-convert {\n",
              "      background-color: #E8F0FE;\n",
              "      border: none;\n",
              "      border-radius: 50%;\n",
              "      cursor: pointer;\n",
              "      display: none;\n",
              "      fill: #1967D2;\n",
              "      height: 32px;\n",
              "      padding: 0 0 0 0;\n",
              "      width: 32px;\n",
              "    }\n",
              "\n",
              "    .colab-df-convert:hover {\n",
              "      background-color: #E2EBFA;\n",
              "      box-shadow: 0px 1px 2px rgba(60, 64, 67, 0.3), 0px 1px 3px 1px rgba(60, 64, 67, 0.15);\n",
              "      fill: #174EA6;\n",
              "    }\n",
              "\n",
              "    .colab-df-buttons div {\n",
              "      margin-bottom: 4px;\n",
              "    }\n",
              "\n",
              "    [theme=dark] .colab-df-convert {\n",
              "      background-color: #3B4455;\n",
              "      fill: #D2E3FC;\n",
              "    }\n",
              "\n",
              "    [theme=dark] .colab-df-convert:hover {\n",
              "      background-color: #434B5C;\n",
              "      box-shadow: 0px 1px 3px 1px rgba(0, 0, 0, 0.15);\n",
              "      filter: drop-shadow(0px 1px 2px rgba(0, 0, 0, 0.3));\n",
              "      fill: #FFFFFF;\n",
              "    }\n",
              "  </style>\n",
              "\n",
              "    <script>\n",
              "      const buttonEl =\n",
              "        document.querySelector('#df-6e190efd-3b0d-4b70-ae70-50aa9bc0c9a4 button.colab-df-convert');\n",
              "      buttonEl.style.display =\n",
              "        google.colab.kernel.accessAllowed ? 'block' : 'none';\n",
              "\n",
              "      async function convertToInteractive(key) {\n",
              "        const element = document.querySelector('#df-6e190efd-3b0d-4b70-ae70-50aa9bc0c9a4');\n",
              "        const dataTable =\n",
              "          await google.colab.kernel.invokeFunction('convertToInteractive',\n",
              "                                                    [key], {});\n",
              "        if (!dataTable) return;\n",
              "\n",
              "        const docLinkHtml = 'Like what you see? Visit the ' +\n",
              "          '<a target=\"_blank\" href=https://colab.research.google.com/notebooks/data_table.ipynb>data table notebook</a>'\n",
              "          + ' to learn more about interactive tables.';\n",
              "        element.innerHTML = '';\n",
              "        dataTable['output_type'] = 'display_data';\n",
              "        await google.colab.output.renderOutput(dataTable, element);\n",
              "        const docLink = document.createElement('div');\n",
              "        docLink.innerHTML = docLinkHtml;\n",
              "        element.appendChild(docLink);\n",
              "      }\n",
              "    </script>\n",
              "  </div>\n",
              "\n",
              "\n",
              "<div id=\"df-bac60d07-4c1b-40d0-a5a2-1e42f6023ed5\">\n",
              "  <button class=\"colab-df-quickchart\" onclick=\"quickchart('df-bac60d07-4c1b-40d0-a5a2-1e42f6023ed5')\"\n",
              "            title=\"Suggest charts\"\n",
              "            style=\"display:none;\">\n",
              "\n",
              "<svg xmlns=\"http://www.w3.org/2000/svg\" height=\"24px\"viewBox=\"0 0 24 24\"\n",
              "     width=\"24px\">\n",
              "    <g>\n",
              "        <path d=\"M19 3H5c-1.1 0-2 .9-2 2v14c0 1.1.9 2 2 2h14c1.1 0 2-.9 2-2V5c0-1.1-.9-2-2-2zM9 17H7v-7h2v7zm4 0h-2V7h2v10zm4 0h-2v-4h2v4z\"/>\n",
              "    </g>\n",
              "</svg>\n",
              "  </button>\n",
              "\n",
              "<style>\n",
              "  .colab-df-quickchart {\n",
              "      --bg-color: #E8F0FE;\n",
              "      --fill-color: #1967D2;\n",
              "      --hover-bg-color: #E2EBFA;\n",
              "      --hover-fill-color: #174EA6;\n",
              "      --disabled-fill-color: #AAA;\n",
              "      --disabled-bg-color: #DDD;\n",
              "  }\n",
              "\n",
              "  [theme=dark] .colab-df-quickchart {\n",
              "      --bg-color: #3B4455;\n",
              "      --fill-color: #D2E3FC;\n",
              "      --hover-bg-color: #434B5C;\n",
              "      --hover-fill-color: #FFFFFF;\n",
              "      --disabled-bg-color: #3B4455;\n",
              "      --disabled-fill-color: #666;\n",
              "  }\n",
              "\n",
              "  .colab-df-quickchart {\n",
              "    background-color: var(--bg-color);\n",
              "    border: none;\n",
              "    border-radius: 50%;\n",
              "    cursor: pointer;\n",
              "    display: none;\n",
              "    fill: var(--fill-color);\n",
              "    height: 32px;\n",
              "    padding: 0;\n",
              "    width: 32px;\n",
              "  }\n",
              "\n",
              "  .colab-df-quickchart:hover {\n",
              "    background-color: var(--hover-bg-color);\n",
              "    box-shadow: 0 1px 2px rgba(60, 64, 67, 0.3), 0 1px 3px 1px rgba(60, 64, 67, 0.15);\n",
              "    fill: var(--button-hover-fill-color);\n",
              "  }\n",
              "\n",
              "  .colab-df-quickchart-complete:disabled,\n",
              "  .colab-df-quickchart-complete:disabled:hover {\n",
              "    background-color: var(--disabled-bg-color);\n",
              "    fill: var(--disabled-fill-color);\n",
              "    box-shadow: none;\n",
              "  }\n",
              "\n",
              "  .colab-df-spinner {\n",
              "    border: 2px solid var(--fill-color);\n",
              "    border-color: transparent;\n",
              "    border-bottom-color: var(--fill-color);\n",
              "    animation:\n",
              "      spin 1s steps(1) infinite;\n",
              "  }\n",
              "\n",
              "  @keyframes spin {\n",
              "    0% {\n",
              "      border-color: transparent;\n",
              "      border-bottom-color: var(--fill-color);\n",
              "      border-left-color: var(--fill-color);\n",
              "    }\n",
              "    20% {\n",
              "      border-color: transparent;\n",
              "      border-left-color: var(--fill-color);\n",
              "      border-top-color: var(--fill-color);\n",
              "    }\n",
              "    30% {\n",
              "      border-color: transparent;\n",
              "      border-left-color: var(--fill-color);\n",
              "      border-top-color: var(--fill-color);\n",
              "      border-right-color: var(--fill-color);\n",
              "    }\n",
              "    40% {\n",
              "      border-color: transparent;\n",
              "      border-right-color: var(--fill-color);\n",
              "      border-top-color: var(--fill-color);\n",
              "    }\n",
              "    60% {\n",
              "      border-color: transparent;\n",
              "      border-right-color: var(--fill-color);\n",
              "    }\n",
              "    80% {\n",
              "      border-color: transparent;\n",
              "      border-right-color: var(--fill-color);\n",
              "      border-bottom-color: var(--fill-color);\n",
              "    }\n",
              "    90% {\n",
              "      border-color: transparent;\n",
              "      border-bottom-color: var(--fill-color);\n",
              "    }\n",
              "  }\n",
              "</style>\n",
              "\n",
              "  <script>\n",
              "    async function quickchart(key) {\n",
              "      const quickchartButtonEl =\n",
              "        document.querySelector('#' + key + ' button');\n",
              "      quickchartButtonEl.disabled = true;  // To prevent multiple clicks.\n",
              "      quickchartButtonEl.classList.add('colab-df-spinner');\n",
              "      try {\n",
              "        const charts = await google.colab.kernel.invokeFunction(\n",
              "            'suggestCharts', [key], {});\n",
              "      } catch (error) {\n",
              "        console.error('Error during call to suggestCharts:', error);\n",
              "      }\n",
              "      quickchartButtonEl.classList.remove('colab-df-spinner');\n",
              "      quickchartButtonEl.classList.add('colab-df-quickchart-complete');\n",
              "    }\n",
              "    (() => {\n",
              "      let quickchartButtonEl =\n",
              "        document.querySelector('#df-bac60d07-4c1b-40d0-a5a2-1e42f6023ed5 button');\n",
              "      quickchartButtonEl.style.display =\n",
              "        google.colab.kernel.accessAllowed ? 'block' : 'none';\n",
              "    })();\n",
              "  </script>\n",
              "</div>\n",
              "\n",
              "  <div id=\"id_330c6fc0-7d04-436f-b7c4-00a96580cd1e\">\n",
              "    <style>\n",
              "      .colab-df-generate {\n",
              "        background-color: #E8F0FE;\n",
              "        border: none;\n",
              "        border-radius: 50%;\n",
              "        cursor: pointer;\n",
              "        display: none;\n",
              "        fill: #1967D2;\n",
              "        height: 32px;\n",
              "        padding: 0 0 0 0;\n",
              "        width: 32px;\n",
              "      }\n",
              "\n",
              "      .colab-df-generate:hover {\n",
              "        background-color: #E2EBFA;\n",
              "        box-shadow: 0px 1px 2px rgba(60, 64, 67, 0.3), 0px 1px 3px 1px rgba(60, 64, 67, 0.15);\n",
              "        fill: #174EA6;\n",
              "      }\n",
              "\n",
              "      [theme=dark] .colab-df-generate {\n",
              "        background-color: #3B4455;\n",
              "        fill: #D2E3FC;\n",
              "      }\n",
              "\n",
              "      [theme=dark] .colab-df-generate:hover {\n",
              "        background-color: #434B5C;\n",
              "        box-shadow: 0px 1px 3px 1px rgba(0, 0, 0, 0.15);\n",
              "        filter: drop-shadow(0px 1px 2px rgba(0, 0, 0, 0.3));\n",
              "        fill: #FFFFFF;\n",
              "      }\n",
              "    </style>\n",
              "    <button class=\"colab-df-generate\" onclick=\"generateWithVariable('df')\"\n",
              "            title=\"Generate code using this dataframe.\"\n",
              "            style=\"display:none;\">\n",
              "\n",
              "  <svg xmlns=\"http://www.w3.org/2000/svg\" height=\"24px\"viewBox=\"0 0 24 24\"\n",
              "       width=\"24px\">\n",
              "    <path d=\"M7,19H8.4L18.45,9,17,7.55,7,17.6ZM5,21V16.75L18.45,3.32a2,2,0,0,1,2.83,0l1.4,1.43a1.91,1.91,0,0,1,.58,1.4,1.91,1.91,0,0,1-.58,1.4L9.25,21ZM18.45,9,17,7.55Zm-12,3A5.31,5.31,0,0,0,4.9,8.1,5.31,5.31,0,0,0,1,6.5,5.31,5.31,0,0,0,4.9,4.9,5.31,5.31,0,0,0,6.5,1,5.31,5.31,0,0,0,8.1,4.9,5.31,5.31,0,0,0,12,6.5,5.46,5.46,0,0,0,6.5,12Z\"/>\n",
              "  </svg>\n",
              "    </button>\n",
              "    <script>\n",
              "      (() => {\n",
              "      const buttonEl =\n",
              "        document.querySelector('#id_330c6fc0-7d04-436f-b7c4-00a96580cd1e button.colab-df-generate');\n",
              "      buttonEl.style.display =\n",
              "        google.colab.kernel.accessAllowed ? 'block' : 'none';\n",
              "\n",
              "      buttonEl.onclick = () => {\n",
              "        google.colab.notebook.generateWithVariable('df');\n",
              "      }\n",
              "      })();\n",
              "    </script>\n",
              "  </div>\n",
              "\n",
              "    </div>\n",
              "  </div>\n"
            ],
            "application/vnd.google.colaboratory.intrinsic+json": {
              "type": "dataframe",
              "variable_name": "df",
              "summary": "{\n  \"name\": \"df\",\n  \"rows\": 8659,\n  \"fields\": [\n    {\n      \"column\": \"Problem\",\n      \"properties\": {\n        \"dtype\": \"string\",\n        \"num_unique_values\": 4444,\n        \"samples\": [\n          \"\\u098f\\u0996\\u09be\\u09a8\\u09c7 \\u09ec \\u099f\\u09bf \\u09aa\\u09be\\u0996\\u09bf \\u098f\\u09ac\\u0982 \\u09e9 \\u099f\\u09bf \\u09ac\\u09be\\u09b8\\u09be \\u09b0\\u09af\\u09bc\\u09c7\\u099b\\u09c7\\u0964 \\u09ac\\u09be\\u09b8\\u09be \\u099b\\u09be\\u09a1\\u09bc\\u09be \\u0986\\u09b0 \\u0995\\u09a4 \\u09aa\\u09be\\u0996\\u09bf \\u0986\\u099b\\u09c7?\",\n          \"\\u09b0\\u09c1\\u09ac\\u09bf\\u09a8\\u09c7\\u09b0 \\u09ec\\u09e9 \\u099f\\u09bf \\u0986\\u09aa\\u09c7\\u09b2 \\u09b0\\u09af\\u09bc\\u09c7\\u099b\\u09c7\\u0964 \\u0987\\u09ae\\u09a8 \\u09eb\\u09eb \\u099f\\u09bf \\u09a8\\u09c7\\u09a8\\u0964 \\u09b0\\u09c1\\u09ac\\u09bf\\u09a8\\u09c7\\u09b0 \\u0995\\u09a4 \\u0986\\u09aa\\u09c7\\u09b2 \\u09a5\\u09be\\u0995\\u09ac\\u09c7?\",\n          \"\\u09ae\\u09cb\\u09b9\\u09bf\\u09a8\\u09c0\\u09b0 \\u09ab\\u09b2\\u09c7\\u09b0 \\u099d\\u09c1\\u09dc\\u09bf\\u09a4\\u09c7 \\u09eb\\u09e6 \\u099f\\u09bf \\u0986\\u09aa\\u09c7\\u09b2 \\u098f\\u09ac\\u0982 \\u09e9\\u09ed \\u099f\\u09bf \\u09a8\\u09be\\u09b6\\u09aa\\u09be\\u09a4\\u09bf \\u099b\\u09bf\\u09b2\\u0964 \\u09a4\\u09bf\\u09a8\\u09bf \\u09ac\\u09be\\u0997\\u09be\\u09a8\\u09c7 \\u0997\\u09bf\\u09af\\u09bc\\u09c7 \\u0995\\u09bf\\u099b\\u09c1 \\u0986\\u09aa\\u09c7\\u09b2 \\u09a8\\u09bf\\u09af\\u09bc\\u09c7\\u099b\\u09bf\\u09b2\\u09c7\\u09a8\\u0964 \\u098f\\u0996\\u09a8 \\u09ef\\u09e6 \\u099f\\u09bf \\u0986\\u09aa\\u09c7\\u09b2 \\u0986\\u099b\\u09c7\\u0964 \\u09a4\\u09bf\\u09a8\\u09bf \\u0995\\u09af\\u09bc\\u099f\\u09bf \\u0986\\u09aa\\u09c7\\u09b2 \\u09a8\\u09bf\\u09df\\u09c7\\u099b\\u09c7\\u09a8?\"\n        ],\n        \"semantic_type\": \"\",\n        \"description\": \"\"\n      }\n    },\n    {\n      \"column\": \"Equation\",\n      \"properties\": {\n        \"dtype\": \"category\",\n        \"num_unique_values\": 3583,\n        \"samples\": [\n          \"\\u09e9\\u09e6+\\u09e8\\u09eb\",\n          \"\\u09ec+\\u09e8\",\n          \"\\u09e7\\u09ed-\\u09e7\\u09ea\"\n        ],\n        \"semantic_type\": \"\",\n        \"description\": \"\"\n      }\n    },\n    {\n      \"column\": \"Sollution\",\n      \"properties\": {\n        \"dtype\": \"category\",\n        \"num_unique_values\": 819,\n        \"samples\": [\n          157,\n          370,\n          57.5\n        ],\n        \"semantic_type\": \"\",\n        \"description\": \"\"\n      }\n    },\n    {\n      \"column\": \"Class\",\n      \"properties\": {\n        \"dtype\": \"category\",\n        \"num_unique_values\": 7,\n        \"samples\": [\n          \" -\",\n          \" +\",\n          \" *\"\n        ],\n        \"semantic_type\": \"\",\n        \"description\": \"\"\n      }\n    }\n  ]\n}"
            }
          },
          "metadata": {},
          "execution_count": 4
        }
      ],
      "source": [
        "import pandas as pd\n",
        "df=pd.read_excel(r'/content/drive/MyDrive/Merged_BothDS_Dataset-1.xlsx')\n",
        "df"
      ]
    },
    {
      "cell_type": "code",
      "source": [
        "df = df.dropna()\n",
        "df"
      ],
      "metadata": {
        "colab": {
          "base_uri": "https://localhost:8080/",
          "height": 475
        },
        "id": "_s-g_UbISzqu",
        "outputId": "f5642732-4e81-40f9-e3c9-b89d24519b9f"
      },
      "execution_count": 5,
      "outputs": [
        {
          "output_type": "execute_result",
          "data": {
            "text/plain": [
              "                                                Problem    Equation Sollution  \\\n",
              "0     সানির কিছু মার্বেল রয়েছে। তিনি ৪৮৯ মার্বেল কি...    ২৭৭৮-৪৮৯      1929   \n",
              "1     কমলির ১২১ টি খেলনা ছিল। এখন তার ২২ টি খেলনা আছ...      ১২১-২২        99   \n",
              "2     কমলিনির কিছু মার্বেল ছিল। সে জুয়ানকে ১৮৩ গুলি...     ৫৯৩-১৮৩       410   \n",
              "3     কনিকার ২৩১৫ টি লাল কলম এবং ১০২৮ টি নীল কলম রয়...   ২৩১৫+১০২৮      3343   \n",
              "4     ইশিতার ৩৪৪ টি বই রয়েছে। ২৩৬ টি গল্পের বই এবং ...     ৩৪৪-২৩৬       108   \n",
              "...                                                 ...         ...       ...   \n",
              "8654  পুরুলিয়ার একটি মেলায় অমল ৯৫ টাকাতে একটি ব্যাগ ...       ৯৫*১৮      1710   \n",
              "8655  আমাদের গ্রামে ১২৫ টি পরিবার বসবাস করে। পরিবেশ ...      ১২৫*১৭      2125   \n",
              "8656  বিবেকানন্দ কলোনিতে মোট ১২৮ জন শিশু আছে। প্রত্য...      ১২৫*২৮      3500   \n",
              "8657  শাহানাকে ১৬ টাকা দামের কয়েকটি জলের বোতল কিনতে ...        ৪৮/৬         8   \n",
              "8658  পৃথা বাজার থেকে ২৫০গ্রাম পেঁয়াজ, ৫০ গ্রাম রসুন...  ২৫০+৫০+৩০০       600   \n",
              "\n",
              "     Class  \n",
              "0        -  \n",
              "1        -  \n",
              "2        -  \n",
              "3        +  \n",
              "4        -  \n",
              "...    ...  \n",
              "8654     *  \n",
              "8655     *  \n",
              "8656     *  \n",
              "8657     /  \n",
              "8658     +  \n",
              "\n",
              "[8658 rows x 4 columns]"
            ],
            "text/html": [
              "\n",
              "  <div id=\"df-89890c5b-5501-4cfa-b617-b26bc472f261\" class=\"colab-df-container\">\n",
              "    <div>\n",
              "<style scoped>\n",
              "    .dataframe tbody tr th:only-of-type {\n",
              "        vertical-align: middle;\n",
              "    }\n",
              "\n",
              "    .dataframe tbody tr th {\n",
              "        vertical-align: top;\n",
              "    }\n",
              "\n",
              "    .dataframe thead th {\n",
              "        text-align: right;\n",
              "    }\n",
              "</style>\n",
              "<table border=\"1\" class=\"dataframe\">\n",
              "  <thead>\n",
              "    <tr style=\"text-align: right;\">\n",
              "      <th></th>\n",
              "      <th>Problem</th>\n",
              "      <th>Equation</th>\n",
              "      <th>Sollution</th>\n",
              "      <th>Class</th>\n",
              "    </tr>\n",
              "  </thead>\n",
              "  <tbody>\n",
              "    <tr>\n",
              "      <th>0</th>\n",
              "      <td>সানির কিছু মার্বেল রয়েছে। তিনি ৪৮৯ মার্বেল কি...</td>\n",
              "      <td>২৭৭৮-৪৮৯</td>\n",
              "      <td>1929</td>\n",
              "      <td>-</td>\n",
              "    </tr>\n",
              "    <tr>\n",
              "      <th>1</th>\n",
              "      <td>কমলির ১২১ টি খেলনা ছিল। এখন তার ২২ টি খেলনা আছ...</td>\n",
              "      <td>১২১-২২</td>\n",
              "      <td>99</td>\n",
              "      <td>-</td>\n",
              "    </tr>\n",
              "    <tr>\n",
              "      <th>2</th>\n",
              "      <td>কমলিনির কিছু মার্বেল ছিল। সে জুয়ানকে ১৮৩ গুলি...</td>\n",
              "      <td>৫৯৩-১৮৩</td>\n",
              "      <td>410</td>\n",
              "      <td>-</td>\n",
              "    </tr>\n",
              "    <tr>\n",
              "      <th>3</th>\n",
              "      <td>কনিকার ২৩১৫ টি লাল কলম এবং ১০২৮ টি নীল কলম রয়...</td>\n",
              "      <td>২৩১৫+১০২৮</td>\n",
              "      <td>3343</td>\n",
              "      <td>+</td>\n",
              "    </tr>\n",
              "    <tr>\n",
              "      <th>4</th>\n",
              "      <td>ইশিতার ৩৪৪ টি বই রয়েছে। ২৩৬ টি গল্পের বই এবং ...</td>\n",
              "      <td>৩৪৪-২৩৬</td>\n",
              "      <td>108</td>\n",
              "      <td>-</td>\n",
              "    </tr>\n",
              "    <tr>\n",
              "      <th>...</th>\n",
              "      <td>...</td>\n",
              "      <td>...</td>\n",
              "      <td>...</td>\n",
              "      <td>...</td>\n",
              "    </tr>\n",
              "    <tr>\n",
              "      <th>8654</th>\n",
              "      <td>পুরুলিয়ার একটি মেলায় অমল ৯৫ টাকাতে একটি ব্যাগ ...</td>\n",
              "      <td>৯৫*১৮</td>\n",
              "      <td>1710</td>\n",
              "      <td>*</td>\n",
              "    </tr>\n",
              "    <tr>\n",
              "      <th>8655</th>\n",
              "      <td>আমাদের গ্রামে ১২৫ টি পরিবার বসবাস করে। পরিবেশ ...</td>\n",
              "      <td>১২৫*১৭</td>\n",
              "      <td>2125</td>\n",
              "      <td>*</td>\n",
              "    </tr>\n",
              "    <tr>\n",
              "      <th>8656</th>\n",
              "      <td>বিবেকানন্দ কলোনিতে মোট ১২৮ জন শিশু আছে। প্রত্য...</td>\n",
              "      <td>১২৫*২৮</td>\n",
              "      <td>3500</td>\n",
              "      <td>*</td>\n",
              "    </tr>\n",
              "    <tr>\n",
              "      <th>8657</th>\n",
              "      <td>শাহানাকে ১৬ টাকা দামের কয়েকটি জলের বোতল কিনতে ...</td>\n",
              "      <td>৪৮/৬</td>\n",
              "      <td>8</td>\n",
              "      <td>/</td>\n",
              "    </tr>\n",
              "    <tr>\n",
              "      <th>8658</th>\n",
              "      <td>পৃথা বাজার থেকে ২৫০গ্রাম পেঁয়াজ, ৫০ গ্রাম রসুন...</td>\n",
              "      <td>২৫০+৫০+৩০০</td>\n",
              "      <td>600</td>\n",
              "      <td>+</td>\n",
              "    </tr>\n",
              "  </tbody>\n",
              "</table>\n",
              "<p>8658 rows × 4 columns</p>\n",
              "</div>\n",
              "    <div class=\"colab-df-buttons\">\n",
              "\n",
              "  <div class=\"colab-df-container\">\n",
              "    <button class=\"colab-df-convert\" onclick=\"convertToInteractive('df-89890c5b-5501-4cfa-b617-b26bc472f261')\"\n",
              "            title=\"Convert this dataframe to an interactive table.\"\n",
              "            style=\"display:none;\">\n",
              "\n",
              "  <svg xmlns=\"http://www.w3.org/2000/svg\" height=\"24px\" viewBox=\"0 -960 960 960\">\n",
              "    <path d=\"M120-120v-720h720v720H120Zm60-500h600v-160H180v160Zm220 220h160v-160H400v160Zm0 220h160v-160H400v160ZM180-400h160v-160H180v160Zm440 0h160v-160H620v160ZM180-180h160v-160H180v160Zm440 0h160v-160H620v160Z\"/>\n",
              "  </svg>\n",
              "    </button>\n",
              "\n",
              "  <style>\n",
              "    .colab-df-container {\n",
              "      display:flex;\n",
              "      gap: 12px;\n",
              "    }\n",
              "\n",
              "    .colab-df-convert {\n",
              "      background-color: #E8F0FE;\n",
              "      border: none;\n",
              "      border-radius: 50%;\n",
              "      cursor: pointer;\n",
              "      display: none;\n",
              "      fill: #1967D2;\n",
              "      height: 32px;\n",
              "      padding: 0 0 0 0;\n",
              "      width: 32px;\n",
              "    }\n",
              "\n",
              "    .colab-df-convert:hover {\n",
              "      background-color: #E2EBFA;\n",
              "      box-shadow: 0px 1px 2px rgba(60, 64, 67, 0.3), 0px 1px 3px 1px rgba(60, 64, 67, 0.15);\n",
              "      fill: #174EA6;\n",
              "    }\n",
              "\n",
              "    .colab-df-buttons div {\n",
              "      margin-bottom: 4px;\n",
              "    }\n",
              "\n",
              "    [theme=dark] .colab-df-convert {\n",
              "      background-color: #3B4455;\n",
              "      fill: #D2E3FC;\n",
              "    }\n",
              "\n",
              "    [theme=dark] .colab-df-convert:hover {\n",
              "      background-color: #434B5C;\n",
              "      box-shadow: 0px 1px 3px 1px rgba(0, 0, 0, 0.15);\n",
              "      filter: drop-shadow(0px 1px 2px rgba(0, 0, 0, 0.3));\n",
              "      fill: #FFFFFF;\n",
              "    }\n",
              "  </style>\n",
              "\n",
              "    <script>\n",
              "      const buttonEl =\n",
              "        document.querySelector('#df-89890c5b-5501-4cfa-b617-b26bc472f261 button.colab-df-convert');\n",
              "      buttonEl.style.display =\n",
              "        google.colab.kernel.accessAllowed ? 'block' : 'none';\n",
              "\n",
              "      async function convertToInteractive(key) {\n",
              "        const element = document.querySelector('#df-89890c5b-5501-4cfa-b617-b26bc472f261');\n",
              "        const dataTable =\n",
              "          await google.colab.kernel.invokeFunction('convertToInteractive',\n",
              "                                                    [key], {});\n",
              "        if (!dataTable) return;\n",
              "\n",
              "        const docLinkHtml = 'Like what you see? Visit the ' +\n",
              "          '<a target=\"_blank\" href=https://colab.research.google.com/notebooks/data_table.ipynb>data table notebook</a>'\n",
              "          + ' to learn more about interactive tables.';\n",
              "        element.innerHTML = '';\n",
              "        dataTable['output_type'] = 'display_data';\n",
              "        await google.colab.output.renderOutput(dataTable, element);\n",
              "        const docLink = document.createElement('div');\n",
              "        docLink.innerHTML = docLinkHtml;\n",
              "        element.appendChild(docLink);\n",
              "      }\n",
              "    </script>\n",
              "  </div>\n",
              "\n",
              "\n",
              "<div id=\"df-17dc9c3c-10c9-4735-9cfe-afac30c3faaa\">\n",
              "  <button class=\"colab-df-quickchart\" onclick=\"quickchart('df-17dc9c3c-10c9-4735-9cfe-afac30c3faaa')\"\n",
              "            title=\"Suggest charts\"\n",
              "            style=\"display:none;\">\n",
              "\n",
              "<svg xmlns=\"http://www.w3.org/2000/svg\" height=\"24px\"viewBox=\"0 0 24 24\"\n",
              "     width=\"24px\">\n",
              "    <g>\n",
              "        <path d=\"M19 3H5c-1.1 0-2 .9-2 2v14c0 1.1.9 2 2 2h14c1.1 0 2-.9 2-2V5c0-1.1-.9-2-2-2zM9 17H7v-7h2v7zm4 0h-2V7h2v10zm4 0h-2v-4h2v4z\"/>\n",
              "    </g>\n",
              "</svg>\n",
              "  </button>\n",
              "\n",
              "<style>\n",
              "  .colab-df-quickchart {\n",
              "      --bg-color: #E8F0FE;\n",
              "      --fill-color: #1967D2;\n",
              "      --hover-bg-color: #E2EBFA;\n",
              "      --hover-fill-color: #174EA6;\n",
              "      --disabled-fill-color: #AAA;\n",
              "      --disabled-bg-color: #DDD;\n",
              "  }\n",
              "\n",
              "  [theme=dark] .colab-df-quickchart {\n",
              "      --bg-color: #3B4455;\n",
              "      --fill-color: #D2E3FC;\n",
              "      --hover-bg-color: #434B5C;\n",
              "      --hover-fill-color: #FFFFFF;\n",
              "      --disabled-bg-color: #3B4455;\n",
              "      --disabled-fill-color: #666;\n",
              "  }\n",
              "\n",
              "  .colab-df-quickchart {\n",
              "    background-color: var(--bg-color);\n",
              "    border: none;\n",
              "    border-radius: 50%;\n",
              "    cursor: pointer;\n",
              "    display: none;\n",
              "    fill: var(--fill-color);\n",
              "    height: 32px;\n",
              "    padding: 0;\n",
              "    width: 32px;\n",
              "  }\n",
              "\n",
              "  .colab-df-quickchart:hover {\n",
              "    background-color: var(--hover-bg-color);\n",
              "    box-shadow: 0 1px 2px rgba(60, 64, 67, 0.3), 0 1px 3px 1px rgba(60, 64, 67, 0.15);\n",
              "    fill: var(--button-hover-fill-color);\n",
              "  }\n",
              "\n",
              "  .colab-df-quickchart-complete:disabled,\n",
              "  .colab-df-quickchart-complete:disabled:hover {\n",
              "    background-color: var(--disabled-bg-color);\n",
              "    fill: var(--disabled-fill-color);\n",
              "    box-shadow: none;\n",
              "  }\n",
              "\n",
              "  .colab-df-spinner {\n",
              "    border: 2px solid var(--fill-color);\n",
              "    border-color: transparent;\n",
              "    border-bottom-color: var(--fill-color);\n",
              "    animation:\n",
              "      spin 1s steps(1) infinite;\n",
              "  }\n",
              "\n",
              "  @keyframes spin {\n",
              "    0% {\n",
              "      border-color: transparent;\n",
              "      border-bottom-color: var(--fill-color);\n",
              "      border-left-color: var(--fill-color);\n",
              "    }\n",
              "    20% {\n",
              "      border-color: transparent;\n",
              "      border-left-color: var(--fill-color);\n",
              "      border-top-color: var(--fill-color);\n",
              "    }\n",
              "    30% {\n",
              "      border-color: transparent;\n",
              "      border-left-color: var(--fill-color);\n",
              "      border-top-color: var(--fill-color);\n",
              "      border-right-color: var(--fill-color);\n",
              "    }\n",
              "    40% {\n",
              "      border-color: transparent;\n",
              "      border-right-color: var(--fill-color);\n",
              "      border-top-color: var(--fill-color);\n",
              "    }\n",
              "    60% {\n",
              "      border-color: transparent;\n",
              "      border-right-color: var(--fill-color);\n",
              "    }\n",
              "    80% {\n",
              "      border-color: transparent;\n",
              "      border-right-color: var(--fill-color);\n",
              "      border-bottom-color: var(--fill-color);\n",
              "    }\n",
              "    90% {\n",
              "      border-color: transparent;\n",
              "      border-bottom-color: var(--fill-color);\n",
              "    }\n",
              "  }\n",
              "</style>\n",
              "\n",
              "  <script>\n",
              "    async function quickchart(key) {\n",
              "      const quickchartButtonEl =\n",
              "        document.querySelector('#' + key + ' button');\n",
              "      quickchartButtonEl.disabled = true;  // To prevent multiple clicks.\n",
              "      quickchartButtonEl.classList.add('colab-df-spinner');\n",
              "      try {\n",
              "        const charts = await google.colab.kernel.invokeFunction(\n",
              "            'suggestCharts', [key], {});\n",
              "      } catch (error) {\n",
              "        console.error('Error during call to suggestCharts:', error);\n",
              "      }\n",
              "      quickchartButtonEl.classList.remove('colab-df-spinner');\n",
              "      quickchartButtonEl.classList.add('colab-df-quickchart-complete');\n",
              "    }\n",
              "    (() => {\n",
              "      let quickchartButtonEl =\n",
              "        document.querySelector('#df-17dc9c3c-10c9-4735-9cfe-afac30c3faaa button');\n",
              "      quickchartButtonEl.style.display =\n",
              "        google.colab.kernel.accessAllowed ? 'block' : 'none';\n",
              "    })();\n",
              "  </script>\n",
              "</div>\n",
              "\n",
              "  <div id=\"id_2f15e5b7-379c-4c1b-84ec-b8e9c18d82ba\">\n",
              "    <style>\n",
              "      .colab-df-generate {\n",
              "        background-color: #E8F0FE;\n",
              "        border: none;\n",
              "        border-radius: 50%;\n",
              "        cursor: pointer;\n",
              "        display: none;\n",
              "        fill: #1967D2;\n",
              "        height: 32px;\n",
              "        padding: 0 0 0 0;\n",
              "        width: 32px;\n",
              "      }\n",
              "\n",
              "      .colab-df-generate:hover {\n",
              "        background-color: #E2EBFA;\n",
              "        box-shadow: 0px 1px 2px rgba(60, 64, 67, 0.3), 0px 1px 3px 1px rgba(60, 64, 67, 0.15);\n",
              "        fill: #174EA6;\n",
              "      }\n",
              "\n",
              "      [theme=dark] .colab-df-generate {\n",
              "        background-color: #3B4455;\n",
              "        fill: #D2E3FC;\n",
              "      }\n",
              "\n",
              "      [theme=dark] .colab-df-generate:hover {\n",
              "        background-color: #434B5C;\n",
              "        box-shadow: 0px 1px 3px 1px rgba(0, 0, 0, 0.15);\n",
              "        filter: drop-shadow(0px 1px 2px rgba(0, 0, 0, 0.3));\n",
              "        fill: #FFFFFF;\n",
              "      }\n",
              "    </style>\n",
              "    <button class=\"colab-df-generate\" onclick=\"generateWithVariable('df')\"\n",
              "            title=\"Generate code using this dataframe.\"\n",
              "            style=\"display:none;\">\n",
              "\n",
              "  <svg xmlns=\"http://www.w3.org/2000/svg\" height=\"24px\"viewBox=\"0 0 24 24\"\n",
              "       width=\"24px\">\n",
              "    <path d=\"M7,19H8.4L18.45,9,17,7.55,7,17.6ZM5,21V16.75L18.45,3.32a2,2,0,0,1,2.83,0l1.4,1.43a1.91,1.91,0,0,1,.58,1.4,1.91,1.91,0,0,1-.58,1.4L9.25,21ZM18.45,9,17,7.55Zm-12,3A5.31,5.31,0,0,0,4.9,8.1,5.31,5.31,0,0,0,1,6.5,5.31,5.31,0,0,0,4.9,4.9,5.31,5.31,0,0,0,6.5,1,5.31,5.31,0,0,0,8.1,4.9,5.31,5.31,0,0,0,12,6.5,5.46,5.46,0,0,0,6.5,12Z\"/>\n",
              "  </svg>\n",
              "    </button>\n",
              "    <script>\n",
              "      (() => {\n",
              "      const buttonEl =\n",
              "        document.querySelector('#id_2f15e5b7-379c-4c1b-84ec-b8e9c18d82ba button.colab-df-generate');\n",
              "      buttonEl.style.display =\n",
              "        google.colab.kernel.accessAllowed ? 'block' : 'none';\n",
              "\n",
              "      buttonEl.onclick = () => {\n",
              "        google.colab.notebook.generateWithVariable('df');\n",
              "      }\n",
              "      })();\n",
              "    </script>\n",
              "  </div>\n",
              "\n",
              "    </div>\n",
              "  </div>\n"
            ],
            "application/vnd.google.colaboratory.intrinsic+json": {
              "type": "dataframe",
              "variable_name": "df",
              "summary": "{\n  \"name\": \"df\",\n  \"rows\": 8658,\n  \"fields\": [\n    {\n      \"column\": \"Problem\",\n      \"properties\": {\n        \"dtype\": \"string\",\n        \"num_unique_values\": 4443,\n        \"samples\": [\n          \"\\u0996\\u09be\\u09ac\\u09be\\u09b0\\u09c7\\u09b0 \\u0998\\u09b0\\u09c7 \\u09aa\\u09cd\\u09b0\\u09a4\\u09bf\\u099f\\u09bf \\u099f\\u09c7\\u09ac\\u09bf\\u09b2\\u09c7 \\u09ec \\u099c\\u09a8 \\u099b\\u09be\\u09a4\\u09cd\\u09b0 \\u09ac\\u09b8\\u09c7 \\u099b\\u09bf\\u09b2\\u09c7\\u09a8\\u0964 \\u09e9\\u09ea \\u099f\\u09bf \\u099f\\u09c7\\u09ac\\u09bf\\u09b2 \\u09b0\\u09af\\u09bc\\u09c7\\u099b\\u09c7\\u0964 \\u0996\\u09be\\u09ac\\u09be\\u09b0\\u09c7\\u09b0 \\u0998\\u09b0\\u09c7 \\u0995\\u09a4 \\u099c\\u09a8 \\u099b\\u09be\\u09a4\\u09cd\\u09b0 \\u09ac\\u09b8\\u09c7 \\u099b\\u09bf\\u09b2?\",\n          \"\\u09af\\u09a6\\u09bf \\u098b\\u09df\\u09be\\u09a8 \\u09aa\\u09cd\\u09b0\\u09a4\\u09bf \\u0998\\u09a3\\u09cd\\u099f\\u09be\\u09af\\u09bc \\u09ed \\u0995\\u09bf\\u09b2\\u09cb\\u09ae\\u09bf\\u099f\\u09be\\u09b0 \\u09ac\\u09c7\\u0997\\u09c7 \\u09ec\\u09e9 \\u0995\\u09bf\\u09b2\\u09cb\\u09ae\\u09bf\\u099f\\u09be\\u09b0 \\u09a6\\u09cc\\u09dc\\u09be\\u09df, \\u09a4\\u09ac\\u09c7 \\u09b0\\u09bf\\u09df\\u09be\\u09a8 \\u0995\\u09a4\\u0995\\u09cd\\u09b7\\u09a3 \\u09a6\\u09cc\\u09dc\\u09c7 \\u099b\\u09bf\\u09b2?\",\n          \"\\u098f\\u0995  \\u09b8\\u09be\\u09b0\\u09bf\\u09a4\\u09c7 \\u09aa\\u09be\\u0981\\u099a\\u099f\\u09bf \\u09b8\\u09be\\u09aa ,\\u09aa\\u09b0\\u09c7\\u09b0 \\u09b8\\u09be\\u09b0\\u09bf\\u09a4\\u09c7 \\u09e8\\u09e9\\u099f\\u09bf \\u09ae\\u09be\\u099b , \\u09a4\\u09c3\\u09a4\\u09c0\\u09af\\u09bc \\u09b8\\u09be\\u09b0\\u09bf\\u09a4\\u09c7 \\u09ae\\u09cb\\u099f \\u09b9\\u09be\\u09a1\\u09bc\\u09c7\\u09b0 \\u09b8\\u0982\\u0996\\u09cd\\u09af\\u09be\\u09ec\\u099f\\u09bf \\u098f\\u0996\\u09be\\u09a8\\u09c7 \\u0995\\u09a4\\u0997\\u09c1\\u09b2\\u09cb \\u099c\\u09bf\\u09a8\\u09bf\\u09b8 \\u09b8\\u09be\\u099c\\u09be\\u09a8\\u09cb \\u0985\\u09be\\u099b\\u09c7?\"\n        ],\n        \"semantic_type\": \"\",\n        \"description\": \"\"\n      }\n    },\n    {\n      \"column\": \"Equation\",\n      \"properties\": {\n        \"dtype\": \"category\",\n        \"num_unique_values\": 3582,\n        \"samples\": [\n          \"\\u09e8\\u09e7+\\u09e7\\u09eb+\\u09e7\\u09e6\",\n          \"\\u09ec - \\u09e7\",\n          \"\\u09e8\\u09e8+\\u09ea\\u09ed\"\n        ],\n        \"semantic_type\": \"\",\n        \"description\": \"\"\n      }\n    },\n    {\n      \"column\": \"Sollution\",\n      \"properties\": {\n        \"dtype\": \"category\",\n        \"num_unique_values\": 819,\n        \"samples\": [\n          157,\n          370,\n          57.5\n        ],\n        \"semantic_type\": \"\",\n        \"description\": \"\"\n      }\n    },\n    {\n      \"column\": \"Class\",\n      \"properties\": {\n        \"dtype\": \"category\",\n        \"num_unique_values\": 7,\n        \"samples\": [\n          \" -\",\n          \" +\",\n          \" *\"\n        ],\n        \"semantic_type\": \"\",\n        \"description\": \"\"\n      }\n    }\n  ]\n}"
            }
          },
          "metadata": {},
          "execution_count": 5
        }
      ]
    },
    {
      "cell_type": "markdown",
      "source": [
        "## Data Preprocessing"
      ],
      "metadata": {
        "id": "fYnMGswUNuW8"
      }
    },
    {
      "cell_type": "code",
      "execution_count": 6,
      "metadata": {
        "id": "b-Q3UVouq5wt",
        "colab": {
          "base_uri": "https://localhost:8080/"
        },
        "outputId": "418d2d57-a722-4369-e10a-9b1737e81cb4"
      },
      "outputs": [
        {
          "output_type": "stream",
          "name": "stdout",
          "text": [
            "Collecting bnltk\n",
            "  Downloading bnltk-0.7.8-py3-none-any.whl.metadata (5.1 kB)\n",
            "Collecting black==24.10.0 (from bnltk)\n",
            "  Downloading black-24.10.0-cp310-cp310-manylinux_2_17_x86_64.manylinux2014_x86_64.manylinux_2_28_x86_64.whl.metadata (79 kB)\n",
            "\u001b[2K     \u001b[90m━━━━━━━━━━━━━━━━━━━━━━━━━━━━━━━━━━━━━━━━\u001b[0m \u001b[32m79.2/79.2 kB\u001b[0m \u001b[31m2.4 MB/s\u001b[0m eta \u001b[36m0:00:00\u001b[0m\n",
            "\u001b[?25hCollecting keras==3.6.0 (from bnltk)\n",
            "  Downloading keras-3.6.0-py3-none-any.whl.metadata (5.8 kB)\n",
            "Collecting numpy==2.0.2 (from bnltk)\n",
            "  Downloading numpy-2.0.2-cp310-cp310-manylinux_2_17_x86_64.manylinux2014_x86_64.whl.metadata (60 kB)\n",
            "\u001b[2K     \u001b[90m━━━━━━━━━━━━━━━━━━━━━━━━━━━━━━━━━━━━━━━━\u001b[0m \u001b[32m60.9/60.9 kB\u001b[0m \u001b[31m4.3 MB/s\u001b[0m eta \u001b[36m0:00:00\u001b[0m\n",
            "\u001b[?25hRequirement already satisfied: requests==2.32.3 in /usr/local/lib/python3.10/dist-packages (from bnltk) (2.32.3)\n",
            "Collecting scikit-learn==1.5.2 (from bnltk)\n",
            "  Downloading scikit_learn-1.5.2-cp310-cp310-manylinux_2_17_x86_64.manylinux2014_x86_64.whl.metadata (13 kB)\n",
            "Collecting tensorflow==2.18.0 (from bnltk)\n",
            "  Downloading tensorflow-2.18.0-cp310-cp310-manylinux_2_17_x86_64.manylinux2014_x86_64.whl.metadata (4.1 kB)\n",
            "Requirement already satisfied: click>=8.0.0 in /usr/local/lib/python3.10/dist-packages (from black==24.10.0->bnltk) (8.1.8)\n",
            "Collecting mypy-extensions>=0.4.3 (from black==24.10.0->bnltk)\n",
            "  Downloading mypy_extensions-1.0.0-py3-none-any.whl.metadata (1.1 kB)\n",
            "Requirement already satisfied: packaging>=22.0 in /usr/local/lib/python3.10/dist-packages (from black==24.10.0->bnltk) (24.2)\n",
            "Collecting pathspec>=0.9.0 (from black==24.10.0->bnltk)\n",
            "  Downloading pathspec-0.12.1-py3-none-any.whl.metadata (21 kB)\n",
            "Requirement already satisfied: platformdirs>=2 in /usr/local/lib/python3.10/dist-packages (from black==24.10.0->bnltk) (4.3.6)\n",
            "Requirement already satisfied: tomli>=1.1.0 in /usr/local/lib/python3.10/dist-packages (from black==24.10.0->bnltk) (2.2.1)\n",
            "Requirement already satisfied: typing-extensions>=4.0.1 in /usr/local/lib/python3.10/dist-packages (from black==24.10.0->bnltk) (4.12.2)\n",
            "Requirement already satisfied: absl-py in /usr/local/lib/python3.10/dist-packages (from keras==3.6.0->bnltk) (1.4.0)\n",
            "Requirement already satisfied: rich in /usr/local/lib/python3.10/dist-packages (from keras==3.6.0->bnltk) (13.9.4)\n",
            "Requirement already satisfied: namex in /usr/local/lib/python3.10/dist-packages (from keras==3.6.0->bnltk) (0.0.8)\n",
            "Requirement already satisfied: h5py in /usr/local/lib/python3.10/dist-packages (from keras==3.6.0->bnltk) (3.12.1)\n",
            "Requirement already satisfied: optree in /usr/local/lib/python3.10/dist-packages (from keras==3.6.0->bnltk) (0.13.1)\n",
            "Requirement already satisfied: ml-dtypes in /usr/local/lib/python3.10/dist-packages (from keras==3.6.0->bnltk) (0.4.1)\n",
            "Requirement already satisfied: charset-normalizer<4,>=2 in /usr/local/lib/python3.10/dist-packages (from requests==2.32.3->bnltk) (3.4.1)\n",
            "Requirement already satisfied: idna<4,>=2.5 in /usr/local/lib/python3.10/dist-packages (from requests==2.32.3->bnltk) (3.10)\n",
            "Requirement already satisfied: urllib3<3,>=1.21.1 in /usr/local/lib/python3.10/dist-packages (from requests==2.32.3->bnltk) (2.3.0)\n",
            "Requirement already satisfied: certifi>=2017.4.17 in /usr/local/lib/python3.10/dist-packages (from requests==2.32.3->bnltk) (2024.12.14)\n",
            "Requirement already satisfied: scipy>=1.6.0 in /usr/local/lib/python3.10/dist-packages (from scikit-learn==1.5.2->bnltk) (1.13.1)\n",
            "Requirement already satisfied: joblib>=1.2.0 in /usr/local/lib/python3.10/dist-packages (from scikit-learn==1.5.2->bnltk) (1.4.2)\n",
            "Requirement already satisfied: threadpoolctl>=3.1.0 in /usr/local/lib/python3.10/dist-packages (from scikit-learn==1.5.2->bnltk) (3.5.0)\n",
            "Requirement already satisfied: astunparse>=1.6.0 in /usr/local/lib/python3.10/dist-packages (from tensorflow==2.18.0->bnltk) (1.6.3)\n",
            "Requirement already satisfied: flatbuffers>=24.3.25 in /usr/local/lib/python3.10/dist-packages (from tensorflow==2.18.0->bnltk) (24.12.23)\n",
            "Requirement already satisfied: gast!=0.5.0,!=0.5.1,!=0.5.2,>=0.2.1 in /usr/local/lib/python3.10/dist-packages (from tensorflow==2.18.0->bnltk) (0.6.0)\n",
            "Requirement already satisfied: google-pasta>=0.1.1 in /usr/local/lib/python3.10/dist-packages (from tensorflow==2.18.0->bnltk) (0.2.0)\n",
            "Requirement already satisfied: libclang>=13.0.0 in /usr/local/lib/python3.10/dist-packages (from tensorflow==2.18.0->bnltk) (18.1.1)\n",
            "Requirement already satisfied: opt-einsum>=2.3.2 in /usr/local/lib/python3.10/dist-packages (from tensorflow==2.18.0->bnltk) (3.4.0)\n",
            "Requirement already satisfied: protobuf!=4.21.0,!=4.21.1,!=4.21.2,!=4.21.3,!=4.21.4,!=4.21.5,<6.0.0dev,>=3.20.3 in /usr/local/lib/python3.10/dist-packages (from tensorflow==2.18.0->bnltk) (4.25.5)\n",
            "Requirement already satisfied: setuptools in /usr/local/lib/python3.10/dist-packages (from tensorflow==2.18.0->bnltk) (75.1.0)\n",
            "Requirement already satisfied: six>=1.12.0 in /usr/local/lib/python3.10/dist-packages (from tensorflow==2.18.0->bnltk) (1.17.0)\n",
            "Requirement already satisfied: termcolor>=1.1.0 in /usr/local/lib/python3.10/dist-packages (from tensorflow==2.18.0->bnltk) (2.5.0)\n",
            "Requirement already satisfied: wrapt>=1.11.0 in /usr/local/lib/python3.10/dist-packages (from tensorflow==2.18.0->bnltk) (1.17.0)\n",
            "Requirement already satisfied: grpcio<2.0,>=1.24.3 in /usr/local/lib/python3.10/dist-packages (from tensorflow==2.18.0->bnltk) (1.69.0)\n",
            "Collecting tensorboard<2.19,>=2.18 (from tensorflow==2.18.0->bnltk)\n",
            "  Downloading tensorboard-2.18.0-py3-none-any.whl.metadata (1.6 kB)\n",
            "Requirement already satisfied: tensorflow-io-gcs-filesystem>=0.23.1 in /usr/local/lib/python3.10/dist-packages (from tensorflow==2.18.0->bnltk) (0.37.1)\n",
            "Requirement already satisfied: wheel<1.0,>=0.23.0 in /usr/local/lib/python3.10/dist-packages (from astunparse>=1.6.0->tensorflow==2.18.0->bnltk) (0.45.1)\n",
            "Requirement already satisfied: markdown>=2.6.8 in /usr/local/lib/python3.10/dist-packages (from tensorboard<2.19,>=2.18->tensorflow==2.18.0->bnltk) (3.7)\n",
            "Requirement already satisfied: tensorboard-data-server<0.8.0,>=0.7.0 in /usr/local/lib/python3.10/dist-packages (from tensorboard<2.19,>=2.18->tensorflow==2.18.0->bnltk) (0.7.2)\n",
            "Requirement already satisfied: werkzeug>=1.0.1 in /usr/local/lib/python3.10/dist-packages (from tensorboard<2.19,>=2.18->tensorflow==2.18.0->bnltk) (3.1.3)\n",
            "Requirement already satisfied: markdown-it-py>=2.2.0 in /usr/local/lib/python3.10/dist-packages (from rich->keras==3.6.0->bnltk) (3.0.0)\n",
            "Requirement already satisfied: pygments<3.0.0,>=2.13.0 in /usr/local/lib/python3.10/dist-packages (from rich->keras==3.6.0->bnltk) (2.18.0)\n",
            "Requirement already satisfied: mdurl~=0.1 in /usr/local/lib/python3.10/dist-packages (from markdown-it-py>=2.2.0->rich->keras==3.6.0->bnltk) (0.1.2)\n",
            "Requirement already satisfied: MarkupSafe>=2.1.1 in /usr/local/lib/python3.10/dist-packages (from werkzeug>=1.0.1->tensorboard<2.19,>=2.18->tensorflow==2.18.0->bnltk) (3.0.2)\n",
            "Downloading bnltk-0.7.8-py3-none-any.whl (15 kB)\n",
            "Downloading black-24.10.0-cp310-cp310-manylinux_2_17_x86_64.manylinux2014_x86_64.manylinux_2_28_x86_64.whl (1.8 MB)\n",
            "\u001b[2K   \u001b[90m━━━━━━━━━━━━━━━━━━━━━━━━━━━━━━━━━━━━━━━━\u001b[0m \u001b[32m1.8/1.8 MB\u001b[0m \u001b[31m30.2 MB/s\u001b[0m eta \u001b[36m0:00:00\u001b[0m\n",
            "\u001b[?25hDownloading keras-3.6.0-py3-none-any.whl (1.2 MB)\n",
            "\u001b[2K   \u001b[90m━━━━━━━━━━━━━━━━━━━━━━━━━━━━━━━━━━━━━━━━\u001b[0m \u001b[32m1.2/1.2 MB\u001b[0m \u001b[31m49.3 MB/s\u001b[0m eta \u001b[36m0:00:00\u001b[0m\n",
            "\u001b[?25hDownloading numpy-2.0.2-cp310-cp310-manylinux_2_17_x86_64.manylinux2014_x86_64.whl (19.5 MB)\n",
            "\u001b[2K   \u001b[90m━━━━━━━━━━━━━━━━━━━━━━━━━━━━━━━━━━━━━━━━\u001b[0m \u001b[32m19.5/19.5 MB\u001b[0m \u001b[31m72.5 MB/s\u001b[0m eta \u001b[36m0:00:00\u001b[0m\n",
            "\u001b[?25hDownloading scikit_learn-1.5.2-cp310-cp310-manylinux_2_17_x86_64.manylinux2014_x86_64.whl (13.3 MB)\n",
            "\u001b[2K   \u001b[90m━━━━━━━━━━━━━━━━━━━━━━━━━━━━━━━━━━━━━━━━\u001b[0m \u001b[32m13.3/13.3 MB\u001b[0m \u001b[31m59.5 MB/s\u001b[0m eta \u001b[36m0:00:00\u001b[0m\n",
            "\u001b[?25hDownloading tensorflow-2.18.0-cp310-cp310-manylinux_2_17_x86_64.manylinux2014_x86_64.whl (615.3 MB)\n",
            "\u001b[2K   \u001b[90m━━━━━━━━━━━━━━━━━━━━━━━━━━━━━━━━━━━━━━━━\u001b[0m \u001b[32m615.3/615.3 MB\u001b[0m \u001b[31m2.9 MB/s\u001b[0m eta \u001b[36m0:00:00\u001b[0m\n",
            "\u001b[?25hDownloading mypy_extensions-1.0.0-py3-none-any.whl (4.7 kB)\n",
            "Downloading pathspec-0.12.1-py3-none-any.whl (31 kB)\n",
            "Downloading tensorboard-2.18.0-py3-none-any.whl (5.5 MB)\n",
            "\u001b[2K   \u001b[90m━━━━━━━━━━━━━━━━━━━━━━━━━━━━━━━━━━━━━━━━\u001b[0m \u001b[32m5.5/5.5 MB\u001b[0m \u001b[31m73.9 MB/s\u001b[0m eta \u001b[36m0:00:00\u001b[0m\n",
            "\u001b[?25hInstalling collected packages: pathspec, numpy, mypy-extensions, tensorboard, black, scikit-learn, keras, tensorflow, bnltk\n",
            "  Attempting uninstall: numpy\n",
            "    Found existing installation: numpy 1.26.4\n",
            "    Uninstalling numpy-1.26.4:\n",
            "      Successfully uninstalled numpy-1.26.4\n",
            "  Attempting uninstall: tensorboard\n",
            "    Found existing installation: tensorboard 2.17.1\n",
            "    Uninstalling tensorboard-2.17.1:\n",
            "      Successfully uninstalled tensorboard-2.17.1\n",
            "  Attempting uninstall: scikit-learn\n",
            "    Found existing installation: scikit-learn 1.6.0\n",
            "    Uninstalling scikit-learn-1.6.0:\n",
            "      Successfully uninstalled scikit-learn-1.6.0\n",
            "  Attempting uninstall: keras\n",
            "    Found existing installation: keras 3.5.0\n",
            "    Uninstalling keras-3.5.0:\n",
            "      Successfully uninstalled keras-3.5.0\n",
            "  Attempting uninstall: tensorflow\n",
            "    Found existing installation: tensorflow 2.17.1\n",
            "    Uninstalling tensorflow-2.17.1:\n",
            "      Successfully uninstalled tensorflow-2.17.1\n",
            "\u001b[31mERROR: pip's dependency resolver does not currently take into account all the packages that are installed. This behaviour is the source of the following dependency conflicts.\n",
            "cupy-cuda12x 12.2.0 requires numpy<1.27,>=1.20, but you have numpy 2.0.2 which is incompatible.\n",
            "gensim 4.3.3 requires numpy<2.0,>=1.18.5, but you have numpy 2.0.2 which is incompatible.\n",
            "langchain 0.3.14 requires numpy<2,>=1.22.4; python_version < \"3.12\", but you have numpy 2.0.2 which is incompatible.\n",
            "pytensor 2.26.4 requires numpy<2,>=1.17.0, but you have numpy 2.0.2 which is incompatible.\n",
            "tf-keras 2.17.0 requires tensorflow<2.18,>=2.17, but you have tensorflow 2.18.0 which is incompatible.\n",
            "thinc 8.2.5 requires numpy<2.0.0,>=1.19.0; python_version >= \"3.9\", but you have numpy 2.0.2 which is incompatible.\u001b[0m\u001b[31m\n",
            "\u001b[0mSuccessfully installed black-24.10.0 bnltk-0.7.8 keras-3.6.0 mypy-extensions-1.0.0 numpy-2.0.2 pathspec-0.12.1 scikit-learn-1.5.2 tensorboard-2.18.0 tensorflow-2.18.0\n"
          ]
        }
      ],
      "source": [
        "!pip3 install bnltk"
      ]
    },
    {
      "cell_type": "code",
      "source": [
        "df['Problem'][1]"
      ],
      "metadata": {
        "id": "UY2O9BKX84pV",
        "colab": {
          "base_uri": "https://localhost:8080/",
          "height": 52
        },
        "outputId": "683fa6c5-ba19-4d5a-d195-cdc90b2ed55e"
      },
      "execution_count": 7,
      "outputs": [
        {
          "output_type": "execute_result",
          "data": {
            "text/plain": [
              "'কমলির ১২১ টি খেলনা ছিল। এখন তার ২২ টি খেলনা আছে, তাহলে সে কতগুলো খেলনা হারিয়ে ফেলেছে?'"
            ],
            "application/vnd.google.colaboratory.intrinsic+json": {
              "type": "string"
            }
          },
          "metadata": {},
          "execution_count": 7
        }
      ]
    },
    {
      "cell_type": "code",
      "execution_count": 8,
      "metadata": {
        "id": "CkZus3_B8xem",
        "colab": {
          "base_uri": "https://localhost:8080/"
        },
        "outputId": "f6fb0b53-d251-45f1-b166-c88e88b73843"
      },
      "outputs": [
        {
          "output_type": "execute_result",
          "data": {
            "text/plain": [
              "[['সানির',\n",
              "  'কিছু',\n",
              "  'মার্বেল',\n",
              "  'রয়েছে',\n",
              "  '।',\n",
              "  'তিনি',\n",
              "  '৪৮৯',\n",
              "  'মার্বেল',\n",
              "  'কিনেছিলেন',\n",
              "  '।',\n",
              "  'এখন',\n",
              "  'তার',\n",
              "  'সব',\n",
              "  'মিলিয়ে',\n",
              "  '২৭৭৮',\n",
              "  'মার্বেল',\n",
              "  'রয়েছে',\n",
              "  '।',\n",
              "  'তিনি',\n",
              "  'কয়টি',\n",
              "  'দিয়ে',\n",
              "  'শুরু',\n",
              "  'করেছিলেন',\n",
              "  '?'],\n",
              " ['কমলির',\n",
              "  '১২১',\n",
              "  'টি',\n",
              "  'খেলনা',\n",
              "  'ছিল',\n",
              "  '।',\n",
              "  'এখন',\n",
              "  'তার',\n",
              "  '২২',\n",
              "  'টি',\n",
              "  'খেলনা',\n",
              "  'আছে',\n",
              "  ',',\n",
              "  'তাহলে',\n",
              "  'সে',\n",
              "  'কতগুলো',\n",
              "  'খেলনা',\n",
              "  'হারিয়ে',\n",
              "  'ফেলেছে',\n",
              "  '?'],\n",
              " ['কমলিনির',\n",
              "  'কিছু',\n",
              "  'মার্বেল',\n",
              "  'ছিল',\n",
              "  '।',\n",
              "  'সে',\n",
              "  'জুয়ানকে',\n",
              "  '১৮৩',\n",
              "  'গুলি',\n",
              "  'মার্বেল',\n",
              "  'দিয়েছে',\n",
              "  '।',\n",
              "  'এখন',\n",
              "  'তার',\n",
              "  'হাতে',\n",
              "  'রয়েছে',\n",
              "  '৫৯৩',\n",
              "  'টি',\n",
              "  'মার্বেল',\n",
              "  '।',\n",
              "  'প্রথমে',\n",
              "  'তার',\n",
              "  'কতগুলি',\n",
              "  'মার্বেল',\n",
              "  'ছিল',\n",
              "  '?'],\n",
              " ['কনিকার',\n",
              "  '২৩১৫',\n",
              "  'টি',\n",
              "  'লাল',\n",
              "  'কলম',\n",
              "  'এবং',\n",
              "  '১০২৮',\n",
              "  'টি',\n",
              "  'নীল',\n",
              "  'কলম',\n",
              "  'রয়েছে',\n",
              "  '।',\n",
              "  'তার',\n",
              "  'মোট',\n",
              "  'কতটি',\n",
              "  'কলম',\n",
              "  'রয়েছে',\n",
              "  '?'],\n",
              " ['ইশিতার',\n",
              "  '৩৪৪',\n",
              "  'টি',\n",
              "  'বই',\n",
              "  'রয়েছে',\n",
              "  '।',\n",
              "  '২৩৬',\n",
              "  'টি',\n",
              "  'গল্পের',\n",
              "  'বই',\n",
              "  'এবং',\n",
              "  'বাকিগুলি',\n",
              "  'খেলাধুলার',\n",
              "  'বিষয়ে',\n",
              "  '।',\n",
              "  'তবে',\n",
              "  'খেলা',\n",
              "  'সম্পর্কিত',\n",
              "  'কয়টি',\n",
              "  'বই',\n",
              "  'রয়েছে',\n",
              "  'ইশার',\n",
              "  '?']]"
            ]
          },
          "metadata": {},
          "execution_count": 8
        }
      ],
      "source": [
        "# Get tokens and remove punctuation\n",
        "\n",
        "import string\n",
        "from bnltk.tokenize import Tokenizers\n",
        "\n",
        "t = Tokenizers()\n",
        "problem_lines=[]\n",
        "\n",
        "for line in df['Problem']:\n",
        "  tokens = t.bn_word_tokenizer(line)\n",
        "  problem_lines.append(tokens)\n",
        "  #break\n",
        "\n",
        "problem_lines[0:5]\n"
      ]
    },
    {
      "cell_type": "code",
      "source": [
        "# Convert Problem sequences to tokenizers\n",
        "import tensorflow as tf\n",
        "from tensorflow import keras\n",
        "from tensorflow.keras.preprocessing.text import Tokenizer\n",
        "\n",
        "tokenizer = Tokenizer()\n",
        "tokenizer.fit_on_texts(problem_lines)\n",
        "\n",
        "sequence=tokenizer.texts_to_sequences(problem_lines)\n",
        "\n",
        "sequence[0]"
      ],
      "metadata": {
        "id": "2aGY_7jeA2kU",
        "colab": {
          "base_uri": "https://localhost:8080/"
        },
        "outputId": "8138753a-78a7-432f-a925-2664dc454e0b"
      },
      "execution_count": 9,
      "outputs": [
        {
          "output_type": "execute_result",
          "data": {
            "text/plain": [
              "[1283,\n",
              " 72,\n",
              " 66,\n",
              " 5,\n",
              " 1,\n",
              " 16,\n",
              " 1741,\n",
              " 66,\n",
              " 126,\n",
              " 1,\n",
              " 17,\n",
              " 12,\n",
              " 58,\n",
              " 60,\n",
              " 1882,\n",
              " 66,\n",
              " 5,\n",
              " 1,\n",
              " 16,\n",
              " 20,\n",
              " 76,\n",
              " 106,\n",
              " 96,\n",
              " 3]"
            ]
          },
          "metadata": {},
          "execution_count": 9
        }
      ]
    },
    {
      "cell_type": "code",
      "source": [
        "word_index = tokenizer.word_index\n",
        "print(word_index)"
      ],
      "metadata": {
        "id": "QN3JIWzDzjDo",
        "colab": {
          "base_uri": "https://localhost:8080/"
        },
        "outputId": "cace6e3d-cf2f-49df-855a-87a5f33a479b"
      },
      "execution_count": 10,
      "outputs": [
        {
          "output_type": "stream",
          "name": "stdout",
          "text": [
            "{'।': 1, 'টি': 2, '?': 3, 'কত': 4, 'রয়েছে': 5, 'টাকা': 6, 'আছে': 7, 'মোট': 8, 'কাছে': 9, 'এবং': 10, 'ছিল': 11, 'তার': 12, ',': 13, 'একটি': 14, 'করে': 15, 'তিনি': 16, 'এখন': 17, 'কতগুলি': 18, 'তবে': 19, 'কয়টি': 20, '.': 21, 'জন': 22, 'আরও': 23, 'প্রতিটি': 24, 'মাইল': 25, '১০': 26, '৪': 27, '৫': 28, 'গাছ': 29, 'থেকে': 30, '২': 31, 'যদি': 32, '৩': 33, '২০': 34, 'বই': 35, 'সে': 36, '৬': 37, 'থাকবে': 38, '৮': 39, 'আর': 40, '৫০': 41, 'করেছে': 42, 'আপেল': 43, 'দাম': 44, '৭': 45, 'হবে': 46, 'জন্য': 47, 'বাক্সে': 48, '০': 49, 'বেলুন': 50, 'প্রতি': 51, 'তারা': 52, 'ঘন্টা': 53, 'পেন্সিল': 54, 'করতে': 55, 'কলম': 56, '৩০': 57, 'সব': 58, 'তোমার': 59, 'মিলিয়ে': 60, '৯': 61, 'ঝিনুক': 62, 'কমলালেবু': 63, 'বাক্স': 64, 'কতগুলো': 65, 'মার্বেল': 66, '১': 67, 'বিস্কুট': 68, 'ডিম': 69, 'তাকে': 70, 'করেছেন': 71, 'কিছু': 72, 'হলে': 73, 'বেশি': 74, '৪০': 75, 'দিয়ে': 76, 'ভাগ': 77, '১৫': 78, 'ও': 79, 'লেবু': 80, 'বেগে': 81, 'আজ': 82, 'টুকরো': 83, 'কলা': 84, 'তাস': 85, 'তাদের': 86, 'চেয়ে': 87, 'থাকে': 88, 'মাছ': 89, '-': 90, 'লজেন্স': 91, '২৫': 92, 'মধ্যে': 93, 'করেছিল': 94, 'শেষ': 95, 'করেছিলেন': 96, 'বছর': 97, 'বাড়ি': 98, 'গুলি': 99, 'বল': 100, 'ব্যয়': 101, 'পাখি': 102, 'কতক্ষণ': 103, 'কয়টি': 104, 'কতটা': 105, 'শুরু': 106, '১২': 107, 'চাষ': 108, 'তুমি': 109, 'খরচ': 110, 'বয়স': 111, 'কেজি': 112, 'আম': 113, 'লম্বা': 114, 'সময়': 115, 'মিসেস': 116, 'হয়': 117, 'হয়েছিল': 118, 'সাথে': 119, 'তৈরি': 120, 'হল': 121, 'এর': 122, 'কেক': 123, 'বাকি': 124, 'লিটার': 125, 'কিনেছিলেন': 126, 'কিলোমিটার': 127, 'নীল': 128, 'পাবে': 129, '১৪': 130, 'কতজন': 131, 'তাহলে': 132, 'কাজ': 133, 'টাকার': 134, 'গেল': 135, 'গাছে': 136, 'ছাত্র': 137, 'করা': 138, 'একসাথে': 139, 'ওজন': 140, 'বোতল': 141, 'দিয়েছিলেন': 142, 'বাবা': 143, 'আমার': 144, 'বাছাই': 145, 'গ্রাম': 146, '১০০': 147, 'লোক': 148, 'কটি': 149, 'বাসে': 150, 'লাল': 151, 'এক': 152, '৬০': 153, 'দিয়েছে': 154, 'কাপ': 155, 'নিয়ে': 156, 'ঘণ্টায়': 157, 'গাড়ি': 158, 'শিশু': 159, 'উদ্যানে': 160, 'পেয়েছিল': 161, 'দেরাজে': 162, 'দোকানে': 163, 'ফুটবল': 164, 'মাসে': 165, 'পরে': 166, '১৬': 167, 'দিয়ে': 168, 'নাশপাতি': 169, '৮০': 170, 'দিল': 171, '১৮': 172, '১১': 173, 'বোতলের': 174, 'আপনার': 175, 'সংখ্যা': 176, 'দেয়': 177, 'ইঞ্চি': 178, 'তৈরী': 179, '২০০': 180, 'ব্যবহার': 181, 'এই': 182, 'যেতে': 183, '১৭': 184, 'গত': 185, 'ঘুরে': 186, 'দিতে': 187, 'আমি': 188, 'লাগবে': 189, 'ছাত্রী': 190, 'ডান্ডাগুলি': 191, '৭০': 192, 'কিনতে': 193, 'দূরে': 194, 'দিনে': 195, 'মাঠে': 196, 'দিলে': 197, 'র': 198, 'তারপরে': 199, 'করেন': 200, 'দিন': 201, 'খেলায়': 202, 'রঙ্গিন': 203, 'খেলা': 204, 'টা': 205, 'বাড়িতে': 206, 'কিনেছিল': 207, '২৪': 208, 'বসে': 209, '\\u200b': 210, 'মা': 211, 'সমান': 212, 'সবুজ': 213, 'অনুষ্ঠানে': 214, 'গেছে': 215, 'নারকেল': 216, 'ভ্রমণ': 217, 'দিয়েছেন': 218, 'খড়ি': 219, '২২': 220, 'আঠা': 221, 'খড়ি': 222, 'ব্লক': 223, 'পৃষ্ঠা': 224, 'ওই': 225, 'বর্তমানে': 226, 'চিনাবাদাম': 227, '১৩': 228, 'ফুল': 229, 'কতটি': 230, 'পারে': 231, 'ছিপি': 232, 'সুপারি': 233, '৫০০': 234, 'বাগানে': 235, '৪৫': 236, '৩৫': 237, 'মিছরি': 238, 'ব্যাগে': 239, 'কতদূর': 240, 'আঁটি': 241, 'প্রত্যেকে': 242, 'বার': 243, 'কাছ': 244, 'যায়': 245, 'কিনে': 246, 'বিক্রি': 247, 'হয়েছে': 248, 'হলুদ': 249, '৭৫': 250, 'পাতা': 251, 'টিকিট': 252, 'গেলে': 253, 'তাঁর': 254, 'সংগ্রহ': 255, 'রাবার': 256, 'তরমুজ': 257, 'রইল': 258, 'শিক্ষার্থী': 259, 'প্রথম': 260, '১৯': 261, 'ভাগে': 262, 'কর্মীরা': 263, '২৭': 264, '২৮': 265, 'আপনি': 266, 'স্কুলে': 267, 'কেকের': 268, 'গোলাপ': 269, 'হয়েছে': 270, 'জল': 271, 'যাবে': 272, 'এ': 273, 'প্যাকেট': 274, '৩৩': 275, 'কটা': 276, 'টাকায়': 277, 'ডোনার': 278, 'বইয়ের': 279, 'জনের': 280, 'প্রতিদিন': 281, 'বাড়ির': 282, 'আসে': 283, 'ফুট': 284, '৩০০': 285, 'পয়েন্ট': 286, 'লাগিয়েছে': 287, 'গোয়ালে': 288, 'কুকুরের': 289, 'লেগেছিল': 290, 'রামের': 291, 'অঙ্কের': 292, 'পথ': 293, 'খাবারের': 294, 'ভাই': 295, 'যাত্রী': 296, 'কে': 297, 'প্রয়োজন': 298, 'দেন': 299, 'ছিলেন': 300, '৫৫': 301, 'পেয়েছিলেন': 302, 'বাজারে': 303, 'খেলার': 304, 'যায়': 305, 'ডোনা': 306, '৩৯': 307, 'সারিতে': 308, 'লাগে': 309, 'রয়েছে': 310, 'চুল': 311, 'বেনু': 312, 'আয়': 313, 'করুনার': 314, '৯০': 315, 'উড়ে': 316, 'জনকে': 317, 'কমলা': 318, 'হয়': 319, 'জুনের': 320, 'ব্যাগ': 321, 'গিয়েছিলেন': 322, 'অঙ্ক': 323, 'রেখেছিল': 324, 'সাইকেল': 325, 'হারিয়ে': 326, 'করবে': 327, '৩৪': 328, 'চান': 329, 'তোমাদের': 330, 'খেলনা': 331, 'নিয়েছিল': 332, 'ছেলে': 333, 'গিয়েছিল': 334, 'পুতুল': 335, 'আমাদের': 336, 'নিয়ে': 337, 'করলে': 338, 'স্টিকার': 339, '৩৬': 340, 'পা': 341, 'নেয়': 342, 'টেবিলে': 343, '৩৮': 344, 'করার': 345, 'দলে': 346, 'শিক্ষক': 347, 'করলেন': 348, 'পেয়ারা': 349, 'উদ্যান': 350, 'পাথর': 351, 'কুকুরছানা': 352, 'অরুনের': 353, 'বোন': 354, 'মানিকের': 355, 'সমানভাবে': 356, 'পেয়েছে': 357, '২৯': 358, 'তরুণ': 359, 'রাম': 360, 'আরো': 361, 'পয়সা': 362, 'ঝুড়িতে': 363, '৪৯': 364, 'ছোট': 365, 'বাচ্চা': 366, 'বাস': 367, 'আলু': 368, 'দূরত্ব': 369, '0': 370, 'পান': 371, 'দোকান': 372, 'মৌমাছি': 373, 'দুটি': 374, 'পার্কে': 375, '৮৮': 376, 'দুই': 377, 'বন্ধু': 378, 'একজন': 379, 'দ্বিতীয়': 380, 'সেখানে': 381, 'তুলেছিল': 382, '৪৭': 383, 'যুক্ত': 384, 'উড়েছিল': 385, 'বাঁশি': 386, 'রাতে': 387, 'চিড়িয়াখানায়': 388, 'রান': 389, 'গাজর': 390, 'মিষ্টি': 391, 'খাতা': 392, 'থাকল': 393, 'তরুনের': 394, 'যোগ': 395, 'বিড়াল': 396, 'চয়ন': 397, 'হেঁটে': 398, '২১': 399, '২৩': 400, '১৫০': 401, 'ক': 402, 'সমুদ্রে': 403, '৪১': 404, '১২০': 405, 'সাদা': 406, 'জগিং': 407, 'দরকার': 408, '2': 409, 'কুমড়ো': 410, 'টন': 411, 'একর': 412, 'রসগোল্লা': 413, 'নেয়': 414, 'ধরে': 415, 'কাগজের': 416, '৪০০': 417, '৩১': 418, 'সন্ধান': 419, 'কিনেছেন': 420, 'শ্যাম': 421, 'মানিক': 422, 'করছিল': 423, 'প্রথমে': 424, '৫৮': 425, 'অংশ': 426, 'পায়': 427, 'তাক': 428, '৫৬': 429, 'স্কুল': 430, 'তোমাকে': 431, '৪২': 432, 'পেয়েছেন': 433, 'এসে': 434, 'দিনের': 435, 'কুকুর': 436, 'দিলেন': 437, 'লিচু': 438, 'তিন': 439, 'মেয়ে': 440, 'সেন্টিমিটার': 441, 'দিয়েছিল': 442, 'খেয়েছিল': 443, 'হাঁসদা': 444, 'আসন': 445, 'মিনিট': 446, 'হেঁটেছেন': 447, 'উঠল': 448, 'বন্ধুদের': 449, 'খেয়েছিলো': 450, 'দ্রুত': 451, 'কেনার': 452, 'খেয়েছে': 453, 'একই': 454, 'ঘন্টায়': 455, 'শেষে': 456, 'রাখলো': 457, 'রাহুলের': 458, 'চয়নের': 459, '০০': 460, 'ডিভিডি': 461, 'জন্মদিনের': 462, 'ক্লাসে': 463, 'হাঁস': 464, 'আপেলের': 465, 'হলো': 466, 'একটা': 467, 'নতুন': 468, 'বিড়ালছানা': 469, 'আমিনার': 470, 'রেখে': 471, 'শহরে': 472, 'চালাতে': 473, '৪টি': 474, 'খড়ের': 475, 'থাকতে': 476, 'উপার্জন': 477, 'রঙিন': 478, 'উপমার': 479, 'জন্যে': 480, '৪৮': 481, 'তখন': 482, 'বাটি': 483, 'কলার': 484, 'কিনল': 485, 'বৎসর': 486, 'ঘর': 487, '৩৭': 488, 'এমিলির': 489, 'এসেছিল': 490, 'খাবার': 491, 'জিনিস': 492, 'গিয়ে': 493, 'বাজার': 494, 'বোনের': 495, 'দেখেছেন': 496, 'বৃহত্তম': 497, 'সংখ্যার': 498, '৮৬': 499, 'ফুলদানিতে': 500, 'বেছে': 501, 'পরিবার': 502, 'পড়তে': 503, 'সুমন': 504, 'মাসিক': 505, 'ধার': 506, 'নিয়েছে': 507, 'উপহার': 508, 'লালির': 509, 'করল': 510, 'নেওয়ার': 511, 'রাখে': 512, 'দাদার': 513, 'জমি': 514, '২০০০': 515, 'খাতার': 516, '৩২': 517, '৯৫': 518, 'চালিয়েছিল': 519, 'রয়েছেন': 520, 'চিনি': 521, 'খায়': 522, 'পয়সা': 523, 'মালা': 524, 'বাগান': 525, 'হারিয়ে': 526, '৬০০': 527, 'শ্যামকে': 528, 'রেখেছে': 529, 'খেলাতে': 530, 'মধুর': 531, 'তুলী': 532, 'সলিলের': 533, 'পেঁয়াজ': 534, 'শ্যামের': 535, 'কাঁচি': 536, 'জামা': 537, 'মিনিটে': 538, 'কাগজ': 539, 'অন্য': 540, 'বাবার': 541, 'কিনলেন': 542, 'ইট': 543, 'কিমি': 544, 'কাকলির': 545, 'করুনা': 546, 'যাতে': 547, 'পাঠাগারে': 548, 'পাওয়া': 549, 'ব্যয়': 550, 'ক্ষুদ্রতম': 551, 'টেবিলের': 552, 'নিল': 553, 'গরু': 554, '৫৪': 555, 'অনিমার': 556, 'শ্রমিকদের': 557, 'কিরণের': 558, 'ঝুড়িতে': 559, 'গিয়েছিল': 560, 'বিদ্যালয়ের': 561, 'গুণ': 562, 'পারবেন': 563, 'গিয়ে': 564, '৭৮': 565, 'গতকাল': 566, 'কিরণ': 567, 'বেড়াত': 568, 'করবেন': 569, 'পাউন্ড': 570, 'চালিত': 571, 'হাড়': 572, 'লাগানো': 573, 'ঘরটি': 574, 'মুরগি': 575, 'কেটে': 576, 'লাগাবে': 577, '৪৪': 578, 'এমিলি': 579, 'পেতে': 580, 'স্টপে': 581, 'দৌড়ায়': 582, 'ইশার': 583, 'দাদা': 584, 'ফুলের': 585, 'মধু': 586, 'ভারী': 587, 'টিকিটের': 588, 'মিটার': 589, 'মাংসের': 590, 'গাছটিতে': 591, 'কিলোমিটারে': 592, 'ভাড়া': 593, 'চকোলেট': 594, 'রোল': 595, 'দুজনের': 596, 'বন্ধুর': 597, 'রোপণ': 598, 'যতীনের': 599, 'বসল': 600, 'ঘেউ': 601, 'রবিনের': 602, 'রাখতে': 603, 'রেখেছিলেন': 604, 'স্কুলের': 605, 'ব্যাক্তির': 606, 'শ্রেণীতে': 607, '৬৪': 608, 'সারার': 609, 'এখানে': 610, 'কেনে': 611, 'হারানের': 612, 'গাড়িতে': 613, '২৫০': 614, 'গ্যাসে': 615, 'ভাল': 616, '৫৩': 617, 'এসেছে': 618, 'প্রত্যেক': 619, 'লাইন': 620, 'থাকলে': 621, 'প্রত্যেককে': 622, 'আয়': 623, 'খেয়ে': 624, 'তিস্তা': 625, 'খুঁজে': 626, 'কালো': 627, 'হাসিনা': 628, 'পরিমাণ': 629, 'পরের': 630, 'বছরে': 631, 'বিদ্যালয়': 632, 'বাড়িতে': 633, 'চকলেট': 634, 'কম': 635, 'করছে': 636, 'পেন': 637, 'লরি': 638, 'সন্তানের': 639, 'স্তূপে': 640, '৬৬': 641, 'পর': 642, '২টি': 643, 'খেলায়': 644, 'ঘন্টায়': 645, 'ডজন': 646, 'জয়া': 647, 'আলেয়ার': 648, 'সারি': 649, 'সংখ্যক': 650, 'খেলনার': 651, 'বইটিতে': 652, 'অনিতা': 653, 'যদু': 654, 'শ্যামল': 655, 'তেল': 656, 'করত': 657, 'বেড়ালো': 658, 'গল্পের': 659, '3': 660, 'সহ': 661, 'যাচ্ছেন': 662, 'রাখা': 663, 'বড়': 664, '২৬': 665, 'তে': 666, '৭০০': 667, 'মাসের': 668, 'বাদাম': 669, 'কুমড়ো': 670, 'যিশুর': 671, 'সন্দেশ': 672, 'বরুনের': 673, 'শামুক': 674, 'প্রতিবার': 675, 'অনু': 676, 'জোয়ান': 677, 'ল্যাপটপ': 678, 'বাকিগুলি': 679, '৩টি': 680, '৭৯': 681, 'সকাল': 682, 'গোপালের': 683, '1': 684, '৫২': 685, 'হয়ে': 686, '৪৩': 687, '৪৬': 688, '৮৭': 689, 'অবসর': 690, 'সময়ে': 691, 'জয়ন্তর': 692, 'মূলত': 693, 'হ্রদে': 694, 'বান্ডেল': 695, 'ব্যক্তি': 696, 'গতিতে': 697, '8': 698, 'জন্মদিনে': 699, 'আমের': 700, 'কোন': 701, 'শ্রেণিতে': 702, 'জিতেছে': 703, 'চলে': 704, 'কি': 705, 'আমরা': 706, 'আগে': 707, '৫টি': 708, 'শ্যামলের': 709, 'ছিপির': 710, 'কোনির': 711, 'বলের': 712, 'চেয়ার': 713, 'বাঁধাকপি': 714, 'কুকি': 715, 'গোল': 716, 'পারবে': 717, 'কিনেছে': 718, 'ওলকপি': 719, 'বয়সের': 720, 'চড়েছিল': 721, 'অঙ্কন': 722, 'পেন্সিলটি': 723, 'মিনির': 724, 'বেড়ায়': 725, 'চালায়': 726, 'কয়টা': 727, 'ছবি': 728, 'টেবিল': 729, 'আরিফ': 730, 'ফটিক': 731, 'দেখা': 732, 'পুরুষ': 733, 'মহিলা': 734, 'দিদি': 735, 'দৌড়ে': 736, 'সপ্তাহ': 737, 'ময়দা': 738, 'আলমারিতে': 739, 'বেড়াতে': 740, 'গানের': 741, 'যা': 742, 'করতো': 743, 'ক্লাস': 744, 'রনি': 745, 'থাকেন': 746, 'তৃতীয়': 747, 'প্রাথমিক': 748, 'পেন্সিলের': 749, 'টাকায়': 750, 'খামারে': 751, '৯৯': 752, 'কাকা': 753, 'দ্বিতীয়': 754, 'কিনলে': 755, 'পয়সার': 756, 'বা': 757, 'বিদ্যালয়ে': 758, 'বলা': 759, 'বইতে': 760, 'টিনার': 761, 'শাড়ি': 762, 'উপস্থিত': 763, 'ডলির': 764, 'ফল': 765, 'আইসক্রিম': 766, 'পাত্র': 767, 'পুরো': 768, 'নেন': 769, 'গাড়ির': 770, 'কাঠ': 771, 'কাঠের': 772, 'ব্যাট': 773, 'ট্রেনে': 774, 'দেওয়া': 775, 'তা': 776, '5': 777, '১৪০': 778, 'মিনু': 779, 'সলিল': 780, '৭৬': 781, '৭৩': 782, 'ফারুকের': 783, 'বেগুনী': 784, 'আলেয়া': 785, '৬২': 786, 'খেলনাগুলিতে': 787, 'মিনার': 788, 'বাসা': 789, 'বিষয়ে': 790, 'দেখেছিলেন': 791, 'কান': 792, 'পরিবেশন': 793, 'যে': 794, 'পাতায়': 795, 'চার': 796, 'লিখল': 797, 'মনি': 798, 'রানার': 799, '৫১': 800, 'জয়ের': 801, '৭২': 802, 'রাতের': 803, 'দৌড়েছিলো': 804, 'ফেলেন': 805, 'বালতি': 806, 'আসনে': 807, 'তিতলির': 808, 'মারা': 809, 'বাক্সের': 810, 'কাপে': 811, 'পাবেন': 812, 'ইতিমধ্যে': 813, 'দেয়': 814, '১১০': 815, 'ব্যক্তির': 816, 'দু': 817, 'চাঁদা': 818, 'হাজার': 819, 'সানার': 820, 'যাওয়ার': 821, 'ভাঙা': 822, 'সারা': 823, '১২৫': 824, 'নয়নের': 825, 'নিয়েছেন': 826, 'জেনের': 827, 'টিয়ার': 828, 'ফেলে': 829, 'মানি': 830, 'পোষা': 831, 'জোসেফের': 832, 'বরফ': 833, 'পদক': 834, 'নৌকায়': 835, 'অতিথি': 836, 'ফেরত': 837, 'ঘরে': 838, 'গ্যাস': 839, 'সমস্ত': 840, 'দেখতে': 841, '৯৭': 842, 'কয়জন': 843, '৮৯': 844, 'কিনলো': 845, 'গুলো': 846, 'রাহুল': 847, 'রাজিব': 848, 'ফিরে': 849, 'শালিখ': 850, 'বাড়ি': 851, 'লাগিয়েছিল': 852, 'লেগেছে': 853, 'দৌড়েছিল': 854, 'মোহন': 855, 'আখরোট': 856, 'বিভক্ত': 857, 'পাখী': 858, 'তাকটিতে': 859, 'বিন্দু': 860, 'চারুর': 861, 'নিতে': 862, 'কাপড়': 863, 'চালিয়ে': 864, 'পরিবারের': 865, 'সময়': 866, 'বর্তমান': 867, 'কমল': 868, 'দৌড়ে': 869, 'এল': 870, 'লিখতে': 871, 'থালায়': 872, 'দুপুরে': 873, 'খেয়েছে': 874, '৯৬': 875, 'নিয়েছিলেন': 876, 'চাল': 877, 'জুন': 878, 'গগনের': 879, 'জোসেফকে': 880, 'জামাতে': 881, 'মনীষা': 882, 'শানের': 883, 'বীজ': 884, 'জয়েসের': 885, 'বেড়াচ্ছিলো': 886, '৬৮': 887, 'নীলের': 888, 'বিড়ালের': 889, 'ধারণ': 890, 'বন্ধুকে': 891, 'পারি': 892, 'পার্টির': 893, 'পেল': 894, 'বেড়েছে': 895, 'বিদ্যালয়ে': 896, 'সঙ্গে': 897, 'হাঁটার': 898, 'দেওয়া': 899, '১৩০': 900, 'ছাগলের': 901, 'কয়েকটি': 902, 'নয়ন': 903, 'মিলন': 904, '৬৭': 905, 'আলিয়ার': 906, 'অনুর': 907, 'শনিবার': 908, 'পাতাবাহার': 909, 'জলে': 910, 'জেমস': 911, 'পার্টিতে': 912, 'বাইক': 913, 'জেনি': 914, 'সহপাঠী': 915, 'লিলার': 916, 'খেল্না': 917, 'শ্রেনীর': 918, 'ঘুঁটি': 919, 'বস্তায়': 920, 'বাৎসরিক': 921, '৯৮': 922, 'সোনার': 923, 'পায়েলের': 924, 'পুকুরে': 925, 'পেড়েছিল': 926, 'তিনজনের': 927, 'ক্ষেত্রে': 928, 'মোহিতের': 929, 'ঈশানের': 930, 'নুডলস': 931, 'কতটাকা': 932, 'জালান': 933, 'সরিয়ে': 934, 'যীশুর': 935, 'কণিকার': 936, 'উৎপাদন': 937, 'যাত্রা': 938, 'বৃষ্টি': 939, 'জলহস্তী': 940, 'জোসেফ': 941, 'বেড়ার': 942, 'উপর': 943, 'শিলার': 944, '৮৫': 945, 'পরিষ্কার': 946, '১৫৬': 947, 'সাপ': 948, 'দিম': 949, '৯০০': 950, 'টুকরা': 951, '৬৯': 952, 'কতো': 953, 'মুদিখানাতে': 954, 'কাগজে': 955, 'ঐ': 956, 'বসবাস': 957, 'গরুর': 958, 'মানুষ': 959, 'আগামীকাল': 960, 'জুনকে': 961, '১০৫': 962, '৫৯': 963, 'পড়েছি': 964, 'চড়েছিলেন': 965, 'হারান': 966, 'পায়ে': 967, 'গেছিলো': 968, 'জোজোর': 969, 'বাচ্চাদের': 970, 'পোশাকের': 971, 'ভিতরে': 972, 'পালান': 973, '৯১': 974, '০৮': 975, 'লতা': 976, 'ঘোরাফেরা': 977, 'দীর্ঘ': 978, 'চায়': 979, 'সম্পর্কিত': 980, 'বাকীগুলো': 981, 'আমন্ত্রণ': 982, 'পড়েছিলেন': 983, 'অধ্যায়': 984, 'গুন': 985, 'কানে': 986, 'পোষ্য': 987, 'থিয়েটারে': 988, 'বাগানের': 989, 'ঘন্টার': 990, 'নিখুঁত': 991, 'ভ্রমণে': 992, 'চিপ': 993, 'রেসিপি': 994, 'হেঁটেছি': 995, 'মল্লিকা': 996, 'গেছিলেন': 997, 'জুলিয়া': 998, 'চামচ': 999, 'লিছু': 1000, 'বাবুর': 1001, '৬৫': 1002, 'টাকাতে': 1003, 'চাকা': 1004, '৩০০০': 1005, 'এখনও': 1006, 'ছেলেকে': 1007, 'সকালে': 1008, 'গেলেন': 1009, 'উড়ে': 1010, 'মেলা': 1011, 'প্রতিযোগিতা': 1012, 'ফলের': 1013, 'রাখল': 1014, 'শ্রমিকের': 1015, 'মঙ্গলবার': 1016, 'মাস': 1017, 'খেতে': 1018, 'বিকেলে': 1019, 'ডায়ানা': 1020, 'সুকেশের': 1021, 'মোহনের': 1022, 'সানি': 1023, '৭টি': 1024, 'কমলের': 1025, 'ফুটবলের': 1026, 'গোলাপী': 1027, 'এগুলি': 1028, '৫৭': 1029, 'পলাশের': 1030, '৬৩': 1031, 'পালানের': 1032, 'মিলনের': 1033, 'জয়ার': 1034, 'তাপসের': 1035, 'নর্মদা': 1036, 'শিমা': 1037, 'দৌড়ালো': 1038, 'কতক্ষন': 1039, 'পলের': 1040, 'শিক্ষার্থীরা': 1041, 'দেখেছে': 1042, 'মৌমি': 1043, 'রেসিপিতে': 1044, 'তৈরির': 1045, 'করি': 1046, 'ডিমের': 1047, 'মাইলের': 1048, 'রেখেছেন': 1049, '৯২': 1050, 'সেই': 1051, 'ছাগল': 1052, 'শ্রমিকরা': 1053, 'নারিকেল': 1054, 'ঝুমার': 1055, 'সুমনার': 1056, 'তুলেছিলেন': 1057, 'রাজার': 1058, 'চিনির': 1059, 'কতদিন': 1060, 'সেগুলি': 1061, 'কেবল': 1062, 'কেনেন': 1063, 'বেগুনি': 1064, 'মাছের': 1065, 'বালি': 1066, 'মৌমাছির': 1067, 'চেতনের': 1068, 'বসলো': 1069, 'পেঁচা': 1070, 'হাসিনার': 1071, 'অর্জন': 1072, 'লাইব্রেরি': 1073, 'সেমি': 1074, 'সিডি': 1075, 'মুন্সির': 1076, '২২৩': 1077, '১২৭': 1078, 'যাবেন': 1079, 'চড়েছিল': 1080, 'পোকা': 1081, 'চালিয়েছিলেন': 1082, 'দাদির': 1083, 'ওডোমিটারটি': 1084, 'ভক্তরা': 1085, 'খবরের': 1086, 'ধোপাকে': 1087, 'গণিত': 1088, 'রবিন': 1089, 'অয়ন': 1090, 'বয়স': 1091, 'সেকেন্ড': 1092, 'খড়ের': 1093, 'জাম': 1094, 'যতীন': 1095, 'পরিকল্পনা': 1096, '৮৩': 1097, 'পারলে': 1098, 'মোহিত': 1099, 'চুরি': 1100, 'যার': 1101, 'গাড়িতে': 1102, 'দেখে': 1103, 'মানু': 1104, 'পামেলা': 1105, 'খরগোশ': 1106, 'টোটা': 1107, 'চালিয়েছিল': 1108, 'পড়েছে': 1109, 'সমিক': 1110, 'স্রিজন': 1111, 'খেলাধুলার': 1112, 'মুর্শিদাবাদ': 1113, 'পূরণ': 1114, 'নির্মাণ': 1115, 'পাত্রের': 1116, 'ঘুড়ি': 1117, 'গতবছর': 1118, 'এবছর': 1119, 'দান': 1120, 'কাচের': 1121, 'বালির': 1122, 'আনল': 1123, 'যোগফল': 1124, 'তিনটি': 1125, 'গল্প': 1126, 'সুমিতা': 1127, '১২২': 1128, 'ভেঙে': 1129, 'রয়ে': 1130, '৮১': 1131, 'সুজিত': 1132, 'সাঁতারের': 1133, 'ফোলাল': 1134, 'কেকে': 1135, 'সুপর্ণার': 1136, 'মাঠ': 1137, 'লিটারে': 1138, 'সাজানো': 1139, 'বন্ধুবান্ধব': 1140, 'ঠাকুরমার': 1141, 'খেলে': 1142, '১৮৭': 1143, 'ওম': 1144, 'যখন': 1145, 'বিশ্রাম': 1146, 'দাদুর': 1147, 'পিকুর': 1148, '১১৯': 1149, '৫৫০': 1150, 'পিনাকীর': 1151, 'কিন্তু': 1152, 'রিতা': 1153, 'গেলো': 1154, 'ভাইকে': 1155, 'বইয়ে': 1156, 'ময়দা': 1157, 'রংপেন্সিল': 1158, 'জোনাকি': 1159, 'খেয়ে': 1160, 'আবর্জনা': 1161, 'ব্রাত্যর': 1162, 'ডলি': 1163, 'মিঃ': 1164, 'থালাতে': 1165, 'বালতিতে': 1166, 'তীক্ষ্ণ': 1167, 'গায়েনের': 1168, 'ছাত্রদের': 1169, 'জজ': 1170, 'হাঁসদার': 1171, '৬টি': 1172, 'বিজনের': 1173, 'উৎপলের': 1174, 'অনিমা': 1175, 'ফুলকির': 1176, 'গাড়ি': 1177, 'শিক্ষার্থীদের': 1178, 'মরিচ': 1179, 'সীমানাটি': 1180, 'থাকা': 1181, 'খুড়তুত': 1182, 'জলাভূমিতে': 1183, 'গুরুর': 1184, 'বাবল': 1185, 'গামের': 1186, 'গুবরে': 1187, 'পোকা': 1188, 'বাব': 1189, 'বেঞ্ছ': 1190, 'ছুটিতে': 1191, 'লুসির': 1192, 'বিড়ালের': 1193, '২১৯': 1194, '৫৬৩': 1195, 'পৃষ্ঠার': 1196, 'স্টেশনে': 1197, 'কমিক': 1198, 'প্রত্যেকটি': 1199, 'তিনজনে': 1200, 'শ্রেণি': 1201, 'আনা': 1202, 'হয়ে': 1203, 'কলকাতা': 1204, 'দামের': 1205, 'টুনি': 1206, '৫০০০': 1207, 'রাজু': 1208, 'সিমেন্ট': 1209, '১০টি': 1210, 'অবশিষ্ট': 1211, 'যথাক্রমে': 1212, 'সরস্বতী': 1213, 'ছাতা': 1214, 'পড়ে': 1215, 'তন্ময়': 1216, 'দিয়েছেন': 1217, 'সুনীল': 1218, 'পেনসিল': 1219, 'সানু': 1220, 'সোমবার': 1221, 'টিফিনের': 1222, 'টেনি': 1223, 'আলোক': 1224, 'কেটেছিল': 1225, 'অনুপমের': 1226, '২০৫': 1227, 'বিমলের': 1228, 'দেরাজ': 1229, 'জগনের': 1230, 'লিসা': 1231, 'জোশের': 1232, 'মাধুর': 1233, 'ভরা': 1234, 'শ্রেণির': 1235, '১২৯': 1236, 'জলের': 1237, 'অপরটি': 1238, 'পারেন': 1239, 'ফেলেছেন': 1240, '২৮৭': 1241, 'নিনা': 1242, 'থাকলো': 1243, 'পেলো': 1244, 'ছাত্রছাত্রী': 1245, 'করো': 1246, 'বান্টু': 1247, 'কোনো': 1248, 'ড্রামে': 1249, 'বড়ো': 1250, 'শ্রেণী': 1251, 'সপ্তাহে': 1252, 'বালতির': 1253, 'স্বপন': 1254, 'তুলে': 1255, 'টিনা': 1256, 'ভগ্নাংশ': 1257, 'নেমে': 1258, 'রবার': 1259, 'পড়ে': 1260, 'বসতে': 1261, '১১২': 1262, 'রাস্তা': 1263, 'পৃথা': 1264, 'বাইরে': 1265, 'জয়িতার': 1266, 'মিছরী': 1267, 'জেনিফার': 1268, 'খাঁচার': 1269, 'লিনা': 1270, 'বেরিয়ে': 1271, 'সংস্থা': 1272, 'রঙ': 1273, 'রুবির': 1274, 'লালন': 1275, 'মোনালিসার': 1276, 'সংগ্রহে': 1277, 'খেয়েছিলেন': 1278, 'মন্ডলের': 1279, 'শেঁকেছেন': 1280, 'গ্যাসের': 1281, 'ঢেকে': 1282, 'সানির': 1283, 'খালি': 1284, 'চেয়ারের': 1285, '১১৫': 1286, '২২৪': 1287, '৪০৩': 1288, '১৮০': 1289, 'এসেছিলেন': 1290, 'শিক্ষিত': 1291, 'পারো': 1292, 'বড়': 1293, 'গোরুর': 1294, '১৫০০': 1295, '১২০০': 1296, 'সেটি': 1297, 'ছানা': 1298, 'ভাঁড়ে': 1299, 'বরুন': 1300, 'আলিয়া': 1301, 'মৌমিকে': 1302, 'মামুনের': 1303, 'প্রলয়': 1304, 'বাটিতে': 1305, 'গাছের': 1306, 'পোস্টকার্ডের': 1307, 'মি': 1308, 'রমেন': 1309, 'ক্রিকেট': 1310, '১৪২': 1311, 'ডোনাকে': 1312, 'সু': 1313, 'বুকু': 1314, 'শাল': 1315, 'ববির': 1316, 'লিনার': 1317, 'পোশাক': 1318, 'হেঁটেছিল': 1319, 'অর্ডার': 1320, 'উপাদান': 1321, 'কার্তিক': 1322, 'দুজনেই': 1323, 'টিয়াপাখি': 1324, 'টুপি': 1325, '’': 1326, '৪টে': 1327, 'পার্থের': 1328, 'হাতে': 1329, '৩৪৪': 1330, 'প্যাকেজে': 1331, '১৪৫': 1332, 'প্রতিবেশীকে': 1333, 'মৌচাকে': 1334, 'পথে': 1335, 'লোকদের': 1336, 'সিলা': 1337, 'গেছিল': 1338, 'বহন': 1339, 'অয়নের': 1340, 'চারটি': 1341, 'চতুর্থ': 1342, 'হিসেবে': 1343, 'সেদিন': 1344, 'অনুপস্থিত': 1345, '৭৭': 1346, 'পাঁচটি': 1347, 'চেয়ে': 1348, 'একতলায়': 1349, 'দোতলায়': 1350, 'তলায়': 1351, '১৭০': 1352, 'কমলালেবুর': 1353, 'এলেন': 1354, '\\u200c': 1355, 'পায়রা': 1356, 'করিল': 1357, 'ঘড়ির': 1358, 'দেবে': 1359, 'মুরগির': 1360, 'দিয়েছে': 1361, 'সঞ্জয়': 1362, 'পেরেছে': 1363, 'কিশলয়': 1364, 'মৃন্ময়': 1365, 'পেয়েছেন': 1366, 'ভালো': 1367, 'ফসল': 1368, 'সামির': 1369, 'পড়লে': 1370, 'নোট': 1371, 'না': 1372, '১মাস': 1373, '১৩৬': 1374, 'ভাত': 1375, 'খাবারে': 1376, 'হারুন': 1377, 'নীনার': 1378, 'বাদামী': 1379, '৯টি': 1380, '২৫৬': 1381, 'আরিফের': 1382, 'মনুর': 1383, 'কেনা': 1384, 'খেলবার': 1385, 'জয়ন্ত': 1386, 'ভানুর': 1387, 'ললিতার': 1388, 'রাঘবের': 1389, 'উত্তম': 1390, 'সৌমেনের': 1391, 'কৃষক': 1392, 'ববি': 1393, 'কাশিম': 1394, 'মিছরিগুলি': 1395, 'কাকন': 1396, 'জুয়ান': 1397, 'লিনি': 1398, 'পড়েন': 1399, 'প্যাকেটে': 1400, 'লাঠি': 1401, 'সাঁতার': 1402, 'কাটছে': 1403, 'বালতিটি': 1404, 'আয়েষার': 1405, 'অনির': 1406, 'জুয়ানের': 1407, 'শূকর': 1408, 'আত্রেয়ী': 1409, 'বান্ডেলে': 1410, 'পৃষ্ঠায়': 1411, 'শার্ট': 1412, 'কড়া': 1413, 'আঠার': 1414, 'আসছেন': 1415, 'কেনিয়ার': 1416, 'কিরণকে': 1417, 'সাবালক': 1418, 'মুর্শিদাবাদে': 1419, 'জারে': 1420, 'টুকরোগুলি': 1421, 'ধোয়াতে': 1422, 'সাবানের': 1423, 'গুঁড়ো': 1424, 'ধোতে': 1425, 'সাবান': 1426, 'উপস্থিতি': 1427, 'আশিস': 1428, 'পড়েছেন': 1429, 'শুক্রবার': 1430, '০৫': 1431, 'হেঁটেছে': 1432, 'ঘুড়ির': 1433, '১০৮': 1434, 'গাড়ির': 1435, 'দেখেননি': 1436, 'মূল্য': 1437, 'গোরু': 1438, 'বেচে': 1439, 'দোকানদার': 1440, 'লিখলে': 1441, '৩০টি': 1442, 'কজন': 1443, '৩৫৬': 1444, 'সবাই': 1445, '৮০০': 1446, 'রযেছে': 1447, 'লাগানোর': 1448, '৮টি': 1449, 'আশা': 1450, '৩৭৫': 1451, 'বুধবার': 1452, 'সমানভাগে': 1453, 'পেনের': 1454, '৮২': 1455, 'সমষ্টি': 1456, 'পর্যন্ত': 1457, 'গড়ে': 1458, 'খায়': 1459, 'মানসের': 1460, 'লিসার': 1461, 'বাকী': 1462, '১৩৪': 1463, 'মনিকার': 1464, 'জনি': 1465, 'রমেশ': 1466, 'খেলনাতে': 1467, 'টায়ারে': 1468, 'ফেলল': 1469, 'জনার্দন': 1470, 'জগতের': 1471, 'জগত': 1472, '৭৪': 1473, 'গাড়ীতে': 1474, 'হাঁটছিল': 1475, 'জুয়ানকে': 1476, 'আমিনের': 1477, 'বিমান': 1478, 'জীবন': 1479, 'জানিয়েছিল': 1480, 'হারা': 1481, 'সুমা': 1482, 'বারিনের': 1483, '৬৭৯': 1484, '২১২': 1485, '১০১': 1486, 'জন্মদিন': 1487, 'শ্রেনীতে': 1488, 'পরিবারে': 1489, 'পেড়ে': 1490, 'অফিস': 1491, 'গ্রামের': 1492, 'কয়েকটি': 1493, 'কথা': 1494, 'পেলে': 1495, 'দেখি': 1496, 'দৌড়েছেন': 1497, '১টি': 1498, 'দরজা': 1499, 'গড়': 1500, 'সিতার': 1501, 'সৌরভ': 1502, 'গঠিত': 1503, 'বিয়োগফল': 1504, 'পরীক্ষায়': 1505, 'ইংরেজি': 1506, 'বাংলা': 1507, 'বিয়োগ': 1508, 'ফুলে': 1509, 'পাপড়ি': 1510, 'পেন্': 1511, 'গুণফল': 1512, 'অতিক্রম': 1513, 'শ্রমিক': 1514, 'মজুরি': 1515, 'ঝড়ে': 1516, 'মতিন': 1517, 'পশু': 1518, 'আকাশে': 1519, 'দিদির': 1520, 'সমুদ্রতীরে': 1521, 'সমুদ্র': 1522, 'পেড়েছে': 1523, 'রামু': 1524, 'অনিল': 1525, 'মোনা': 1526, '১০০০': 1527, 'প্রীতম': 1528, 'অটোরিকশার': 1529, 'কষতে': 1530, 'কিলো': 1531, 'চড়ে': 1532, 'ছড়ায়': 1533, 'রকম': 1534, 'ফেরৎ': 1535, 'বিস্কুটের': 1536, 'বুনতে': 1537, 'ওষুধ': 1538, 'পকোড়া': 1539, 'সার': 1540, 'ব্যাকটিরিয়া': 1541, '১৮টি': 1542, 'বনির': 1543, 'জেনির': 1544, 'ক্রিস্টির': 1545, 'টমির': 1546, 'রামার': 1547, 'ওমর': 1548, 'টিফিন': 1549, '১১৮': 1550, 'দুর্জয়': 1551, 'আলেয়াকে': 1552, 'তৃষা': 1553, 'পারেনি': 1554, 'দুর্নিবার': 1555, 'গোরার': 1556, 'মামনের': 1557, 'শিশিরের': 1558, 'বাবিনের': 1559, 'অজিতের': 1560, 'অঞ্জলির': 1561, 'ঈশিতার': 1562, 'জোসের': 1563, 'মিশেলের': 1564, 'মিশেল': 1565, 'জাহাজে': 1566, 'মাল': 1567, 'মাফলার': 1568, 'ইঞ্জিনিয়াররা': 1569, 'ঠিক': 1570, 'এলাকাতে': 1571, 'গম': 1572, 'দেশে': 1573, 'শস্য': 1574, 'গজ': 1575, 'তুলো': 1576, 'নমুনায়': 1577, 'বিদ্যালয়গুলি': 1578, 'ফারুক': 1579, 'তাল': 1580, 'স্কেল': 1581, 'কলসি': 1582, 'সায়ন': 1583, 'সায়নের': 1584, 'কিসমিস': 1585, 'তুষারপাত': 1586, 'আইসক্রিমের': 1587, 'নথিভুক্ত': 1588, 'আলোকবর্ষ': 1589, 'দই': 1590, 'বলয়ের': 1591, 'প্রশস্ত': 1592, 'কিলোগ্রাম': 1593, 'মৌলির': 1594, 'ফুটবলে': 1595, 'সিমা': 1596, 'বাদল': 1597, 'করিমের': 1598, 'জেনিফারের': 1599, '7': 1600, 'বাক্সগুলিতে': 1601, 'ফাতেমা': 1602, 'আবশ্যক': 1603, 'জুলি': 1604, '৮৪': 1605, 'বেড়াল': 1606, 'রালফের': 1607, 'কালুর': 1608, 'রাল্ফের': 1609, 'বেড়াতে': 1610, 'আনির': 1611, 'মাধু': 1612, 'দেওয়ালে': 1613, '৬৫৮৯৯': 1614, 'লোকের': 1615, 'ঝর্ণাটির': 1616, 'ঝর্ণায়': 1617, 'ঝর্ণার': 1618, '২৮০': 1619, 'ডান': 1620, 'বাম': 1621, 'সরবরাহের': 1622, '৫৩২': 1623, 'সিনেমা': 1624, 'দেখছে': 1625, 'থিয়েটারের': 1626, '৭৫০': 1627, 'গ্যারেজে': 1628, 'সাপটি': 1629, 'সাপের': 1630, '১২মাইল': 1631, 'হারে': 1632, 'পড়ছেন': 1633, 'পৃষ্ঠাগুলি': 1634, 'আপনাকে': 1635, 'খাদ্যশস্য': 1636, 'পরিবেশনে': 1637, 'কুকিজ': 1638, 'কুকিজগুলি': 1639, 'সপ্তাহের': 1640, 'পৌছালো': 1641, 'স্কোর': 1642, 'টানা': 1643, 'ববের': 1644, 'বিক্রয়ের': 1645, 'চিপসের': 1646, 'মুনুর': 1647, 'দূর': 1648, 'গতি': 1649, 'হাঁটব': 1650, 'হাঁটি': 1651, 'লাগল': 1652, 'শিক্ষকের': 1653, 'বলগুলি': 1654, 'সেরা': 1655, 'এগুলির': 1656, 'এমন': 1657, 'ভাবে': 1658, 'যেগুলিতে': 1659, 'বাল্ক': 1660, 'মিছরির': 1661, 'কুকুরটির': 1662, 'জালালের': 1663, 'বয়সী': 1664, 'কাশির': 1665, 'মেয়ে': 1666, 'প্রাণী': 1667, 'পাড়ার': 1668, 'তৃতীয়': 1669, 'দিদিকে': 1670, 'সানা': 1671, 'মেলায়': 1672, 'সুদিপ্তা': 1673, 'সজল': 1674, 'গোয়ালে': 1675, 'দেবার': 1676, '২১০': 1677, '৪৫০': 1678, 'পাশ': 1679, 'ফেল': 1680, 'সমীর': 1681, 'কষে': 1682, 'হয়েছিল': 1683, 'পিঠে': 1684, 'প্রণালীতে': 1685, 'খেলেছে': 1686, 'দলটি': 1687, 'বেশিরভাগ': 1688, 'পরাজিত': 1689, 'তনিমার': 1690, 'সুস্মিতা': 1691, 'রাখার': 1692, '১০২': 1693, '১৩৯': 1694, 'সুমিকে': 1695, 'আনলেন': 1696, 'রোহিতের': 1697, '২২০': 1698, 'দল': 1699, 'কেশবের': 1700, 'বাচ্চারা': 1701, 'এতে': 1702, 'যোগদানের': 1703, 'সিদ্ধান্ত': 1704, 'কলিকে': 1705, 'জনির': 1706, 'সুমি': 1707, 'আভিক': 1708, 'মোবাইল': 1709, 'প্যান্টে': 1710, 'মনীষ': 1711, 'রেস্তোঁরাায়': 1712, 'দুপুরের': 1713, 'সরবরাহ': 1714, 'খেলতে': 1715, 'যামিনী': 1716, 'অফিসে': 1717, 'মলির': 1718, 'গ্রাহক': 1719, 'মথুরের': 1720, 'অমর': 1721, 'তারামাছ': 1722, 'গিয়েছিলো': 1723, 'শাওনের': 1724, 'লেবুগুলি': 1725, 'পালনের': 1726, 'পালনকে': 1727, 'পালন': 1728, 'নিরঞ্জনের': 1729, 'রাহুলকে': 1730, 'বেড়াই': 1731, 'করছিলেন': 1732, 'বেড়াচ্ছিলো': 1733, 'বিচরণ': 1734, 'প্রণয়': 1735, 'অ্যালুমিনিয়াম': 1736, 'অর্থ': 1737, 'চেয়ারগুলি': 1738, 'বসানো': 1739, 'নাটকের': 1740, '৪৮৯': 1741, '৫৯৩': 1742, '২৩১৫': 1743, '১০২৮': 1744, '২৯৮৭': 1745, 'নিশা': 1746, 'সুস্মিত': 1747, 'দোলাতে': 1748, 'রৌনক': 1749, 'চড়েছিলেন': 1750, 'রুপালি': 1751, 'রৌনকের': 1752, 'কতবার': 1753, 'হারার': 1754, 'বংশ': 1755, 'আট': 1756, '২৬৫০': 1757, '৩৬৭': 1758, 'খনন': 1759, '৮৬০': 1760, 'মাসিমার': 1761, 'দেখিয়েছে': 1762, 'খাওয়ার': 1763, 'থামলেন': 1764, 'দেখায়': 1765, 'ভক্তকে': 1766, 'মুগ্ধ': 1767, 'ক্রিমের': 1768, 'বসেন': 1769, 'হাঁটলেন': 1770, 'বিক্রেতাকে': 1771, 'নিনার': 1772, 'বন': 1773, 'প্রাথমিকভাবে': 1774, 'গুঁড়ি': 1775, 'পেয়ে': 1776, 'আসিক': 1777, 'দাঁড়িয়ে': 1778, 'বিক্রেতার': 1779, 'ট্রেন': 1780, 'নামলেন': 1781, 'সোনুর': 1782, 'রান্নাঘরে': 1783, 'গ্লাস': 1784, 'গ্রন্থাগারে': 1785, 'হরিণ্': 1786, 'কুমির': 1787, 'অভিভাবক': 1788, 'শিশুকে': 1789, 'করেছিলাম': 1790, 'করলাম': 1791, 'ছিলাম': 1792, '১৩৫': 1793, 'কেষ্ট': 1794, '১০৪': 1795, 'পেয়েছিলেন': 1796, 'মেলায়': 1797, 'নিয়ামতপুরের': 1798, 'গ্রামবাসী': 1799, 'আনারস': 1800, 'কাকু': 1801, 'বাড়ির': 1802, 'ছাদে': 1803, 'রইয়ল': 1804, 'সাংস্কৃতিক': 1805, 'ভূগোল': 1806, 'সমিরনবাবু': 1807, 'ট্রেতে': 1808, 'পূজার': 1809, 'সাঙ্কার': 1810, 'জয়': 1811, 'দুইজন': 1812, 'বাক্তি': 1813, 'তনিমা': 1814, 'সানাকে': 1815, 'ওরা': 1816, 'পেড়েছিলো': 1817, '৭৬০': 1818, 'সুমিত': 1819, '৪০০০': 1820, 'ভূট্টা': 1821, 'ধান': 1822, 'পেয়ারা': 1823, 'নম্বর': 1824, 'হতে': 1825, 'বালকের': 1826, 'মোটর': 1827, 'কাঁদিতে': 1828, 'দাও': 1829, 'আনতে': 1830, 'কম্বল': 1831, 'ফোনে': 1832, 'রং': 1833, 'মনির': 1834, 'কুসুম': 1835, 'উল্কির': 1836, 'তিন্নির': 1837, 'তরুনকে': 1838, 'সারাকে': 1839, 'ধরতে': 1840, 'মাইকেলের': 1841, 'বছরের': 1842, 'গজিয়েছে': 1843, 'চিনাবাদামের': 1844, 'ডন': 1845, '৩১২': 1846, 'ফটিকের': 1847, 'ঝিনুকের': 1848, 'ফেলা': 1849, 'সোমার': 1850, 'ফেলতে': 1851, 'তরমুজের': 1852, 'তুলনায়': 1853, 'বিমানের': 1854, 'নমিতার': 1855, 'পামেলার': 1856, 'সুজয়': 1857, 'উচিত': 1858, 'সাহায্যে': 1859, 'কাকলিকে': 1860, 'ছুটে': 1861, 'কাঠবিড়ালি': 1862, 'লুসি': 1863, 'মোলির': 1864, 'মেগানের': 1865, 'রাশির': 1866, 'নদীর': 1867, 'নৌকা': 1868, 'উঠবে': 1869, 'ডজনে': 1870, '১২টা': 1871, 'শক্তি': 1872, 'বেলুনের': 1873, 'গুচ্ছ': 1874, 'তানিয়া': 1875, 'নাড়ু': 1876, 'একটু': 1877, 'এলো': 1878, 'দাশ': 1879, 'প্রতুলের': 1880, 'প্রবালের': 1881, '২৭৭৮': 1882, '১২১': 1883, 'ইশিতার': 1884, '২৩৬': 1885, '১৪৪': 1886, '৩২৭': 1887, '২৬৯': 1888, '৪৫৫টি': 1889, '১২০৯': 1890, '২১৮৬': 1891, '১৪৭': 1892, '৯৯৮': 1893, '৩৭২': 1894, 'অভিদের': 1895, 'পাপান': 1896, 'দাদাকে': 1897, 'বিজ্ঞান': 1898, 'কাকলি': 1899, 'ডাল': 1900, 'কিনবে': 1901, 'এনে': 1902, 'ছোপ': 1903, 'গুনে': 1904, 'লেখা': 1905, 'বলে': 1906, 'ভাইয়ের': 1907, 'লাইব্রেরিতে': 1908, 'লাভ': 1909, 'একদিন': 1910, 'কয়জন': 1911, 'টে': 1912, '১৫টি': 1913, 'কুশল': 1914, 'নন্টে': 1915, 'লাগিয়েছিল': 1916, 'মলয়ের': 1917, 'সবমিলিয়ে': 1918, 'বেনূর': 1919, 'তিমিরের': 1920, 'ফিরহাদ': 1921, 'জোৎস্না': 1922, 'সঞ্চিতার': 1923, 'সঞ্জয়ের': 1924, 'বেশ': 1925, '৯৩': 1926, '১১৩': 1927, '১৬টি': 1928, 'বোনকে': 1929, 'ভেগে': 1930, '২মাস': 1931, 'লেখ': 1932, 'পাড়ায়': 1933, 'উপস্থিতির': 1934, 'গেছো': 1935, 'জায়গা': 1936, 'সেখান': 1937, 'কাল': 1938, 'পাকা': 1939, 'কেশব': 1940, 'দোলন': 1941, '১১৭': 1942, 'কাটায়': 1943, 'চুলের': 1944, 'সেটিকে': 1945, 'তোলে': 1946, 'আরিয়ানের': 1947, 'বাসের': 1948, '১৮৩টি': 1949, 'আশার': 1950, 'মুকু': 1951, '৬১': 1952, 'পায়': 1953, 'চেরির': 1954, 'মুন্না': 1955, 'তাতে': 1956, 'কৃষ': 1957, 'টিনাকে': 1958, 'মানার': 1959, 'অনিমাকে': 1960, 'জেসিকা': 1961, 'সংগীত': 1962, 'সরঞ্জাম': 1963, 'নিয়েছিল': 1964, 'পেঁয়ারা': 1965, 'পুরানো': 1966, 'মাখন': 1967, 'মেরামত': 1968, 'শেওলা': 1969, 'মিশ্রণে': 1970, 'মিশিয়ে': 1971, 'ভাল্লুক': 1972, 'কনক': 1973, 'পেট্রল': 1974, 'পেরেক': 1975, 'বিড়ালকে': 1976, 'অতিরিক্ত': 1977, 'বৃষ্টিপাত': 1978, 'সংস্থাটি': 1979, 'রস': 1980, 'দিকে': 1981, 'একক': 1982, 'কলি': 1983, 'রেখাটি': 1984, 'রবিবার': 1985, 'কুমড়োর': 1986, 'সাম্যের': 1987, 'জনার্দনের': 1988, 'গুল্ম': 1989, 'বান্ডিলে': 1990, 'পোঁছাতে': 1991, 'পুতুললের': 1992, 'হুইসেল': 1993, 'বেলুনগুলি': 1994, 'মানা': 1995, 'থামে': 1996, 'অর্থের': 1997, 'পয়েন্টের': 1998, 'ভূমিতে': 1999, 'অবতরণ': 2000, 'আনবে': 2001, 'উঠোনে': 2002, 'নৌকো': 2003, 'কার': 2004, 'যাতাযাত': 2005, 'যমুনা': 2006, 'বক': 2007, 'সাপে': 2008, 'প্রজাপতি': 2009, 'প্রজাপতিতে': 2010, 'থাম': 2011, 'শিম': 2012, 'বাক্সটি': 2013, 'বর্গ': 2014, 'স্থল': 2015, 'বাছল': 2016, 'করেছি': 2017, 'তাকের': 2018, 'তাকগুলিতে': 2019, 'ঝুড়ি': 2020, 'কিনা': 2021, 'রিশাভ': 2022, 'আনু': 2023, '৩টে': 2024, 'ননির': 2025, 'রেনু': 2026, 'ইশান': 2027, 'কমলির': 2028, 'কনিকার': 2029, 'দুলাল': 2030, 'সুমির': 2031, 'প্রভাত': 2032, '১৫৯': 2033, 'গুন্': 2034, 'আহির': 2035, '২২৯': 2036, '৮৭৩': 2037, '২৪৩৬': 2038, 'পার্টি': 2039, 'উভয়কে': 2040, '১৮৬': 2041, 'রহমত': 2042, 'ইলাম': 2043, 'মার': 2044, '২৫৭': 2045, 'গ্রামে': 2046, 'ব্যবস্থা': 2047, '6': 2048, 'প্রতিটা': 2049, '১২৩': 2050, 'ভাজা': 2051, 'চুড়ি': 2052, 'জিলিপি': 2053, 'বেজে': 2054, 'কাকিমা': 2055, 'অরিত্রা': 2056, 'সউরাভ': 2057, 'সামিমের': 2058, 'তিনমাসে': 2059, 'জমা': 2060, 'রাখলেন': 2061, 'রফিয়া': 2062, 'রাকিব': 2063, '৫২০': 2064, 'পাঁচ': 2065, 'দশ': 2066, 'সাত': 2067, '২৪০': 2068, 'বসেছিল': 2069, 'ধরেছে': 2070, 'কসবে': 2071, 'পেয়েছে': 2072, 'শুরুতে': 2073, 'সুমনের': 2074, 'লোকটি': 2075, 'পাড়া': 2076, 'সন্দীপের': 2077, 'সুনিতার': 2078, 'জালাল': 2079, 'সুকুমার': 2080, 'মেহের': 2081, 'জোজোকে': 2082, 'নোয়া': 2083, 'সৈকতে': 2084, 'মানিককে': 2085, 'রহিমের': 2086, 'শ্রূতির': 2087, 'লাগান': 2088, 'ঘুরি': 2089, 'রাজুদের': 2090, 'পেয়েছ': 2091, 'মিলে': 2092, 'লিখেছে': 2093, 'রহিম': 2094, 'ছেলেমেয়েকে': 2095, 'তিনজন': 2096, 'বাসভাড়া': 2097, 'একসঙ্গে': 2098, 'খাওয়া': 2099, 'পড়াশুনো': 2100, '১৪৬': 2101, 'যাব': 2102, 'সামনে': 2103, 'জরির': 2104, 'পাড়': 2105, 'আন্দুলের': 2106, 'প্লেট': 2107, 'প্রথমতে': 2108, 'আরেকটি': 2109, 'পতাকা': 2110, 'বললেন': 2111, 'মিমি': 2112, 'হারিয়েছেন': 2113, 'ইশা': 2114, '৭২২': 2115, '৩৭টি': 2116, 'টির': 2117, 'ঐশীর': 2118, '৫০টি': 2119, 'গান': 2120, 'হার্ট': 2121, 'কুকুরগুলির': 2122, 'মাইকেলকে': 2123, 'উল্কিকে': 2124, 'নুডুলস': 2125, 'মাসিমাকে': 2126, 'জেন': 2127, 'রাধিকা': 2128, 'আটা': 2129, '১২টি': 2130, 'মল্লিক': 2131, 'কারখানায়': 2132, 'দিলো': 2133, 'দুরন্ত': 2134, 'কাজুবাদাম': 2135, 'গুলিতে': 2136, 'মনিমালা': 2137, 'ভাতের': 2138, 'তরকারিতে': 2139, 'যন্ত্রাংশের': 2140, 'বেলুনগুলির': 2141, 'রেস্তোঁরাটিতে': 2142, 'সনার': 2143, 'চুড়িদারে': 2144, 'গ্রাহকরা': 2145, 'তেলের': 2146, 'পাইপ': 2147, 'হলদিয়া': 2148, 'পৌঁছেছিলেন': 2149, 'কর্মচারী': 2150, 'স্যলমন': 2151, 'রক্তকণিকা': 2152, 'মেষশাবক': 2153, 'নল': 2154, 'বেরিয়েছিল': 2155, 'ফুটি': 2156, 'মায়ের': 2157, 'প্যান্টের': 2158, 'ভিক্টর': 2159, 'বরুনার': 2160, 'নর্মদার': 2161, 'রানি': 2162, 'রানীর': 2163, 'সঞ্জনার': 2164, 'খাই': 2165, 'বিস্কুটগুলো': 2166, 'কলির': 2167, 'লালুর': 2168, 'রাখি': 2169, 'করব': 2170, 'কালম': 2171, 'জানাচ্ছে': 2172, 'আলাম': 2173, 'আসিত': 2174, 'বাসন্তযদি': 2175, 'আরনিত': 2176, '১০মাইল': 2177, 'আরনাব': 2178, 'আরিন': 2179, 'বিনিত': 2180, 'বিপুল': 2181, 'ইন্দ্রনিল': 2182, 'প্রসুন': 2183, 'ঋয়ান': 2184, 'রিয়ান': 2185, 'তাহাসান': 2186, 'তিতির': 2187, 'ঐন্দ্রিলার': 2188, '৫২৫৯': 2189, '৩৪০৮': 2190, 'বাবু': 2191, 'আভি': 2192, 'টনি': 2193, 'জাসিম': 2194, 'কাশি্ম': 2195, 'দিপ': 2196, 'দিশা': 2197, 'বর্নার': 2198, 'গোপা': 2199, 'আমল': 2200, '২৪৫': 2201, '৪৭০': 2202, 'বাপন': 2203, 'গাঁথতে': 2204, 'বলো': 2205, 'হিসাব': 2206, '১০টা': 2207, 'রাজা': 2208, 'ঘণ্টাই': 2209, 'বেড়ে': 2210, 'নকুল': 2211, 'বিমলবাবু': 2212, 'ছোটো': 2213, '১০৭': 2214, 'সংখ্যাটি': 2215, 'চল্লিশ': 2216, 'নামল': 2217, 'বান্ধবি': 2218, '৭দিনে': 2219, 'গুনফল': 2220, 'আসবে': 2221, 'জমালে': 2222, 'জমাবে': 2223, 'উড়ছিল': 2224, 'করিলেন': 2225, 'পড়ুয়াদের': 2226, 'বসবে': 2227, 'গীতা': 2228, 'ঝুমাকে': 2229, 'সাগর': 2230, 'নমিতা': 2231, 'শীখার': 2232, 'রাহির': 2233, 'দামু': 2234, 'সুজাতার': 2235, 'অঙ্কে': 2236, 'বাংলায়': 2237, 'দুজনে': 2238, 'তুলেছে': 2239, 'অর্ধেক': 2240, 'এনেছে': 2241, 'ডিমগুলি': 2242, 'কোন্': 2243, 'পূজা': 2244, 'দ্বারা': 2245, 'খারাপ': 2246, 'কুকুরকে': 2247, 'গুলির': 2248, 'প্লেটে': 2249, 'বক্স': 2250, '১৯০': 2251, 'সুভাষ': 2252, 'লিলির': 2253, '২৪৭': 2254, 'আশুতোষ': 2255, 'ভ্রমণের': 2256, 'বেগুন': 2257, 'বাদামের': 2258, 'বেরিয়ে': 2259, 'ইন্দ্রা': 2260, '২০টি': 2261, 'ছাদরি': 2262, 'মিলি': 2263, 'মিলির': 2264, 'মিলিকে': 2265, 'অমল': 2266, 'ফারুককে': 2267, 'লাকি': 2268, 'লাকির': 2269, 'হনুমানে': 2270, 'আমিন': 2271, 'জাহানারা': 2272, 'মিতালির': 2273, 'সুমিতাকে': 2274, 'কাছের': 2275, 'রামকে': 2276, '৪৩০': 2277, 'কৃষকের': 2278, 'মিলিয়ে': 2279, 'পাঠাগার': 2280, 'বিজন': 2281, 'মুন': 2282, 'কিসমিসের': 2283, 'শানুর': 2284, 'জালানের': 2285, 'নিজের': 2286, 'তিন্নি': 2287, '২৯২': 2288, '১২৮': 2289, 'নয়নী': 2290, 'অরুন': 2291, 'কালুকে': 2292, 'কাঠবেড়ালি': 2293, 'একজনকে': 2294, 'রইলো': 2295, 'উড়িয়েছিলেন': 2296, 'উড়িয়েছিল': 2297, 'স্বর্ণের': 2298, 'নুডল': 2299, 'সোনালী': 2300, 'পড়ি': 2301, 'পড়লাম': 2302, 'লিন্ডার': 2303, 'কোলের': 2304, 'জিনোর': 2305, 'লাঠির': 2306, 'লিনো': 2307, 'পিতা': 2308, 'মাতা': 2309, 'ম্যাগাজিন': 2310, 'সংবাদপত্র': 2311, 'হওয়া': 2312, 'পাঠ্য': 2313, 'সামগ্রীর': 2314, 'নেমেছে': 2315, 'নামলো': 2316, ';': 2317, 'পেয়েছি': 2318, 'টেসার': 2319, 'ওকে': 2320, 'বানানোর': 2321, 'মতো': 2322, 'পর্যাপ্ত': 2323, 'মোমবাতি': 2324, 'হয়েছেন': 2325, 'পূর্ণ': 2326, 'পূরণের': 2327, 'উভয়': 2328, 'ইসাবেলার': 2329, 'ডিলানকে': 2330, 'কালিয়ার': 2331, 'শুয়োর': 2332, 'রাশিকে': 2333, 'আদি': 2334, '৩৮৮': 2335, 'চকোলেটগুলির': 2336, 'বাচ্চার': 2337, 'কেকগুলি': 2338, '১৪৩': 2339, 'প্রস্থ': 2340, 'মেঝেটি': 2341, 'দেওয়ার': 2342, 'মাদুরের': 2343, 'রিলে': 2344, 'রেস': 2345, 'দলের': 2346, 'সদস্যকে': 2347, 'দৌড়াতে': 2348, 'তুলা': 2349, 'তুলার': 2350, 'গাড়ী': 2351, 'গাড়িটি': 2352, 'দৌড়েছিলেন': 2353, 'দৌড়াতে': 2354, 'প্রতিটিতে': 2355, 'ফোঁটার': 2356, 'ফোঁটা': 2357, 'বানাতে': 2358, 'কাপকেক': 2359, 'কাপকেকগুলি': 2360, 'জামার': 2361, 'ভাগ্নিকে': 2362, 'ভাগ্নি': 2363, 'বিমল': 2364, '৮০০০': 2365, 'কালাম': 2366, 'তপুর': 2367, 'কমলিনির': 2368, '৮৮৭৬': 2369, 'পাল': 2370, '৬১০': 2371, 'ইসমাইল': 2372, 'সিটুর': 2373, 'শ্যামলি': 2374, 'সুজা্নের': 2375, 'প্রিয়ম': 2376, '৮৫৮': 2377, '৫৭৭': 2378, 'আরুণ': 2379, '২৩৪': 2380, '১১১': 2381, 'পাঁচিল': 2382, 'গাঁথার': 2383, 'গাঁথা': 2384, 'গ্যাছে': 2385, 'বিনামূল্য': 2386, 'ছাত্রছাত্রীর': 2387, 'খাতাতে': 2388, 'আনে': 2389, 'ললিপপ': 2390, 'রচনার': 2391, 'দিলুম': 2392, 'কুল': 2393, 'ভিক্ষা': 2394, 'মেলাতে': 2395, 'গায়ে': 2396, 'ভ্যাকসিন': 2397, 'সোনা': 2398, 'মাইলস্টোন': 2399, 'মানব': 2400, 'ফুটেছে': 2401, 'নিতা': 2402, 'ঘণ্টা': 2403, 'গতিবেগে': 2404, 'মেশিনটির': 2405, 'শুভদের': 2406, 'রাজের': 2407, '৫৪০০': 2408, 'বাইসাইকেল': 2409, 'অন্যান্য': 2410, 'কবিতার': 2411, 'রহিত': 2412, 'পুকুর': 2413, 'ধরলেন': 2414, 'ছেড়ে': 2415, '৩৫০': 2416, 'ইতিহাস': 2417, 'নির্ণয়': 2418, 'তাঁ': 2419, 'সঞ্চয়': 2420, 'মুন্নিকে': 2421, 'পাঁচশত': 2422, 'মুন্নি': 2423, 'ইলিশ': 2424, 'এরূপ': 2425, 'সিলের': 2426, 'ন্সিলের': 2427, 'দিস্তা': 2428, 'এরুপ': 2429, 'প্রায়': 2430, 'যাতায়াত': 2431, 'এজন': 2432, 'শ্রমিকটি': 2433, 'পেলেন': 2434, 'কামালদা': 2435, 'বাজারএ': 2436, 'টেলিভিশান': 2437, 'সৌরভের': 2438, '৬৪৪': 2439, '৩২০': 2440, 'মুনমুন': 2441, '৬৭৬': 2442, 'তপন': 2443, 'মলয়': 2444, 'মলয়ের': 2445, 'কয়েছ': 2446, 'কষলে': 2447, 'এদের': 2448, 'মাস্টারমশাই': 2449, 'উপলক্ষ্যে': 2450, 'প্রত্যেকের': 2451, 'মোটক': 2452, 'সংখ্যাকে': 2453, 'ভাগফল': 2454, 'জিরে': 2455, 'ইউনিফর্মে': 2456, 'বোতাম': 2457, 'পেয়ারার': 2458, 'বিয়েবাড়িতে': 2459, 'মার্চ': 2460, 'লেবুর': 2461, 'খরছ': 2462, 'মিনা': 2463, 'নীলু': 2464, 'জাগরণী': 2465, 'ফোনের': 2466, 'ক্যালকুলেটরে': 2467, '১৭৭': 2468, 'খাওয়াতে': 2469, 'অতএব': 2470, 'ছুটি': 2471, 'স্মিতার': 2472, 'মুখ্যমন্ত্রীর': 2473, 'তহবিলের': 2474, 'তহবিলে': 2475, 'শ্রেণীকক্ষে': 2476, 'কুড়িয়ে': 2477, 'শ্রেণিকক্ষগুলির': 2478, 'তুলত': 2479, 'তোমরা': 2480, 'দুটো': 2481, '৫৪টি': 2482, 'বের': 2483, 'োনার': 2484, 'টমিকে': 2485, 'জোভিস': 2486, 'ভেড়া': 2487, 'রাজেশবাবু': 2488, 'আকাশের': 2489, 'সিরাজের': 2490, 'কলম্': 2491, '4': 2492, 'শাড়িতে': 2493, 'শিংগা': 2494, 'খরগোশের': 2495, 'খেলনায়': 2496, 'কৃষের': 2497, 'ক্যাসেডে': 2498, 'গাড়িগুলি': 2499, 'কয়': 2500, 'লাগালে': 2501, 'নিয়েছেন': 2502, 'বেনি': 2503, 'সাবিনার': 2504, 'জালালকে': 2505, 'রানা': 2506, 'রানাকে': 2507, 'দেবাশিস': 2508, 'বিজনকে': 2509, 'ঝুমা': 2510, 'গোরাকে': 2511, 'মামনকে': 2512, 'কামনার': 2513, 'অনুপমকে': 2514, 'অঞ্জলিকে': 2515, 'চয়নকে': 2516, 'মামনি': 2517, 'লিনাকে': 2518, 'উজানের': 2519, 'ঝুড়ি': 2520, 'লালনকে': 2521, 'সরিয়েছে': 2522, 'জেসিকার': 2523, 'পাত্রে': 2524, 'সঞ্চিতাকে': 2525, 'অরিজিৎ': 2526, 'অরিজিতের': 2527, 'ইমন': 2528, 'প্রাপ্তির': 2529, 'মিটা': 2530, 'নষ্ট': 2531, '৬০০০': 2532, 'তারামাছের': 2533, 'জেনিকে': 2534, 'শুভর': 2535, 'জুঁই': 2536, 'লাগালো': 2537, 'খেয়েছিলেন': 2538, 'মুক্তো': 2539, 'কৌশিক': 2540, 'কমলেশ': 2541, 'আসিফ': 2542, 'দর্জি': 2543, 'শাড়ি': 2544, 'দারুচিনি': 2545, 'উপার্জনের': 2546, 'রেস্তোঁরাতে': 2547, 'গমের': 2548, 'রুটি': 2549, 'দিয়া': 2550, 'ভীমের': 2551, 'দুধের': 2552, 'বেকিং': 2553, 'কুশ': 2554, 'হেঁটেছিলেন': 2555, 'ইঞ্চির': 2556, 'ঈশানী': 2557, 'বেকারি': 2558, 'উপমারা': 2559, 'ওখান': 2560, 'তরকারি': 2561, 'তৃনা': 2562, 'আলির': 2563, 'প্রনয়': 2564, 'পাথরের': 2565, 'পোস্ট': 2566, 'পানীয়': 2567, 'পানীয়তে': 2568, 'কমলার': 2569, 'হিরন': 2570, 'রেস্তোঁরা': 2571, 'কৃত্রিম': 2572, 'ঢেলেছিলো': 2573, 'কাসিম': 2574, 'বন্ধুরা': 2575, 'লোহার': 2576, 'অ্যালুমিনিয়ামের': 2577, 'ফল্ট': 2578, 'কল': 2579, 'বপন': 2580, 'মোমবাতিটি': 2581, 'রেখা': 2582, 'ঐন্দ্রিলা': 2583, 'টেনিদা': 2584, 'তরমুজটি': 2585, 'বলটির': 2586, 'বনশ্রীর': 2587, 'রাঁধুনি': 2588, 'বেনুর': 2589, 'পার্ক': 2590, 'মোনালিসা': 2591, 'শরতের': 2592, '০১': 2593, 'তনুজার': 2594, 'বিমলার': 2595, 'রাকেশের': 2596, 'আব্দুলকে': 2597, 'অঞ্জনের': 2598, 'সমরেশের': 2599, 'গাম্বল': 2600, 'বাণ্ডিলে': 2601, 'অনন্যার': 2602, 'মারিয়ামের': 2603, 'টেরেসা': 2604, 'বিনি': 2605, 'লতিকা': 2606, 'পোকাগুলি': 2607, 'রয়ে': 2608, 'স্যান্ডির': 2609, '9': 2610, 'মিশার': 2611, 'কেলির': 2612, '২৩১': 2613, 'খেয়েছেন': 2614, '১২৪': 2615, '৪৪৫': 2616, 'ডালিয়ার': 2617, 'মামির': 2618, 'আন্তারা': 2619, 'বেগাম': 2620, 'হাকিম': 2621, 'ছারু': 2622, 'আনিকের': 2623, 'শুকের': 2624, 'আনিনীর': 2625, 'রেনুর': 2626, 'পলম': 2627, 'নিশার': 2628, 'মালিয়ার': 2629, 'সোহিনি': 2630, '৫১০': 2631, '১৫২৪০': 2632, 'আমন': 2633, '১০৯': 2634, 'আনুর': 2635, '৬৮০': 2636, '৯৬৭': 2637, 'বাপনের': 2638, '২৮৬৩': 2639, '৬৫৪০০': 2640, 'বাড়িভাড়া': 2641, '২০৪০০': 2642, 'মুর্শিদাবাদের': 2643, 'ইটভাটাতে': 2644, '৪০৪০০': 2645, 'দুদিনে': 2646, 'অবসরের': 2647, 'স্ত্রীকে': 2648, '৬০৬৫০': 2649, '১০৩৫০': 2650, '৭২২৫০': 2651, '৫০৮৩০': 2652, 'সঞ্চয়': 2653, '১৭৭৪৪': 2654, 'চন্দনপুরের': 2655, '২৮২২৮': 2656, 'ট্রাক': 2657, 'জলপাইগুড়ি': 2658, 'এরকম': 2659, 'ট্রাকে': 2660, 'যাওয়া': 2661, 'পুরুলিয়ার': 2662, 'দামে': 2663, 'পরিবেশ': 2664, 'সচেতনতা': 2665, 'দিবসে': 2666, 'বিবেকানন্দ': 2667, 'কলোনিতে': 2668, 'দেওয়ার': 2669, '২৫০গ্রাম': 2670, 'পেঁয়াজ': 2671, 'রসুন': 2672, 'মুগ': 2673, 'ওজনের': 2674, 'থোকা': 2675, 'l': 2676, 'থোকাতে': 2677, '১১৪': 2678, '১৪৯': 2679, 'এবার': 2680, 'দা': 2681, 'প্রথমদিন': 2682, 'দাদু': 2683, 'দেখলেন': 2684, 'বিজ্ঞানভিত্তিক': 2685, '৫৭৫': 2686, 'পরীক্ষার্থী': 2687, 'ফান্ডে': 2688, 'সমীরকে': 2689, 'মৃন্ময়বাবু': 2690, '৭৫০০': 2691, 'প্রমিলা': 2692, 'উজ্জ্বলবাবু': 2693, 'দিঘা': 2694, 'শান': 2695, 'আকাশ': 2696, 'আবুলের': 2697, '৮৫০': 2698, 'সজলের': 2699, '৭০৯': 2700, 'ভিমের': 2701, 'নেই': 2702, 'গরমের': 2703, 'লাগলে': 2704, 'বাড়ালে': 2705, 'বালককে': 2706, 'দৈনিক': 2707, 'বইটি': 2708, 'বেঞ': 2709, 'বেঞ্চে': 2710, 'সাইকেলটি': 2711, 'কলকাতার': 2712, '২৫৪': 2713, 'পেনসিলের': 2714, 'দোকানি': 2715, 'বোতলে': 2716, 'বিক্রেতা': 2717, 'অনিলের': 2718, '৮৭৫': 2719, 'শাড়ির': 2720, '১২৬': 2721, '১৭৯': 2722, 'তাৎক্ষণিক': 2723, 'বক্তৃতার': 2724, '৩মিনিট': 2725, 'আঁকতে': 2726, 'বসেছে': 2727, 'এঁকেছে': 2728, '২য়': 2729, 'রোজ': 2730, 'বিরিয়ানি': 2731, 'পছন্দ': 2732, 'গেছিলে': 2733, 'কম্বলের': 2734, 'টিজবা': 2735, 'ফাকা': 2736, 'এমবি': 2737, 'ফ্রী': 2738, 'ফায়ার': 2739, 'উড়িয়ে': 2740, 'ফ্রি': 2741, '৯৫৭০': 2742, '৩৮৬৭': 2743, '৮৯১৭': 2744, '৫৭৬': 2745, '১৩৩৯': 2746, 'ডায়ানার': 2747, '৪২টি': 2748, 'দেবোরার': 2749, 'সুশেন': 2750, 'লতিকার': 2751, 'সাথীর': 2752, 'আশিসের': 2753, 'বক্সের': 2754, 'হিরণ': 2755, 'পর্নার': 2756, 'প্রিয়া': 2757, 'ছেলের': 2758, 'রকিয়ার': 2759, 'শচীনের': 2760, '১০৬': 2761, 'সেঁজুতি': 2762, 'নেবে': 2763, 'রেবেকার': 2764, 'করুনাকে': 2765, 'ববিকে': 2766, 'অনুকে': 2767, 'বিড়াল': 2768, 'ফেটে': 2769, 'নাসপাতি': 2770, 'রুমার': 2771, '২৩৩': 2772, 'পাখির': 2773, 'অরুনকে': 2774, 'চেতনকে': 2775, 'ঈপ্সিতাকে': 2776, 'দুর্জয়কে': 2777, 'হারায়': 2778, 'মনীশকে': 2779, 'টিকিটগুলি': 2780, 'সংগঠিত': 2781, '২৫টি': 2782, 'অবশ্যই': 2783, 'দেড়শো': 2784, 'তিনি২০': 2785, 'নন্দুর': 2786, 'প্রত্যেকটা': 2787, 'দাঁড়িয়ে': 2788, 'ঘাটে': 2789, 'বাঁধা': 2790, 'আফরুজা': 2791, 'তারপর': 2792, 'হিসেব': 2793, 'পারল': 2794, '২৪জন': 2795, 'আমাদেরকে': 2796, 'দাঁড়াতে': 2797, 'বন্দুকে': 2798, 'খাওয়াই': 2799, 'মােট': 2800, 'ক্লাসের': 2801, '৯টা': 2802, 'নেব': 2803, '৫টা': 2804, 'তীরে': 2805, 'দাঁড়িয়েছিল': 2806, 'নৌকোতে': 2807, 'মৌচাকের': 2808, 'উড়ছে': 2809, 'বাদে': 2810, 'গেলাম': 2811, '৪টা': 2812, 'এদিকে': 2813, 'বাবাও': 2814, 'সকালবেলায়': 2815, 'কিছুক্ষণ': 2816, 'দোকানদারটার': 2817, 'মিমিকে': 2818, 'পড়ছে': 2819, 'পরশু': 2820, 'নিলু': 2821, 'মপ্নার': 2822, 'কেতনের': 2823, '৭৯০': 2824, '৩৯৮টি': 2825, 'সালু': 2826, 'মীটা': 2827, 'মোডোনার': 2828, 'গোলূ': 2829, 'ক্যার': 2830, 'দাশের': 2831, 'বিনয়': 2832, 'বিপিনের': 2833, 'দেবেশের': 2834, 'মণির': 2835, 'তাপসকে': 2836, 'বরুণের': 2837, 'বিদিশার': 2838, 'সূজীট': 2839, 'মিস্তি': 2840, 'জজু': 2841, 'মম': 2842, 'আমলা': 2843, 'দৌড়েছেন': 2844, 'মেয়েকে': 2845, 'কাকুর': 2846, 'সউমেন': 2847, 'সাহেবের': 2848, 'হকি': 2849, 'খাচায়': 2850, 'সুকেনের': 2851, 'সুকেন': 2852, '|': 2853, 'লাগাল': 2854, 'গাছরইল': 2855, 'উপন্যাস': 2856, 'কবিতায়': 2857, 'ঢাললে': 2858, 'আলমারির': 2859, 'একত্রে': 2860, '৩২০০': 2861, 'পরপর': 2862, 'পোস্টঅফিসে': 2863, 'হিন্দু': 2864, 'মুসলমান': 2865, 'খ্রিস্টান': 2866, 'সম্প্রদায়ের': 2867, 'লোকসংখ্যা': 2868, 'ছাত্রীদের': 2869, 'সংখ্যাগুলি': 2870, 'ছয়': 2871, 'অঙ্কগুলি': 2872, '২১৫৫': 2873, '৭২৭': 2874, 'সব্জি': 2875, '৩৭০': 2876, 'রিক্সা': 2877, 'দুইমাসে': 2878, 'দিস্তায়': 2879, 'শাওন': 2880, 'টিদোকান': 2881, 'সিয়া': 2882, 'টেলিভিশন': 2883, 'শচীর': 2884, 'দেবরাজের': 2885, 'রাজিবের': 2886, 'মদন': 2887, 'িনির': 2888, '২২১': 2889, '৩৩০': 2890, 'চাষি': 2891, 'গাঁদা': 2892, 'ঝড়ে': 2893, 'গুণ্য': 2894, 'গুণক': 2895, 'ভোলা': 2896, 'রাকেশ': 2897, 'গাঁথলে': 2898, 'ফোটে': 2899, 'ছাত্রাবাসে': 2900, 'বাবদ': 2901, 'ছয়তলা': 2902, 'হোটেলের': 2903, 'তলায়': 2904, 'হোটেলে': 2905, 'বৎসরের': 2906, 'কারখানায়': 2907, 'রয়ছে': 2908, 'সিল্কের': 2909, 'বিদেশে': 2910, 'রপ্তানি': 2911, 'শাড়ির': 2912, 'গ্রন্থাগার': 2913, 'সদস্য': 2914, 'সদস্যদের': 2915, 'বন্যাত্রাণের': 2916, 'পালিয়ে': 2917, 'নিমন্ত্রণ': 2918, 'আসায়': 2919, 'পেঁপে': 2920, 'প্যাকেটের': 2921, '১৫৫': 2922, 'লাগলো': 2923, 'কাটি': 2924, 'উপলকে': 2925, 'দকান': 2926, 'সমির': 2927, 'আমায়': 2928, 'বিধ্যালয়': 2929, 'রুমি': 2930, 'পরীক্ষা': 2931, 'রাস্তার': 2932, 'সারাতে': 2933, 'একদল': 2934, '১০দিন': 2935, 'এরপর': 2936, 'আরেক': 2937, 'দুদলে': 2938, 'দশটা': 2939, 'তাঁতের': 2940, 'আসামে': 2941, '১দিন': 2942, 'ভুবনেশ্বরে': 2943, 'কোথায়': 2944, '৪ঘন্টা': 2945, 'কুকুরটি': 2946, 'কিনেছ': 2947, 'স্যার': 2948, 'পড়াতে': 2949, 'দেরি': 2950, 'কটায়': 2951, 'বসেছ': 2952, 'শপিং': 2953, 'মলে': 2954, '১২০০টাকার': 2955, 'দাওয়া': 2956, 'খরচা': 2957, 'বিরিয়ানির': 2958, 'জিবি': 2959, 'জন্ম': 2960, 'এনেছেন্': 2961, '১৪৭২০০০০': 2962, 'পেঁকে': 2963, 'হনুমান': 2964, 'ফেলালো': 2965, '২৩০': 2966, 'রাহি': 2967, 'ঈশার': 2968, '৬২টি': 2969, 'শান্তনুর': 2970, 'অনিরুদ্ধের': 2971, 'অনিরুদ্ধ': 2972, 'অনিরুদ্ধর': 2973, 'এখনো': 2974, '৪৪টি': 2975, 'রণকের': 2976, 'মানস': 2977, 'আলোলিকার': 2978, 'আলোকের': 2979, 'ছিপিতে': 2980, 'হারুর': 2981, 'ঐশী': 2982, 'কৃশানুর': 2983, 'কার্ড': 2984, '৬৩টি': 2985, 'এমিলিকে': 2986, 'জুডির': 2987, 'উজ্জলের': 2988, 'ঈশিকার': 2989, 'শোভনার': 2990, '৯১৯': 2991, '৫০৪': 2992, '২০৮০': 2993, '১৪২৪০': 2994, 'জাসমিনের': 2995, 'কাশি': 2996, 'জোজো': 2997, 'সিজারকে': 2998, 'ইসাবেল': 2999, 'শচীন': 3000, 'বিটুর': 3001, 'ইলা': 3002, 'মালতির': 3003, 'অরুণ': 3004, '৯৪০': 3005, 'শানএর': 3006, 'মিতার': 3007, 'জপানের': 3008, 'বিরাট': 3009, 'বেলপাতা': 3010, 'শ্রাবণীকে': 3011, 'মালাই': 3012, 'কাকার': 3013, 'কিসানের': 3014, 'প্রবিন': 3015, 'বনি': 3016, 'খেতমজুর': 3017, 'বিঘা': 3018, 'ক্ষেতমজুর': 3019, 'গগন': 3020, 'জোড়া': 3021, 'শানউর': 3022, '০৪': 3023, 'রিনার': 3024, 'হারমোনিয়াম': 3025, 'বিরিয়ানীর': 3026, 'আঙ্গুর': 3027, 'খেজুরের': 3028, 'কাপড়ে': 3029, 'সামগ্রী': 3030, 'জুতো': 3031, 'পুতুলের': 3032, '৫৯৭৩': 3033, 'নাবিকরা': 3034, 'চাপিয়েছেন': 3035, 'জাহাজটি': 3036, '১৩৪৬': 3037, 'বেড়েছে': 3038, 'উত্তর': 3039, 'আমেরিকায়': 3040, 'ইউরোপে': 3041, 'আবিরের': 3042, '১৯৮৬': 3043, 'এছাড়াও': 3044, 'পুরসভা': 3045, '২০৮১৭': 3046, 'পুরসভাতে': 3047, 'ভেবেছিলেন': 3048, 'কিন্ত': 3049, '৪৮৪': 3050, 'কৃতিকা': 3051, 'দমদম': 3052, 'বিমানবন্দরে': 3053, 'যথাসময়ে': 3054, '২১৩': 3055, 'দেরিতে': 3056, 'পৌঁছেছে': 3057, 'দমদমে': 3058, 'এলাকার': 3059, 'ক্ষতিগ্রস্ত': 3060, '৫২২': 3061, 'একরে': 3062, 'ক্ষতি': 3063, 'হয়নি': 3064, 'জন্মগ্রহণ': 3065, 'প্রবাসী': 3066, 'প্রবাল': 3067, 'প্রাচীরে': 3068, 'ধাক্কা': 3069, 'জাহাজের': 3070, 'জাহাজটিতে': 3071, 'কারখানাতে': 3072, 'চৌকিদার': 3073, 'নদীতে': 3074, 'পুরুষদের': 3075, 'মহিলাদের': 3076, 'সামগ্রিকভাবে': 3077, 'রক্তের': 3078, 'রক্ত': 3079, 'কোষ': 3080, 'রিয়ানরা': 3081, 'দারোয়ান': 3082, 'ভেড়া': 3083, 'উচ্চ': 3084, 'অনুদানে': 3085, 'পেয়েছিলো': 3086, 'অনুদানের': 3087, 'পাঠাগারের': 3088, 'সংস্থার': 3089, 'ভারতে': 3090, 'উৎপাদনকারীরা': 3091, 'খামার': 3092, 'মথুর': 3093, 'নিকো': 3094, 'সুশীল': 3095, 'যদুর': 3096, 'ফাটলযুক্ত': 3097, 'বিরাজ': 3098, 'পিনাকীকে': 3099, 'জহর': 3100, 'মিনাকে': 3101, 'ছাড়া': 3102, '৫৪২': 3103, '৩৮৭': 3104, '৩২৪': 3105, '৪২৫': 3106, '২৭৬': 3107, '২৩২': 3108, '৪৭৯': 3109, '১২১৫': 3110, '১১১২': 3111, '৩০৩': 3112, '৭১': 3113, '২১৭টি': 3114, '১০৯টি': 3115, '৬টা': 3116, 'জবা': 3117, 'সংগ্রহকে': 3118, 'কলাগুলি': 3119, 'বলাে': 3120, 'জয়াস': 3121, 'এর৫০': 3122, 'শামাল': 3123, 'সে৫': 3124, 'দালু': 3125, 'কহিত': 3126, 'ময়না': 3127, 'রাশিডের': 3128, 'মরগান': 3129, 'পঙ্কজ': 3130, 'মৌলী': 3131, 'সরস': 3132, 'স্বরাজ': 3133, 'প্রয়ান': 3134, 'কেষ্টর': 3135, 'বরুণ্যের': 3136, 'মেসির': 3137, 'আশালতা': 3138, 'তরণ': 3139, 'ননুর': 3140, 'কিসান': 3141, 'দানি': 3142, 'রুবিনের': 3143, 'তনুর': 3144, '২০৮': 3145, 'রাধা': 3146, 'আয়ানদের': 3147, 'সাণার': 3148, 'যাতায়াতে': 3149, 'খাওয়া': 3150, 'দের': 3151, 'পাঁচজনকে': 3152, 'টুনিরা': 3153, 'খোপ': 3154, 'বানির': 3155, 'অনেক': 3156, 'ঝরেছে': 3157, 'মন্দির': 3158, 'সাজাতে': 3159, 'বানি': 3160, 'কুড়িয়ে': 3161, 'হাওড়া': 3162, 'স্টেশন': 3163, 'কম্বয়সি': 3164, 'বয়সী': 3165, 'বলতে': 3166, 'মাটির': 3167, 'কাপড়ের': 3168, 'পেপার': 3169, 'কাটিং': 3170, 'অ্যালবাম': 3171, 'চাই': 3172, 'দ্রাবিড়': 3173, 'যুবরাজ': 3174, 'টেলিভশনে': 3175, 'সর্বমোট': 3176, 'নিউ': 3177, 'মার্কেট': 3178, 'ফাস্টফুড': 3179, 'কর্নারে': 3180, 'খেলাম': 3181, 'হরিণ': 3182, 'শাবক': 3183, 'দাগ': 3184, 'হরিন': 3185, 'দুইগুন': 3186, 'তো': 3187, 'বকুলতলায়': 3188, 'নিলো': 3189, '১৫৫০০': 3190, 'নাম': 3191, 'লিখিয়েছিলেন': 3192, 'কতজনের': 3193, 'নেওয়া': 3194, 'হইনি': 3195, 'যাচ্ছিল': 3196, 'মনে': 3197, '২০টাকা': 3198, 'চিনামাটির': 3199, 'রবীন্দ্রনাথ': 3200, 'ঠাকুর': 3201, 'কিনেছি': 3202, '১৩২': 3203, 'দিলাম': 3204, '২ঘন্টা': 3205, 'কখন': 3206, 'হাঁটা': 3207, 'আগ্নিভ': 3208, 'পায়েল': 3209, 'আগ্নিভর': 3210, 'মহিন': 3211, 'ছাড়াই': 3212, 'গন্তব্য': 3213, 'স্থলে': 3214, 'যাই': 3215, 'কারখানার': 3216, '০০০': 3217, 'ঘোষবাবুর': 3218, '৩৪০০': 3219, '৩১০০': 3220, '৭৫৬০': 3221, '৬৫০০': 3222, '৫০৬০': 3223, '২০৩০': 3224, '৫০৪০': 3225, 'রাজিববাবু': 3226, '৪৪৪০': 3227, '১৩৪৪': 3228, '২৭০': 3229, 'দুইদিনে': 3230, 'দুইমাসের': 3231, 'দুইবছর': 3232, 'ছিলে': 3233, 'ভেসে': 3234, 'সুবিমলের': 3235, '২০০০০': 3236, 'মাহি': 3237, 'ফন্টে': 3238, 'সুকুমলের': 3239, 'আসিয়া': 3240, 'কষেছ': 3241, 'তিনদিনে': 3242, 'কতকগুলি': 3243, 'কষেছে': 3244, 'ভুল': 3245, 'লিখেছ': 3246, 'ধরলে': 3247, 'চরাতে': 3248, 'ফিরিয়ে': 3249, 'বিদ্যাপীঠের': 3250, 'কষা': 3251, 'কাছেক': 3252, 'অনুষ্ঠান': 3253, 'এনেছেন': 3254, 'ফেলেছ': 3255, 'রাজকে': 3256, 'বলায়': 3257, 'রাজ': 3258, 'রোহন': 3259, '২২৭': 3260, 'রেলে': 3261, 'রাস্তায়': 3262, 'চারা': 3263, 'চারাগুলি': 3264, 'চারাগাছ': 3265, 'বৃষ্টির': 3266, 'শিক্ষকমশাই': 3267, 'প্রত্যহ': 3268, 'ছড়া': 3269, 'নোটের': 3270, 'বদলে': 3271, 'যাত্রাক্রমে': 3272, 'ভাঙিয়ে': 3273, 'নোটটি': 3274, 'ফেললে': 3275, 'পোস্টকার্ড': 3276, 'কষো': 3277, '১৭৫': 3278, 'বরপক্ষ': 3279, 'কন্যাপক্ষ': 3280, 'ছাত্রীর': 3281, 'ভর্তি': 3282, 'জানুয়ারি': 3283, 'ফেব্রুয়ারি': 3284, 'তিনমাসের': 3285, 'দিনসংখ্যা': 3286, 'চন্ডীপুর': 3287, '৫৭০': 3288, 'জনসংখ্যা': 3289, 'তালগাছ': 3290, 'ইংরেজিতে': 3291, 'উঠেছে': 3292, 'রিক্সায়': 3293, 'শামো': 3294, 'পার্থ': 3295, 'দশটি': 3296, 'য়': 3297, '৪৩টি': 3298, ':': 3299, '৩০টাকার': 3300, '১৬৩': 3301, 'বাকিটা': 3302, 'মহেন': 3303, 'ধনেখালির': 3304, 'দুজন': 3305, 'নাও': 3306, 'উপরে': 3307, 'প্লেটের': 3308, 'একভাগ': 3309, 'পাতে': 3310, 'ট': 3311, 'চা': 3312, 'মিহির': 3313, 'ৃষ্ণার': 3314, 'তরুলাতার': 3315, 'রুণ': 3316, 'তরুলাটার': 3317, 'রা্কুলের': 3318, 'রাকুলের': 3319, 'ধারন': 3320, 'কল্যানির': 3321, 'সুভ্রর': 3322, '৪৫মিষ্টি': 3323, 'রানু': 3324, 'বেণু': 3325, '৫টিসংখ্যা': 3326, 'তি': 3327, 'রানুর': 3328, 'খেল': 3329, 'সোহিনির': 3330, '২২টি': 3331, 'চন্দ্র': 3332, '২০৮৬': 3333, '১১টি': 3334, 'আছিন': 3335, 'মেয়ের': 3336, 'কিয়ার': 3337, 'প্রতিমার': 3338, 'এইরূপ': 3339, '১৪০০': 3340, 'তমান্': 3341, 'নিল্': 3342, 'সোমা': 3343, 'কৃষান': 3344, 'মোহিনীর': 3345, 'পিনার': 3346, 'যনার': 3347, 'জোসকে': 3348, '৪২৩': 3349, '৮৭৩৩৩': 3350, '৬৪৪৪৪': 3351, '৬০৮': 3352, '৬৫২২': 3353, '৫১৬৫': 3354, '৩৮৮৪': 3355, '২৮৭১': 3356, '৬৩৫৯': 3357, '৩৪৮৫': 3358, '৫১০৬': 3359, '৭৭৪১': 3360, '৪৮০৯৭': 3361, '১৪৫০৭': 3362, '৬৪৫৩৫': 3363, '১২১৭০': 3364, '৫৪৯১২': 3365, '৯০১৭১': 3366, '১৬৩২০': 3367, '৪৯৯৫২': 3368, '৯১৮': 3369, '৬১৯২১': 3370, '৪৯৫০০': 3371, '২০৪১': 3372, '৭১২২৬১': 3373, '২৫৯৩৭৮': 3374, '১৪৭৯৭': 3375, '৪৯৬৯': 3376, '১৪২৬': 3377, '৭৩৪১': 3378, '৪২২১': 3379, '৯৭৯২': 3380, '৩৫১৩': 3381, '১২০০০০': 3382, '৮১৬': 3383, '৬০৪৮': 3384, '১৯৩': 3385, '৬৬৮৯': 3386, '৬৬০': 3387, '২৬৪৭': 3388, '৮৫৮২': 3389, '৭৪২২': 3390, '৭২৩': 3391, '১৪১৬': 3392, '৪৬৩৬': 3393, '৬২০৬': 3394, 'মিতা': 3395, 'নরেন': 3396, 'সনু': 3397, 'সীতা': 3398, 'আজিমের': 3399, 'মমতা': 3400, 'কিনেছিলো': 3401, 'ফরিক': 3402, 'জয়ন্তকে': 3403, 'বলগুলির': 3404, 'মোনালিসাকে': 3405, 'তনুজের': 3406, 'ফরিককে': 3407, 'কনিকা': 3408, 'ফজল': 3409, 'জুঁইকে': 3410, 'শানু': 3411, 'প্রত্নবিজ্ঞানী': 3412, 'রত্নে': 3413, 'আবিষ্কার': 3414, 'রত্ন': 3415, 'হীরার': 3416, 'পুটু': 3417, 'পুটুর': 3418, 'ভাইয়ের': 3419, 'আজকের': 3420, 'হৃদটিতে': 3421, 'অয়নকে': 3422, 'চালিয়েছে': 3423, 'মাত্র': 3424, 'জোড়া': 3425, 'প্যান্ট': 3426, 'দৌড়েছে': 3427, 'হেটে': 3428, 'বিরতি': 3429, 'পরিশ্রম': 3430, 'জায়ফল': 3431, 'জায়ফলের': 3432, 'সব্জিতে': 3433, 'দেব': 3434, 'স্যারের': 3435, 'শিক্ষার্থীর': 3436, 'অংশটি': 3437, 'পরিমাপক': 3438, 'পরিমাপ': 3439, 'পাউরুটি': 3440, 'মিষ্টিজলের': 3441, 'স্যালমন': 3442, 'দৌড়ালো': 3443, 'তবলা': 3444, 'বাজায়': 3445, 'দড়ির': 3446, 'প্রথমটা': 3447, 'অন্যটি': 3448, 'দড়ি': 3449, 'শশা': 3450, 'স্যালাড': 3451, '৬২৫': 3452, 'মিতের': 3453, 'মহিষের': 3454, 'দুধ': 3455, 'সেলুনে': 3456, 'কেটেছিলেন': 3457, 'ফেলার': 3458, 'বলেছিলেন': 3459, 'আসার': 3460, 'পাউডারের': 3461, 'পাউডার': 3462, 'গুড়ের': 3463, 'গুড়': 3464, 'মিশ্রণের': 3465, 'কিশমিশ': 3466, 'দিত': 3467, 'খাওয়ানোর': 3468, 'দার্জিলিং': 3469, 'তুষারপাতের': 3470, 'ভরেছেন': 3471, 'কিছুক্ষন': 3472, 'এসেছিলো': 3473, 'মৌসুমিলেবু': 3474, 'খান': 3475, 'অবশিষ্টাংশ': 3476, 'মিশ্রণ': 3477, 'রেঁস্তোরা': 3478, 'শাকসব্জি': 3479, 'মাংস': 3480, 'রেঁস্তোরাটি': 3481, 'বানিয়েছিলো': 3482, 'রড': 3483, 'আঙ্গুরের': 3484, 'সোডা': 3485, 'মহাকাশযান': 3486, 'পৃথিবী': 3487, 'গ্রহ': 3488, 'গ্রহের': 3489, 'পৃথিবীতে': 3490, 'মহাকাশযানটি': 3491, 'বৃহস্পতিবার': 3492, 'তুষার': 3493, 'প্রথমবার': 3494, 'দ্বিতীয়বার': 3495, 'তৃতীয়বার': 3496, 'কলসী': 3497, 'প্রবেশ': 3498, 'পথের': 3499, 'মূল': 3500, 'মঞ্চের': 3501, 'মঞ্চ': 3502, 'যান': 3503, 'মোটামুটি': 3504, 'সংস্কার': 3505, 'প্রকল্পের': 3506, 'মাটি': 3507, 'করিম': 3508, 'রঙের': 3509, 'তরল': 3510, 'রেস্তোরাঁ': 3511, 'পৌঁছেছিল': 3512, 'রসায়ন': 3513, 'রসায়ন': 3514, 'কয়েক': 3515, 'হেটেছিলো': 3516, 'অনুশীলন': 3517, 'দারুনজিৎ': 3518, 'মামুদ': 3519, 'কোলা': 3520, 'অধ্যাপক': 3521, 'টুকরোটির': 3522, 'বিজ্ঞানী': 3523, 'দেখেন': 3524, 'ভূমিকম্পের': 3525, 'এগিয়েছে': 3526, 'রোজিনা': 3527, 'টেলিফোন': 3528, 'কিছুজনকে': 3529, 'ফোন': 3530, 'শুঁয়োপোকা': 3531, 'শুঁয়োপোকা': 3532, 'শুঁয়োপোকার': 3533, 'শুঁয়োপোকাটি': 3534, 'সকালের': 3535, 'মোমবাতির': 3536, 'বাতিটি': 3537, 'অতনু': 3538, 'আঁকল': 3539, 'আঁকেন': 3540, 'রেখার': 3541, 'বেনীর': 3542, 'বেনী': 3543, 'মিস্ত্রী': 3544, 'শেষের': 3545, 'মার্চের': 3546, 'এপ্রিল': 3547, 'এপ্রিলে': 3548, 'উৎপাদিত': 3549, 'এটির': 3550, 'সোমবারের': 3551, 'ভাজতে': 3552, 'নুড়ি': 3553, 'মেঝেতে': 3554, 'ছড়িয়ে': 3555, 'ফেলেছিলো': 3556, 'অনুষ্ঠানের': 3557, 'অনুষ্ঠানটিতে': 3558, 'বহনকারী': 3559, 'রাস্তায়': 3560, 'দৈর্ঘ্য': 3561, 'মিস্ত্রি': 3562, 'নিয়েছিলেন': 3563, 'যামিনীর': 3564, 'মার্বেলগুলির': 3565, 'সেগুলির': 3566, 'মেহেদির': 3567, 'জগন': 3568, 'জনার্দনকে': 3569, 'সমুদ্রের': 3570, '১৭২': 3571, 'সাবিনাকে': 3572, '১৩৮': 3573, 'যীশু': 3574, '১৩১': 3575, '৬৯৫': 3576, 'ছিঁড়ে': 3577, 'সারদা': 3578, 'তাসগুলির': 3579, '১৩৩': 3580, 'জ্যোতির': 3581, '৮৬৪': 3582, 'খেলানো': 3583, '৩৯৫': 3584, 'জ্যোতি': 3585, 'পার্কের': 3586, '৭৮৩': 3587, '২৭১': 3588, 'উদ্যানটিতে': 3589, 'কিষান': 3590, '০৬': 3591, 'সোহিনীর': 3592, 'মিনি': 3593, 'বিমলকে': 3594, 'দিশানী': 3595, 'সুজিতের': 3596, 'ছিপিগুলি': 3597, 'ছিপিগুলিকে': 3598, 'গাম্বলগুলি': 3599, 'নারায়ণ': 3600, 'শালিনী': 3601, 'ললিতা': 3602, 'মৌমিতা': 3603, '৫১টি': 3604, 'মৌমিতার': 3605, 'লিলি': 3606, 'লিলিকে': 3607, 'স্তূপ': 3608, 'সুশান্ত': 3609, 'শানকে': 3610, 'স্তূপেতে': 3611, 'কাশিমের': 3612, 'জয়তীর': 3613, 'নারায়ণের': 3614, 'অনন্যা': 3615, 'জয়েসকে': 3616, 'জয়েস': 3617, '১৩টি': 3618, 'আরবের': 3619, 'হিরণের': 3620, 'নিয়েছে': 3621, 'রায়ানের': 3622, 'মার্বেলগুলি': 3623, 'জিমি': 3624, 'হিয়ার': 3625, 'হিয়া': 3626, '৬৯৮': 3627, 'মেরি': 3628, '২৭৫': 3629, 'শোভনা': 3630, 'এশার': 3631, 'হেলির': 3632, 'রায়ের': 3633, 'মন্ডল': 3634, 'সেনার': 3635, 'মিকির': 3636, '৩০৪': 3637, 'হারু': 3638, 'কিংশুকের': 3639, 'পল': 3640, 'সীমার': 3641, 'যমুনার': 3642, '৬১১': 3643, '৩৯৭টি': 3644, '২৬১': 3645, '৫৪৪': 3646, 'তারুণ্যের': 3647, 'জুলির': 3648, 'জেসির': 3649, 'মানির': 3650, '২৫২': 3651, '৬৪৮': 3652, 'চরণ': 3653, 'কানুর': 3654, 'কনির': 3655, 'ঘোষ': 3656, 'সুমাতা': 3657, '৫২৫৬': 3658, '৩৪০৯': 3659, 'হাঁসদাকে': 3660, '১৫৭': 3661, 'পাপানের': 3662, '৯৮০': 3663, 'বিমলা': 3664, 'অনিকদের': 3665, '১২৮৫': 3666, '১০২৪': 3667, 'ধরবাবু': 3668, '৪২২০৪': 3669, 'গোপালবাবু': 3670, 'অমলবাবুর': 3671, '২৮২৩২': 3672, '৪২৮২৪': 3673, '৮২০১': 3674, 'শাহানাকে': 3675, 'মিমির': 3676, 'নিলা': 3677, 'রামা': 3678, '৩৪০': 3679, '৭জন': 3680, '৩১৯': 3681, 'পোঁছাতে৬': 3682, '২৫জন': 3683, '৩৬জন': 3684, 'সিন্স': 3685, 'কমনির': 3686, '৩৯০': 3687, 'গাদা': 3688, 'দিপা': 3689, 'কটিতে': 3690, 'সাংখ্যার': 3691, 'বিয়োগ': 3692, 'সেওাক': 3693, 'ুটি': 3694, '৩৬০': 3695, 'সুষমা': 3696, '২৫৬০': 3697, 'আরিনের': 3698, 'যজু': 3699, 'ৌনী': 3700, 'মাসিমা': 3701, 'ো': 3702, 'দিদার': 3703, 'দত্তর': 3704, '২৫৮': 3705, 'মনামির': 3706, 'পাপনের': 3707, 'কমেছে': 3708, '৪৪৯': 3709, '২৯৫': 3710, '৮০০৮': 3711, '১২৮০': 3712, 'করবাবু': 3713, '৪২২৪': 3714, 'ভীমবাবু': 3715, 'কমলবাবুর': 3716, '২৮২৩২০': 3717, '৪২৮২৯৪': 3718, '৮২০১০': 3719, 'আহানাকে': 3720, 'এক্তি': 3721, 'গারুর': 3722, 'সুজাতা': 3723, 'সাবুজ': 3724, 'রতিনবাবুর': 3725, '৮৫৪০': 3726, '১৮৭০': 3727, 'আয়েশাড়': 3728, '৬৬৬০': 3729, '২৬৬০': 3730, 'কাথি': 3731, '২০৬': 3732, '১৪৬০': 3733, '৫০০৬': 3734, 'ট্রে': 3735, '্য': 3736, '২৬৫': 3737, 'সুজনবাবুর': 3738, 'টাকা্': 3739, 'এশা': 3740, 'ত্রিনার': 3741, 'তরী': 3742, 'দেবরাজেকে': 3743, 'ত্রয়ীর': 3744, 'দেরাজের': 3745, 'দেরাজকে': 3746, 'ীল': 3747, '৩৮০': 3748, 'দোল': 3749, 'োলকে': 3750, 'দেই': 3751, 'টুনির': 3752, 'দিব্যার': 3753, 'দিভ্যাকে': 3754, '৪৭৫': 3755, 'মুনমুনকে': 3756, 'সুদিপ্তার': 3757, 'মতিলাল': 3758, '৬৫০': 3759, 'মেশিনের': 3760, 'বার্ষিক': 3761, '%': 3762, 'হ্রাস': 3763, 'পাপ্ত': 3764, 'বুকুবাবু': 3765, 'ধ্রুবর': 3766, 'ধ্রুবদের': 3767, 'অপর': 3768, 'খোলা': 3769, 'সিকি': 3770, 'অশোকনগর': 3771, 'বনগাঁগামী': 3772, 'মইদুল': 3773, 'সমপরিমানে': 3774, 'তিনটির': 3775, 'দুটির': 3776, 'গাছেও': 3777, 'বাগানটিতে': 3778, 'ছাত্রকে': 3779, 'ওইরূপ': 3780, 'রমেশের': 3781, 'বিজোড়': 3782, 'সংখ্যাগুলির': 3783, 'নবীন': 3784, '৫৩০': 3785, '১২৫০': 3786, 'রামবাবু': 3787, '৬২০': 3788, 'ইতিহাসএ': 3789, 'লীলা': 3790, 'বাছহা': 3791, 'টটেলিভিশন': 3792, '৩মাস': 3793, 'হাওড়ার': 3794, 'ক্যারি': 3795, 'রোডের': 3796, 'রায়গঞ্জের': 3797, 'অফিসের': 3798, 'কাজে': 3799, '১৭টে': 3800, 'গান্ধীজির': 3801, 'ই': 3802, 'নভেম্বর': 3803, 'নমিতাদের': 3804, '২৩মে': 3805, 'উমেন': 3806, '২৫ও': 3807, 'ঋতু': 3808, 'তাকা': 3809, 'ডালিয়া': 3810, 'রিয়া': 3811, '৭৮০': 3812, 'ঝাঁড়ুদার': 3813, '৮১৭': 3814, 'রবি': 3815, 'ঠাকুরের': 3816, 'আষাঢ়': 3817, 'স্নেহা': 3818, 'পাখিকে': 3819, 'ইয়ুভান': 3820, 'নদীয়া': 3821, 'রাধাবাবুবাগান': 3822, '৯০রান': 3823, '৮০টি': 3824, 'হাড়ের': 3825, 'ভুতুর': 3826, '১৮০টাকা': 3827, 'ৌসুমির': 3828, '৫৬টাকা': 3829, '১৩০০টাকা': 3830, 'য়ুভান': 3831, 'প্রসেনের': 3832, '্নেহার': 3833, 'কিসাণের': 3834, 'সানিয়া': 3835, '৬৮৯৯': 3836, 'লতার': 3837, 'রুবি': 3838, 'দিআ': 3839, 'হাঁদা': 3840, 'হাতির': 3841, 'হরি': 3842, '৪৪০': 3843, 'বলায়': 3844, 'সুনল': 3845, 'সেরকম': 3846, 'রাখালচন্দ্র': 3847, 'নিলে': 3848, 'সমরবাবু': 3849, 'ফিরলেন': 3850, 'মেয়েকে': 3851, 'আফিশের': 3852, 'আফিসের': 3853, 'ভাইর': 3854, '১৩০০০': 3855, 'রিজা': 3856, 'মামার': 3857, 'পঁচিশ': 3858, 'দিলিপবাবু': 3859, 'দিলিপবাবুর': 3860, '২৫পয়সা': 3861, 'আলো': 3862, 'সুরেশ': 3863, 'সমপরিমান': 3864, 'হিসাবে': 3865, '১৬৫': 3866, 'প্রলয়বাবু': 3867, 'মানুষের': 3868, 'চোখ': 3869, '৬০টি': 3870, 'টিতে': 3871, 'রিহার': 3872, 'সাবানার': 3873, 'সাগর্': 3874, 'সাগার্': 3875, 'আর১০': 3876, 'সৌমেন্': 3877, 'ফলা': 3878, 'রাহিম্': 3879, 'তরুন্': 3880, 'অভির': 3881, 'এবং২১': 3882, 'কা': 3883, 'রাম৪০': 3884, 'কামু': 3885, 'দেবের': 3886, 'রিহানের': 3887, 'তার৩০': 3888, '১২টাকা': 3889, 'নিমার': 3890, 'দ্বীপের': 3891, 'অমলের': 3892, 'অমলকে': 3893, 'এনার': 3894, 'িতা': 3895, 'রাধার': 3896, 'আমনের': 3897, 'বিহানের': 3898, 'কিকুর': 3899, 'টমাটো': 3900, 'হার': 3901, '২০০০০০': 3902, 'িলির': 3903, 'রাহানে': 3904, 'গেছাল': 3905, 'দেবব্রতবাবুর': 3906, '১৬০': 3907, '৪১৮': 3908, '২৪৭৫': 3909, '৫১৫৫': 3910, '৬৩১০': 3911, '৪৫৪৫': 3912, '৩১০৩': 3913, '৫৮১৬': 3914, '৪৯৩৮': 3915, '৮০৫': 3916, '৮০৯': 3917, '৩২৬৩': 3918, '১১৬': 3919, '২৮৩': 3920, '২৬৬': 3921, 'জিতু': 3922, '্বাগানে': 3923, 'রানির': 3924, '০৩৩': 3925, 'পিন্টু': 3926, 'রীতা': 3927, 'জগণের': 3928, 'ঈশিতা': 3929, 'জানাচ্ছেন': 3930, 'সংগ্রহের': 3931, 'তাসগুলি': 3932, 'ঈশান': 3933, 'সংগ্রহগুলি': 3934, 'হিরন্ময়': 3935, 'হিরন্ময়ের': 3936, 'দেবেশ': 3937, 'লাল্টুর': 3938, 'পরীর': 3939, 'ব্রততী': 3940, 'রবারগুলিকে': 3941, 'ব্রততীর': 3942, '২৭০টি': 3943, 'তাসের': 3944, 'তিস্তার': 3945, 'অরিত্রর': 3946, '৯৩০৬': 3947, '৩৮৪০': 3948, 'সামোয়ারকে': 3949, 'আনোয়ারকে': 3950, 'অরুণা': 3951, 'অসীমকে': 3952, 'সামিমকে': 3953, 'বিক্রয়': 3954, 'করন': 3955, 'হাসান': 3956, 'অতিরিক্তগুলো': 3957, 'অতিরিক্তগুলি': 3958, 'দলু': 3959, '২৬৮': 3960, '৫৪৯': 3961, '১১০০': 3962, '৫৪০': 3963, 'রাজিবাবু': 3964, '১০০০০': 3965, 'জিয়ান': 3966, 'সুজানবাবু': 3967, 'তানা': 3968, 'জানু': 3969, 'সুশল': 3970, 'নন্তি': 3971, 'ভলিবল': 3972, 'গাছেন': 3973, 'মিনিত': 3974, 'কতখানি': 3975, 'গেছান': 3976, 'রিয়ার': 3977, 'হরন': 3978, 'আদিতি': 3979, 'মৌনি': 3980, 'তনিমাকে': 3981, 'নর্দার': 3982, 'দোকানিকে': 3983, 'সৌমেন': 3984, 'তোতোন': 3985, 'ফেলেছে': 3986, '১৮৩': 3987, 'ইশানের': 3988, 'জমিয়েছে': 3989, 'বিমাটির': 3990, 'টাকাখরচ': 3991, 'সবুজরা': 3992, 'ছেছে': 3993, 'ধরলো': 3994, 'রিমলি': 3995, 'রাখবে': 3996, 'রিমলী': 3997, 'বীরেন': 3998, 'ফাঁকা': 3999, 'খুঁজি': 4000, 'সামের': 4001, 'নকুলের': 4002, '২৮৮৮': 4003, 'পাচ': 4004, 'ছাদএ': 4005, 'ঘরের': 4006, 'কামালদার': 4007, 'ভেঙ্গে': 4008, 'ঋভুর': 4009, 'সুজানবাবুর': 4010, 'সুজনবাবু': 4011, '২১৬টি': 4012, 'মায়ের': 4013, 'প্রলয়০': 4014, 'োডো': 4015, 'আফ্রিণ': 4016, 'অর্জুনর': 4017, 'অর্জুন': 4018, 'ধ্ররুবদের': 4019, '৫৮৭': 4020, '৫৭৮': 4021, '১৯৯': 4022, '=': 4023, 'সুপারিগাছ': 4024, 'দিঘড়া': 4025, 'হরদয়াল': 4026, 'বাবুলদের': 4027, 'আমগাছে': 4028, 'লোকনাথবাবু': 4029, 'পিনাকীবাবু': 4030, 'পিনাকীবাবুর': 4031, 'দ্বিগুণ': 4032, 'তুমিপ্রতিদিন': 4033, '৩০৫': 4034, '৯৪': 4035, 'শৈলেনবাবু': 4036, '৮৯০': 4037, '২৮৫': 4038, '৭৩৯': 4039, '৫৭০০': 4040, '৩০৫০': 4041, '৩৪৫০': 4042, '৩৭০০': 4043, '৮৫৭৫': 4044, '১৮০০': 4045, 'মুস্কান': 4046, 'মামুন': 4047, 'আফ্রিন': 4048, '৬৭৫০': 4049, '১৩২৫': 4050, '৪০৫': 4051, '৩১৭': 4052, '১২৫৬': 4053, '৫২৭': 4054, '৭২৯': 4055, 'সচিন': 4056, 'হরভজন': 4057, 'যতগুলি': 4058, 'গঠন': 4059, 'ছয়': 4060, 'নয়': 4061, 'শত': 4062, 'পঁচাত্তর': 4063, 'দুইশত': 4064, 'ছয়টি': 4065, '১৭৫৬': 4066, '৬৭৫': 4067, '২৩৯০': 4068, '৩১৮০': 4069, '৯৪৫০': 4070, '৭২০৫': 4071, '১৫৮০': 4072, '১২৩০': 4073, 'লক্ষ': 4074, '৪০৪০': 4075, '৫০৮০': 4076, '১০৩০': 4077, 'চারশত': 4078, '৫০৯৬': 4079, '৫৯৬০': 4080, 'রহিমবাবু': 4081, '৩৮৭৫': 4082, '৩৮৫৭': 4083, '১৫৯৭': 4084, 'চিন্ময়বাবু': 4085, '১০২৫০': 4086, '৭৩২৫': 4087, 'লীলাকে': 4088, '২০২৫': 4089, '৬২৭': 4090, 'রমেনবাবু': 4091, 'একমাসে': 4092, 'একদিনে': 4093, '২১৫': 4094, 'একমাসের': 4095, 'একবছর': 4096, 'বর্ধমানের': 4097, 'বিমলদা': 4098, 'জাদুর': 4099, 'কন': 4100, '১৯৬': 4101, 'রাকেশবাবুর': 4102, 'রাজেস': 4103, 'ঁতির': 4104, 'বিরিয়ানিরা': 4105, 'বেল': 4106, '১১০০০০০': 4107, 'জামাল': 4108, 'অছে': 4109, 'ামাল': 4110, 'কিন্ল': 4111, '২৩টি': 4112, 'সংখ্যা৬টি': 4113, 'অাছে': 4114, '৭৭০': 4115, 'ঋভু': 4116, '৭০টাকার': 4117, '৭টাকা': 4118, '৩জিবি': 4119, '্মিমি': 4120, 'মনিশ': 4121, '১১টা': 4122, 'খেলি': 4123, '্মনিশ': 4124, '্সুন্দর': 4125, 'ডানা': 4126, 'ভিখারি': 4127, '৫২৩': 4128, 'মাস্ক': 4129, '১৩০টি': 4130, 'খেলয়': 4131, '্কিয়ারা': 4132, 'সানারবাড়িতে': 4133, 'থালির': 4134, 'থালি': 4135, '২৩০০': 4136, '৩অ্যাপেল': 4137, 'মহিমের৬': 4138, 'শালবনির': 4139, 'হিমার': 4140, 'তুহিন': 4141, 'ের২': 4142, 'মালির': 4143, 'মারির': 4144, 'ইসা': 4145, 'রুপার': 4146, 'ুপারএখন': 4147, 'সু্মনা': 4148, 'ৌশিক': 4149, 'মহ্নদ্রা': 4150, 'েরপেন্সিলটি': 4151, 'সাহার': 4152, 'পপির': 4153, 'মিজু': 4154, '২২৬': 4155, 'সু্মি': 4156, 'রেহা': 4157, 'সনিয়া': 4158, '্নামি': 4159, '২৮১': 4160, '৭৫০ব্যাগ': 4161, '৫৩২ব্যাগ': 4162, 'কমলােবু': 4163, 'মুনিয়ার': 4164, '৫০০টাকা': 4165, 'অানবে': 4166, 'সহচরের': 4167, 'সাহাির': 4168, 'মির': 4169, 'মিরের': 4170, 'সাহারার': 4171, 'আলোর': 4172, 'কড়ির': 4173, 'রণীতার': 4174, 'মিসর': 4175, 'ীণা': 4176, 'পেয়েছিল': 4177, 'হাঁস্লে': 4178, 'মাছকিনলে': 4179, 'প্রবিরে': 4180, 'প্রিয়ার': 4181, '৪০৪': 4182, 'রিতেশ': 4183, 'লিখে': 4184, 'শারুক': 4185, 'চিত্র': 4186, 'বানিয়েছে': 4187, '৫০টাকা': 4188, 'খোকনবাবুর': 4189, 'শ্রেয়সী': 4190, '১২০০০': 4191, 'সাহানির': 4192, 'বয়সি': 4193, 'গণেশর': 4194, 'তানার': 4195, '৩০টাকা': 4196, 'আধুলি': 4197, 'মধুমিতা': 4198, 'দিপবাবু': 4199, 'তিনটে': 4200, 'ইন্দ্রার': 4201, 'রকম১৪': 4202, 'মেয়ের': 4203, 'রেহার': 4204, '৩০০টি': 4205, 'সু্খেন': 4206, 'বলেছে': 4207, 'পিয়া': 4208, 'কুচরো': 4209, '১৫০টি': 4210, '৪০টি': 4211, 'করেডিম': 4212, 'তোমায়': 4213, 'কাকিমার': 4214, 'দীপক': 4215, 'ভুসিমাল': 4216, 'চলছে': 4217, 'সৌগত': 4218, 'রায়ের': 4219, 'মুদি': 4220, 'পিয়ালী': 4221, 'কলমের': 4222, 'রাজেশ': 4223, 'বিমানবাবু': 4224, '৫৬৮': 4225, '৫৬০০': 4226, 'টিদিয়ে': 4227, 'পাপু': 4228, 'োকান': 4229, 'মহিমের': 4230, 'পরিবারতিনজন': 4231, 'টিশাড়ির': 4232, 'মৌসিয়া': 4233, 'সুবীনের': 4234, 'োদ': 4235, 'রুমা': 4236, 'রুহি': 4237, 'তরুলতার': 4238, 'শীলার': 4239, 'োহিতের': 4240, 'টিেবু': 4241, 'সুহানির': 4242, 'সাজিমের': 4243, 'প্রেমের': 4244, 'নারায়নের': 4245, 'আলাপনের': 4246, 'তনূজার': 4247, 'কিঙ্করের': 4248, 'সুলতার': 4249, 'নিতার': 4250, 'কস্তুরের': 4251, 'দেবাসিস': 4252, 'সুরভি': 4253, 'তরুলতা': 4254, '৯৪৬': 4255, '৯৫৬': 4256, '৪৮০': 4257, '১৩৬০': 4258, 'সবিতা': 4259, 'জিমুত': 4260, '্য৫': 4261, 'সায়নি': 4262, 'কবিতাকে': 4263, 'জয়দেব': 4264, 'ডোডোর': 4265, 'ভোলার': 4266, '৯০টাকা': 4267, 'মোহর': 4268, 'নিধি': 4269, 'ফণী': 4270, 'তিথি': 4271, '২৭টাকা': 4272, 'িশার': 4273, 'পলি': 4274, 'পলির': 4275, 'িনাকীর': 4276, 'বিরাজি': 4277, 'লিপি': 4278, 'অনুলিপির': 4279, 'মৌ': 4280, 'শাওনকে': 4281, 'রাধাকে': 4282, 'মন্দ্রিতার': 4283, '্তার': 4284, 'ডান্ডা': 4285, 'চেরিকে': 4286, 'তনয়া': 4287, 'তনয়াকে': 4288, 'তনয়ার': 4289, '৪৩কেজি': 4290, 'আসনের': 4291, '৫৭৭৫': 4292, 'দীপার': 4293, 'আরুসির': 4294, 'মোহনা': 4295, 'জিৎ': 4296, 'জিতের': 4297, 'সানের': 4298, 'সান': 4299, 'দিনু': 4300, '্দিনু': 4301, 'বিকাসের': 4302, 'পদ্মার': 4303, 'মুনএর': 4304, 'নাতাসার': 4305, 'ীয়ে': 4306, 'উজানবাবুর': 4307, 'সনুর': 4308, 'কালামের': 4309, 'ট্রেনের': 4310, 'ওরম': 4311, 'চয়নিকা': 4312, 'চয়নিকার': 4313, 'জুই': 4314, 'জুইর': 4315, 'জয়র': 4316, 'দে্বের': 4317, '্নদিপ্তা': 4318, 'স্নদিপ্তার': 4319, 'মিতালী': 4320, 'মিসেল': 4321, 'কণা': 4322, 'কণার': 4323, 'আণীশ': 4324, 'ীকী': 4325, 'আনিকার': 4326, 'শ্যামরাই': 4327, 'সুজির': 4328, 'িীর': 4329, '৩৬৬': 4330, '৭৬৬': 4331, '৩৩৩': 4332, '১৯৮৩': 4333, '৯১৬': 4334, 'সুমানা': 4335, 'রিন্তু': 4336, 'এখন২০': 4337, 'তানিয়ার': 4338, 'কাছে৮': 4339, 'বাগানা': 4340, 'রিন্তুর': 4341, 'সুমান': 4342, '্রিন্তু': 4343, 'থেকে৯': 4344, 'কাবির': 4345, 'খেয়েছে৫': 4346, 'থেকে৩': 4347, 'সমুদ্রে৭': 4348, 'কামা': 4349, 'কবি': 4350, 'তানু': 4351, 'তাকে৭': 4352, 'দুপুরে৫': 4353, '্বাদাম': 4354, 'সনা': 4355, 'নমিতা৮': 4356, 'সুবাল': 4357, 'রো্দম': 4358, 'সুপ্রিয': 4359, 'অপেল': 4360, 'কাবির্': 4361, 'অরিজিত্': 4362, 'অবুল্': 4363, 'বানার': 4364, 'তনূ': 4365, '৪২০': 4366, '৭৩৩৩': 4367, '৪৪৪৪': 4368, '৮৭১': 4369, '৩৫৯': 4370, '৪৮৫': 4371, '৭৪১': 4372, '৮০৯৭': 4373, '১৬৯': 4374, '৪৫০৭': 4375, '২৪১': 4376, '১৩০০': 4377, '৬৬০০': 4378, '৭০০গ্রাহক': 4379, '৫৪৫': 4380, '৬৩০০': 4381, '৯৩০': 4382, '৮৩০': 4383, '১ঘন্টা': 4384, '১৭টি': 4385, '২৭৮': 4386, 'তাকায়': 4387, '৬৪৭': 4388, '১১৩৩': 4389, '৪২৮': 4390, '৫২৫': 4391, '২৯৮': 4392, 'আরাও': 4393, '২৬০': 4394, 'কজের': 4395, 'রয়ের': 4396, 'রায়': 4397, 'সাবির': 4398, 'কয়ত': 4399, 'গনিত': 4400, '১৮৫': 4401, 'দিপকে': 4402, '৫০৬': 4403, 'টী': 4404, 'বৈ': 4405, '১৭০০': 4406, 'দাদূ': 4407, 'কিনলান': 4408, '৫দিলে': 4409, 'সেকেণ্ড': 4410, 'দিনা': 4411, '৩৬৫': 4412, 'ঘাস': 4413, 'নিলিমার': 4414, 'দিলিপ': 4415, 'সিন্তু': 4416, 'সুভ': 4417, 'দিপিকা': 4418, 'সুপ্রিয়া': 4419, 'সুবির': 4420, 'সুরাজ': 4421, 'সহি': 4422, 'বারুন': 4423, 'ক্রিপা': 4424, 'জামু': 4425, 'রাতে১': 4426, '৫মিনিতে': 4427, '১০মিনিতে': 4428, 'দিলে৩০': 4429, 'দিবে': 4430, 'ফিজার': 4431, 'সাতাশ': 4432, 'বিল্টু': 4433, 'খকনবাবুর': 4434, 'শ্রেয়সীশ': 4435, 'সামিম': 4436, 'দিকিপবাবু': 4437, 'পইসা': 4438, 'হয়া': 4439, 'রেশমি': 4440, 'রবুল': 4441, 'অঙ্কেরক্ষুদ্রতম': 4442, 'জতিনবাবুর': 4443, 'আগের': 4444, 'আঙ্কের': 4445, 'আয়েশাস': 4446, '৩বাকি': 4447, 'টাকা১টি': 4448, 'কে৫': 4449, '৩০০০টাকা': 4450, '২২৫': 4451, 'মোনার': 4452, 'পরান': 4453, 'বাবুবাগান': 4454, 'গিযে': 4455, 'ফুলদানি': 4456, 'ব্যাগটা': 4457, 'ঘুরিযে': 4458, 'আন্লে': 4459, 'নন্দার': 4460, 'লেখক': 4461, 'এইট': 4462, '৬০টাকার': 4463, '১৫৮': 4464, '৫মাইলে': 4465, 'ঘান্তা': 4466, 'আরও১': 4467, '২৫০০': 4468, '৮২০': 4469, 'হাঁদার': 4470, 'সুমনা': 4471, 'তনা': 4472, 'দেবরাজে': 4473, 'সা': 4474, '৩সা': 4475, 'রমার': 4476, 'তনার': 4477, 'মদনের': 4478, 'রিনা': 4479, 'রয়েছে্': 4480, 'মুনমুনের': 4481}\n"
          ]
        }
      ]
    },
    {
      "cell_type": "code",
      "source": [
        "#word_index"
      ],
      "metadata": {
        "id": "aXJ3cppUPfpw"
      },
      "execution_count": 11,
      "outputs": []
    },
    {
      "cell_type": "code",
      "source": [
        "# Padding the sequence\n",
        "\n",
        "from tensorflow.keras.preprocessing.sequence import pad_sequences\n",
        "max_length = 55\n",
        "lines_pad = pad_sequences(sequence, maxlen = max_length, padding ='post')\n",
        "lines_pad[0]"
      ],
      "metadata": {
        "id": "pdO5q_kk3VfU",
        "colab": {
          "base_uri": "https://localhost:8080/"
        },
        "outputId": "50a88928-9a86-40c2-db71-c31353e350bb"
      },
      "execution_count": 12,
      "outputs": [
        {
          "output_type": "execute_result",
          "data": {
            "text/plain": [
              "array([1283,   72,   66,    5,    1,   16, 1741,   66,  126,    1,   17,\n",
              "         12,   58,   60, 1882,   66,    5,    1,   16,   20,   76,  106,\n",
              "         96,    3,    0,    0,    0,    0,    0,    0,    0,    0,    0,\n",
              "          0,    0,    0,    0,    0,    0,    0,    0,    0,    0,    0,\n",
              "          0,    0,    0,    0,    0,    0,    0,    0,    0,    0,    0],\n",
              "      dtype=int32)"
            ]
          },
          "metadata": {},
          "execution_count": 12
        }
      ]
    },
    {
      "cell_type": "code",
      "source": [
        "#categorical to numerical\n",
        "df[\"Class\"] = df[\"Class\"].map({' -':0, '-':0, ' +':1, '+':1, '*':2, ' *':2, '/':3})"
      ],
      "metadata": {
        "id": "3drzNbAt6Ox8",
        "colab": {
          "base_uri": "https://localhost:8080/"
        },
        "outputId": "046711e1-0cb0-4872-e217-7ca6280c0adb"
      },
      "execution_count": 13,
      "outputs": [
        {
          "output_type": "stream",
          "name": "stderr",
          "text": [
            "<ipython-input-13-363898555310>:2: SettingWithCopyWarning: \n",
            "A value is trying to be set on a copy of a slice from a DataFrame.\n",
            "Try using .loc[row_indexer,col_indexer] = value instead\n",
            "\n",
            "See the caveats in the documentation: https://pandas.pydata.org/pandas-docs/stable/user_guide/indexing.html#returning-a-view-versus-a-copy\n",
            "  df[\"Class\"] = df[\"Class\"].map({' -':0, '-':0, ' +':1, '+':1, '*':2, ' *':2, '/':3})\n"
          ]
        }
      ]
    },
    {
      "cell_type": "code",
      "source": [
        "df[df.isnull().any(axis=1)]"
      ],
      "metadata": {
        "id": "hmAF_R6v6hVe",
        "colab": {
          "base_uri": "https://localhost:8080/",
          "height": 53
        },
        "outputId": "f39e02f8-e194-4f57-eb4f-34b97c59de5c"
      },
      "execution_count": 14,
      "outputs": [
        {
          "output_type": "execute_result",
          "data": {
            "text/plain": [
              "Empty DataFrame\n",
              "Columns: [Problem, Equation, Sollution, Class]\n",
              "Index: []"
            ],
            "text/html": [
              "\n",
              "  <div id=\"df-6843c145-b0dd-4dab-a444-b3e0b4db993c\" class=\"colab-df-container\">\n",
              "    <div>\n",
              "<style scoped>\n",
              "    .dataframe tbody tr th:only-of-type {\n",
              "        vertical-align: middle;\n",
              "    }\n",
              "\n",
              "    .dataframe tbody tr th {\n",
              "        vertical-align: top;\n",
              "    }\n",
              "\n",
              "    .dataframe thead th {\n",
              "        text-align: right;\n",
              "    }\n",
              "</style>\n",
              "<table border=\"1\" class=\"dataframe\">\n",
              "  <thead>\n",
              "    <tr style=\"text-align: right;\">\n",
              "      <th></th>\n",
              "      <th>Problem</th>\n",
              "      <th>Equation</th>\n",
              "      <th>Sollution</th>\n",
              "      <th>Class</th>\n",
              "    </tr>\n",
              "  </thead>\n",
              "  <tbody>\n",
              "  </tbody>\n",
              "</table>\n",
              "</div>\n",
              "    <div class=\"colab-df-buttons\">\n",
              "\n",
              "  <div class=\"colab-df-container\">\n",
              "    <button class=\"colab-df-convert\" onclick=\"convertToInteractive('df-6843c145-b0dd-4dab-a444-b3e0b4db993c')\"\n",
              "            title=\"Convert this dataframe to an interactive table.\"\n",
              "            style=\"display:none;\">\n",
              "\n",
              "  <svg xmlns=\"http://www.w3.org/2000/svg\" height=\"24px\" viewBox=\"0 -960 960 960\">\n",
              "    <path d=\"M120-120v-720h720v720H120Zm60-500h600v-160H180v160Zm220 220h160v-160H400v160Zm0 220h160v-160H400v160ZM180-400h160v-160H180v160Zm440 0h160v-160H620v160ZM180-180h160v-160H180v160Zm440 0h160v-160H620v160Z\"/>\n",
              "  </svg>\n",
              "    </button>\n",
              "\n",
              "  <style>\n",
              "    .colab-df-container {\n",
              "      display:flex;\n",
              "      gap: 12px;\n",
              "    }\n",
              "\n",
              "    .colab-df-convert {\n",
              "      background-color: #E8F0FE;\n",
              "      border: none;\n",
              "      border-radius: 50%;\n",
              "      cursor: pointer;\n",
              "      display: none;\n",
              "      fill: #1967D2;\n",
              "      height: 32px;\n",
              "      padding: 0 0 0 0;\n",
              "      width: 32px;\n",
              "    }\n",
              "\n",
              "    .colab-df-convert:hover {\n",
              "      background-color: #E2EBFA;\n",
              "      box-shadow: 0px 1px 2px rgba(60, 64, 67, 0.3), 0px 1px 3px 1px rgba(60, 64, 67, 0.15);\n",
              "      fill: #174EA6;\n",
              "    }\n",
              "\n",
              "    .colab-df-buttons div {\n",
              "      margin-bottom: 4px;\n",
              "    }\n",
              "\n",
              "    [theme=dark] .colab-df-convert {\n",
              "      background-color: #3B4455;\n",
              "      fill: #D2E3FC;\n",
              "    }\n",
              "\n",
              "    [theme=dark] .colab-df-convert:hover {\n",
              "      background-color: #434B5C;\n",
              "      box-shadow: 0px 1px 3px 1px rgba(0, 0, 0, 0.15);\n",
              "      filter: drop-shadow(0px 1px 2px rgba(0, 0, 0, 0.3));\n",
              "      fill: #FFFFFF;\n",
              "    }\n",
              "  </style>\n",
              "\n",
              "    <script>\n",
              "      const buttonEl =\n",
              "        document.querySelector('#df-6843c145-b0dd-4dab-a444-b3e0b4db993c button.colab-df-convert');\n",
              "      buttonEl.style.display =\n",
              "        google.colab.kernel.accessAllowed ? 'block' : 'none';\n",
              "\n",
              "      async function convertToInteractive(key) {\n",
              "        const element = document.querySelector('#df-6843c145-b0dd-4dab-a444-b3e0b4db993c');\n",
              "        const dataTable =\n",
              "          await google.colab.kernel.invokeFunction('convertToInteractive',\n",
              "                                                    [key], {});\n",
              "        if (!dataTable) return;\n",
              "\n",
              "        const docLinkHtml = 'Like what you see? Visit the ' +\n",
              "          '<a target=\"_blank\" href=https://colab.research.google.com/notebooks/data_table.ipynb>data table notebook</a>'\n",
              "          + ' to learn more about interactive tables.';\n",
              "        element.innerHTML = '';\n",
              "        dataTable['output_type'] = 'display_data';\n",
              "        await google.colab.output.renderOutput(dataTable, element);\n",
              "        const docLink = document.createElement('div');\n",
              "        docLink.innerHTML = docLinkHtml;\n",
              "        element.appendChild(docLink);\n",
              "      }\n",
              "    </script>\n",
              "  </div>\n",
              "\n",
              "\n",
              "    </div>\n",
              "  </div>\n"
            ],
            "application/vnd.google.colaboratory.intrinsic+json": {
              "type": "dataframe",
              "repr_error": "Out of range float values are not JSON compliant: nan"
            }
          },
          "metadata": {},
          "execution_count": 14
        }
      ]
    },
    {
      "cell_type": "code",
      "source": [
        "# Shuffle our dataset\n",
        "import numpy as np\n",
        "category = df[\"Class\"].values\n",
        "\n",
        "indices = np.arange(lines_pad.shape[0])\n",
        "np.random.shuffle(indices)\n",
        "lines_pad = lines_pad[indices]\n",
        "category = category[indices]"
      ],
      "metadata": {
        "id": "m3Z2kXIRdu3r"
      },
      "execution_count": 15,
      "outputs": []
    },
    {
      "cell_type": "code",
      "source": [
        "category"
      ],
      "metadata": {
        "id": "G2neubmIofOb",
        "colab": {
          "base_uri": "https://localhost:8080/"
        },
        "outputId": "30993b3e-6974-4c1d-b066-e8b60d17b9d4"
      },
      "execution_count": 16,
      "outputs": [
        {
          "output_type": "execute_result",
          "data": {
            "text/plain": [
              "array([1, 1, 1, ..., 1, 2, 0])"
            ]
          },
          "metadata": {},
          "execution_count": 16
        }
      ]
    },
    {
      "cell_type": "code",
      "source": [
        "#Convert the classes into one hot vector\n",
        "n_values = np.max(category) + 1\n",
        "y = np.eye(n_values)[category]"
      ],
      "metadata": {
        "id": "6IY3fMlwpuCK"
      },
      "execution_count": 17,
      "outputs": []
    },
    {
      "cell_type": "code",
      "source": [
        "y[0]"
      ],
      "metadata": {
        "id": "Rg3VCzs8pwJ6",
        "colab": {
          "base_uri": "https://localhost:8080/"
        },
        "outputId": "66b32a41-4afb-4a63-872e-ed562e5d8204"
      },
      "execution_count": 18,
      "outputs": [
        {
          "output_type": "execute_result",
          "data": {
            "text/plain": [
              "array([0., 1., 0., 0.])"
            ]
          },
          "metadata": {},
          "execution_count": 18
        }
      ]
    },
    {
      "cell_type": "code",
      "source": [
        "lines_pad[0]"
      ],
      "metadata": {
        "id": "8b3m-51opxAg",
        "colab": {
          "base_uri": "https://localhost:8080/"
        },
        "outputId": "2a3dbd2c-e49b-4999-808a-45edcf7dc9c6"
      },
      "execution_count": 19,
      "outputs": [
        {
          "output_type": "execute_result",
          "data": {
            "text/plain": [
              "array([3867,  315,  705,   21, 1308,   21,  293,  774,   13,   41,  705,\n",
              "         21, 1308,   21,  293,  150,   79,  170,  705,   21, 1308,   21,\n",
              "        293, 3293,  217,  348,   13,   16,    8,    4,  293,  217,  348,\n",
              "          1,    0,    0,    0,    0,    0,    0,    0,    0,    0,    0,\n",
              "          0,    0,    0,    0,    0,    0,    0,    0,    0,    0,    0],\n",
              "      dtype=int32)"
            ]
          },
          "metadata": {},
          "execution_count": 19
        }
      ]
    },
    {
      "cell_type": "code",
      "source": [
        "# Split the dataset\n",
        "#manually splitting\n",
        "split_data = 0.2\n",
        "num_split_samples = int(split_data*lines_pad.shape[0])\n",
        "\n",
        "x = lines_pad[:-num_split_samples]\n",
        "y = y[ :-num_split_samples]\n",
        "x_test = lines_pad[-num_split_samples:]\n",
        "y_test = y[-num_split_samples:]"
      ],
      "metadata": {
        "id": "WQsDLG2ZtVBE"
      },
      "execution_count": 20,
      "outputs": []
    },
    {
      "cell_type": "code",
      "source": [
        "num_split_samples #test data"
      ],
      "metadata": {
        "id": "7ocOWWVktVQz",
        "colab": {
          "base_uri": "https://localhost:8080/"
        },
        "outputId": "2f44fcea-b6b6-4160-bacf-f4be93d25678"
      },
      "execution_count": 21,
      "outputs": [
        {
          "output_type": "execute_result",
          "data": {
            "text/plain": [
              "1731"
            ]
          },
          "metadata": {},
          "execution_count": 21
        }
      ]
    },
    {
      "cell_type": "code",
      "source": [
        "y"
      ],
      "metadata": {
        "id": "-IQoup3St04Q",
        "colab": {
          "base_uri": "https://localhost:8080/"
        },
        "outputId": "ec30efa2-b381-4089-930e-317428dfd616"
      },
      "execution_count": 22,
      "outputs": [
        {
          "output_type": "execute_result",
          "data": {
            "text/plain": [
              "array([[0., 1., 0., 0.],\n",
              "       [0., 1., 0., 0.],\n",
              "       [0., 1., 0., 0.],\n",
              "       ...,\n",
              "       [0., 1., 0., 0.],\n",
              "       [0., 1., 0., 0.],\n",
              "       [1., 0., 0., 0.]])"
            ]
          },
          "metadata": {},
          "execution_count": 22
        }
      ]
    },
    {
      "cell_type": "markdown",
      "source": [
        "## Best performing model - LSTM"
      ],
      "metadata": {
        "id": "3qTNdgPPnHOl"
      }
    },
    {
      "cell_type": "code",
      "source": [
        "from keras.models import Sequential\n",
        "from keras.layers import Dense\n",
        "from keras.layers import LSTM\n",
        "from keras.layers import Dropout"
      ],
      "metadata": {
        "id": "TP7FUq26uw3K"
      },
      "execution_count": 23,
      "outputs": []
    },
    {
      "cell_type": "code",
      "source": [
        "Lstm_model= Sequential()\n",
        "\n",
        "Lstm_model.add(LSTM(units = 100, return_sequences = True, input_shape = (x.shape[1], 1)))\n",
        "Lstm_model.add(Dropout(0.2))\n",
        "\n",
        "'''Lstm_model.add(LSTM(units = 100, return_sequences = True))\n",
        "Lstm_model.add(Dropout(0.2))\n",
        "\n",
        "Lstm_model.add(LSTM(units = 100, return_sequences = True))\n",
        "Lstm_model.add(Dropout(0.2))'''\n",
        "\n",
        "Lstm_model.add(LSTM(units = 100))\n",
        "Lstm_model.add(Dropout(0.2))\n",
        "\n",
        "Lstm_model.add(Dense(units = 4, activation='softmax'))\n",
        "\n",
        "#Lstm_model.compile(optimizer = 'adam', loss = 'mean_squared_error')\n",
        "Lstm_model.compile(loss='categorical_crossentropy', optimizer='adam', metrics=['accuracy'])\n",
        "Lstm_model.summary()"
      ],
      "metadata": {
        "id": "yAr4ACiGnGFN",
        "colab": {
          "base_uri": "https://localhost:8080/",
          "height": 344
        },
        "outputId": "06e686ec-1ab6-4d4c-df53-c45c83393b40"
      },
      "execution_count": 24,
      "outputs": [
        {
          "output_type": "stream",
          "name": "stderr",
          "text": [
            "/usr/local/lib/python3.10/dist-packages/keras/src/layers/rnn/rnn.py:204: UserWarning: Do not pass an `input_shape`/`input_dim` argument to a layer. When using Sequential models, prefer using an `Input(shape)` object as the first layer in the model instead.\n",
            "  super().__init__(**kwargs)\n"
          ]
        },
        {
          "output_type": "display_data",
          "data": {
            "text/plain": [
              "\u001b[1mModel: \"sequential\"\u001b[0m\n"
            ],
            "text/html": [
              "<pre style=\"white-space:pre;overflow-x:auto;line-height:normal;font-family:Menlo,'DejaVu Sans Mono',consolas,'Courier New',monospace\"><span style=\"font-weight: bold\">Model: \"sequential\"</span>\n",
              "</pre>\n"
            ]
          },
          "metadata": {}
        },
        {
          "output_type": "display_data",
          "data": {
            "text/plain": [
              "┏━━━━━━━━━━━━━━━━━━━━━━━━━━━━━━━━━━━━━━┳━━━━━━━━━━━━━━━━━━━━━━━━━━━━━┳━━━━━━━━━━━━━━━━━┓\n",
              "┃\u001b[1m \u001b[0m\u001b[1mLayer (type)                        \u001b[0m\u001b[1m \u001b[0m┃\u001b[1m \u001b[0m\u001b[1mOutput Shape               \u001b[0m\u001b[1m \u001b[0m┃\u001b[1m \u001b[0m\u001b[1m        Param #\u001b[0m\u001b[1m \u001b[0m┃\n",
              "┡━━━━━━━━━━━━━━━━━━━━━━━━━━━━━━━━━━━━━━╇━━━━━━━━━━━━━━━━━━━━━━━━━━━━━╇━━━━━━━━━━━━━━━━━┩\n",
              "│ lstm (\u001b[38;5;33mLSTM\u001b[0m)                          │ (\u001b[38;5;45mNone\u001b[0m, \u001b[38;5;34m55\u001b[0m, \u001b[38;5;34m100\u001b[0m)             │          \u001b[38;5;34m40,800\u001b[0m │\n",
              "├──────────────────────────────────────┼─────────────────────────────┼─────────────────┤\n",
              "│ dropout (\u001b[38;5;33mDropout\u001b[0m)                    │ (\u001b[38;5;45mNone\u001b[0m, \u001b[38;5;34m55\u001b[0m, \u001b[38;5;34m100\u001b[0m)             │               \u001b[38;5;34m0\u001b[0m │\n",
              "├──────────────────────────────────────┼─────────────────────────────┼─────────────────┤\n",
              "│ lstm_1 (\u001b[38;5;33mLSTM\u001b[0m)                        │ (\u001b[38;5;45mNone\u001b[0m, \u001b[38;5;34m100\u001b[0m)                 │          \u001b[38;5;34m80,400\u001b[0m │\n",
              "├──────────────────────────────────────┼─────────────────────────────┼─────────────────┤\n",
              "│ dropout_1 (\u001b[38;5;33mDropout\u001b[0m)                  │ (\u001b[38;5;45mNone\u001b[0m, \u001b[38;5;34m100\u001b[0m)                 │               \u001b[38;5;34m0\u001b[0m │\n",
              "├──────────────────────────────────────┼─────────────────────────────┼─────────────────┤\n",
              "│ dense (\u001b[38;5;33mDense\u001b[0m)                        │ (\u001b[38;5;45mNone\u001b[0m, \u001b[38;5;34m4\u001b[0m)                   │             \u001b[38;5;34m404\u001b[0m │\n",
              "└──────────────────────────────────────┴─────────────────────────────┴─────────────────┘\n"
            ],
            "text/html": [
              "<pre style=\"white-space:pre;overflow-x:auto;line-height:normal;font-family:Menlo,'DejaVu Sans Mono',consolas,'Courier New',monospace\">┏━━━━━━━━━━━━━━━━━━━━━━━━━━━━━━━━━━━━━━┳━━━━━━━━━━━━━━━━━━━━━━━━━━━━━┳━━━━━━━━━━━━━━━━━┓\n",
              "┃<span style=\"font-weight: bold\"> Layer (type)                         </span>┃<span style=\"font-weight: bold\"> Output Shape                </span>┃<span style=\"font-weight: bold\">         Param # </span>┃\n",
              "┡━━━━━━━━━━━━━━━━━━━━━━━━━━━━━━━━━━━━━━╇━━━━━━━━━━━━━━━━━━━━━━━━━━━━━╇━━━━━━━━━━━━━━━━━┩\n",
              "│ lstm (<span style=\"color: #0087ff; text-decoration-color: #0087ff\">LSTM</span>)                          │ (<span style=\"color: #00d7ff; text-decoration-color: #00d7ff\">None</span>, <span style=\"color: #00af00; text-decoration-color: #00af00\">55</span>, <span style=\"color: #00af00; text-decoration-color: #00af00\">100</span>)             │          <span style=\"color: #00af00; text-decoration-color: #00af00\">40,800</span> │\n",
              "├──────────────────────────────────────┼─────────────────────────────┼─────────────────┤\n",
              "│ dropout (<span style=\"color: #0087ff; text-decoration-color: #0087ff\">Dropout</span>)                    │ (<span style=\"color: #00d7ff; text-decoration-color: #00d7ff\">None</span>, <span style=\"color: #00af00; text-decoration-color: #00af00\">55</span>, <span style=\"color: #00af00; text-decoration-color: #00af00\">100</span>)             │               <span style=\"color: #00af00; text-decoration-color: #00af00\">0</span> │\n",
              "├──────────────────────────────────────┼─────────────────────────────┼─────────────────┤\n",
              "│ lstm_1 (<span style=\"color: #0087ff; text-decoration-color: #0087ff\">LSTM</span>)                        │ (<span style=\"color: #00d7ff; text-decoration-color: #00d7ff\">None</span>, <span style=\"color: #00af00; text-decoration-color: #00af00\">100</span>)                 │          <span style=\"color: #00af00; text-decoration-color: #00af00\">80,400</span> │\n",
              "├──────────────────────────────────────┼─────────────────────────────┼─────────────────┤\n",
              "│ dropout_1 (<span style=\"color: #0087ff; text-decoration-color: #0087ff\">Dropout</span>)                  │ (<span style=\"color: #00d7ff; text-decoration-color: #00d7ff\">None</span>, <span style=\"color: #00af00; text-decoration-color: #00af00\">100</span>)                 │               <span style=\"color: #00af00; text-decoration-color: #00af00\">0</span> │\n",
              "├──────────────────────────────────────┼─────────────────────────────┼─────────────────┤\n",
              "│ dense (<span style=\"color: #0087ff; text-decoration-color: #0087ff\">Dense</span>)                        │ (<span style=\"color: #00d7ff; text-decoration-color: #00d7ff\">None</span>, <span style=\"color: #00af00; text-decoration-color: #00af00\">4</span>)                   │             <span style=\"color: #00af00; text-decoration-color: #00af00\">404</span> │\n",
              "└──────────────────────────────────────┴─────────────────────────────┴─────────────────┘\n",
              "</pre>\n"
            ]
          },
          "metadata": {}
        },
        {
          "output_type": "display_data",
          "data": {
            "text/plain": [
              "\u001b[1m Total params: \u001b[0m\u001b[38;5;34m121,604\u001b[0m (475.02 KB)\n"
            ],
            "text/html": [
              "<pre style=\"white-space:pre;overflow-x:auto;line-height:normal;font-family:Menlo,'DejaVu Sans Mono',consolas,'Courier New',monospace\"><span style=\"font-weight: bold\"> Total params: </span><span style=\"color: #00af00; text-decoration-color: #00af00\">121,604</span> (475.02 KB)\n",
              "</pre>\n"
            ]
          },
          "metadata": {}
        },
        {
          "output_type": "display_data",
          "data": {
            "text/plain": [
              "\u001b[1m Trainable params: \u001b[0m\u001b[38;5;34m121,604\u001b[0m (475.02 KB)\n"
            ],
            "text/html": [
              "<pre style=\"white-space:pre;overflow-x:auto;line-height:normal;font-family:Menlo,'DejaVu Sans Mono',consolas,'Courier New',monospace\"><span style=\"font-weight: bold\"> Trainable params: </span><span style=\"color: #00af00; text-decoration-color: #00af00\">121,604</span> (475.02 KB)\n",
              "</pre>\n"
            ]
          },
          "metadata": {}
        },
        {
          "output_type": "display_data",
          "data": {
            "text/plain": [
              "\u001b[1m Non-trainable params: \u001b[0m\u001b[38;5;34m0\u001b[0m (0.00 B)\n"
            ],
            "text/html": [
              "<pre style=\"white-space:pre;overflow-x:auto;line-height:normal;font-family:Menlo,'DejaVu Sans Mono',consolas,'Courier New',monospace\"><span style=\"font-weight: bold\"> Non-trainable params: </span><span style=\"color: #00af00; text-decoration-color: #00af00\">0</span> (0.00 B)\n",
              "</pre>\n"
            ]
          },
          "metadata": {}
        }
      ]
    },
    {
      "cell_type": "code",
      "source": [
        "print('Train....')\n",
        "\n",
        "history=Lstm_model.fit(x, y, batch_size=32, epochs=100, validation_data=(x_test, y_test))"
      ],
      "metadata": {
        "colab": {
          "base_uri": "https://localhost:8080/"
        },
        "id": "N_BjXrebcbrl",
        "outputId": "2abba98e-79b5-4e59-b81c-fad8d14b2814"
      },
      "execution_count": 25,
      "outputs": [
        {
          "output_type": "stream",
          "name": "stdout",
          "text": [
            "Train....\n",
            "Epoch 1/100\n",
            "\u001b[1m217/217\u001b[0m \u001b[32m━━━━━━━━━━━━━━━━━━━━\u001b[0m\u001b[37m\u001b[0m \u001b[1m28s\u001b[0m 115ms/step - accuracy: 0.3770 - loss: 1.2848 - val_accuracy: 0.2900 - val_loss: 1.4098\n",
            "Epoch 2/100\n",
            "\u001b[1m217/217\u001b[0m \u001b[32m━━━━━━━━━━━━━━━━━━━━\u001b[0m\u001b[37m\u001b[0m \u001b[1m37s\u001b[0m 97ms/step - accuracy: 0.4374 - loss: 1.2060 - val_accuracy: 0.3276 - val_loss: 1.4741\n",
            "Epoch 3/100\n",
            "\u001b[1m217/217\u001b[0m \u001b[32m━━━━━━━━━━━━━━━━━━━━\u001b[0m\u001b[37m\u001b[0m \u001b[1m47s\u001b[0m 125ms/step - accuracy: 0.4668 - loss: 1.1262 - val_accuracy: 0.3131 - val_loss: 1.5757\n",
            "Epoch 4/100\n",
            "\u001b[1m217/217\u001b[0m \u001b[32m━━━━━━━━━━━━━━━━━━━━\u001b[0m\u001b[37m\u001b[0m \u001b[1m33s\u001b[0m 88ms/step - accuracy: 0.4858 - loss: 1.0882 - val_accuracy: 0.3247 - val_loss: 1.5782\n",
            "Epoch 5/100\n",
            "\u001b[1m217/217\u001b[0m \u001b[32m━━━━━━━━━━━━━━━━━━━━\u001b[0m\u001b[37m\u001b[0m \u001b[1m21s\u001b[0m 91ms/step - accuracy: 0.5137 - loss: 1.0449 - val_accuracy: 0.2929 - val_loss: 1.6109\n",
            "Epoch 6/100\n",
            "\u001b[1m217/217\u001b[0m \u001b[32m━━━━━━━━━━━━━━━━━━━━\u001b[0m\u001b[37m\u001b[0m \u001b[1m21s\u001b[0m 92ms/step - accuracy: 0.5238 - loss: 1.0230 - val_accuracy: 0.3027 - val_loss: 1.6730\n",
            "Epoch 7/100\n",
            "\u001b[1m217/217\u001b[0m \u001b[32m━━━━━━━━━━━━━━━━━━━━\u001b[0m\u001b[37m\u001b[0m \u001b[1m19s\u001b[0m 88ms/step - accuracy: 0.5242 - loss: 0.9891 - val_accuracy: 0.2842 - val_loss: 1.8663\n",
            "Epoch 8/100\n",
            "\u001b[1m217/217\u001b[0m \u001b[32m━━━━━━━━━━━━━━━━━━━━\u001b[0m\u001b[37m\u001b[0m \u001b[1m22s\u001b[0m 95ms/step - accuracy: 0.5508 - loss: 0.9519 - val_accuracy: 0.2981 - val_loss: 1.9019\n",
            "Epoch 9/100\n",
            "\u001b[1m217/217\u001b[0m \u001b[32m━━━━━━━━━━━━━━━━━━━━\u001b[0m\u001b[37m\u001b[0m \u001b[1m41s\u001b[0m 93ms/step - accuracy: 0.5645 - loss: 0.9178 - val_accuracy: 0.2992 - val_loss: 1.9325\n",
            "Epoch 10/100\n",
            "\u001b[1m217/217\u001b[0m \u001b[32m━━━━━━━━━━━━━━━━━━━━\u001b[0m\u001b[37m\u001b[0m \u001b[1m20s\u001b[0m 91ms/step - accuracy: 0.5945 - loss: 0.8800 - val_accuracy: 0.2900 - val_loss: 1.9510\n",
            "Epoch 11/100\n",
            "\u001b[1m217/217\u001b[0m \u001b[32m━━━━━━━━━━━━━━━━━━━━\u001b[0m\u001b[37m\u001b[0m \u001b[1m20s\u001b[0m 88ms/step - accuracy: 0.5953 - loss: 0.8747 - val_accuracy: 0.2854 - val_loss: 2.2119\n",
            "Epoch 12/100\n",
            "\u001b[1m217/217\u001b[0m \u001b[32m━━━━━━━━━━━━━━━━━━━━\u001b[0m\u001b[37m\u001b[0m \u001b[1m26s\u001b[0m 116ms/step - accuracy: 0.6167 - loss: 0.8353 - val_accuracy: 0.2877 - val_loss: 2.1237\n",
            "Epoch 13/100\n",
            "\u001b[1m217/217\u001b[0m \u001b[32m━━━━━━━━━━━━━━━━━━━━\u001b[0m\u001b[37m\u001b[0m \u001b[1m35s\u001b[0m 89ms/step - accuracy: 0.6387 - loss: 0.8050 - val_accuracy: 0.2871 - val_loss: 2.0813\n",
            "Epoch 14/100\n",
            "\u001b[1m217/217\u001b[0m \u001b[32m━━━━━━━━━━━━━━━━━━━━\u001b[0m\u001b[37m\u001b[0m \u001b[1m21s\u001b[0m 92ms/step - accuracy: 0.6506 - loss: 0.8029 - val_accuracy: 0.3021 - val_loss: 2.3122\n",
            "Epoch 15/100\n",
            "\u001b[1m217/217\u001b[0m \u001b[32m━━━━━━━━━━━━━━━━━━━━\u001b[0m\u001b[37m\u001b[0m \u001b[1m20s\u001b[0m 89ms/step - accuracy: 0.6656 - loss: 0.7419 - val_accuracy: 0.2894 - val_loss: 2.0274\n",
            "Epoch 16/100\n",
            "\u001b[1m217/217\u001b[0m \u001b[32m━━━━━━━━━━━━━━━━━━━━\u001b[0m\u001b[37m\u001b[0m \u001b[1m23s\u001b[0m 98ms/step - accuracy: 0.6912 - loss: 0.7158 - val_accuracy: 0.3068 - val_loss: 2.2817\n",
            "Epoch 17/100\n",
            "\u001b[1m217/217\u001b[0m \u001b[32m━━━━━━━━━━━━━━━━━━━━\u001b[0m\u001b[37m\u001b[0m \u001b[1m40s\u001b[0m 94ms/step - accuracy: 0.7256 - loss: 0.6587 - val_accuracy: 0.2935 - val_loss: 2.4355\n",
            "Epoch 18/100\n",
            "\u001b[1m217/217\u001b[0m \u001b[32m━━━━━━━━━━━━━━━━━━━━\u001b[0m\u001b[37m\u001b[0m \u001b[1m21s\u001b[0m 97ms/step - accuracy: 0.7131 - loss: 0.6769 - val_accuracy: 0.3050 - val_loss: 2.4819\n",
            "Epoch 19/100\n",
            "\u001b[1m217/217\u001b[0m \u001b[32m━━━━━━━━━━━━━━━━━━━━\u001b[0m\u001b[37m\u001b[0m \u001b[1m40s\u001b[0m 90ms/step - accuracy: 0.7422 - loss: 0.6382 - val_accuracy: 0.2837 - val_loss: 2.3783\n",
            "Epoch 20/100\n",
            "\u001b[1m217/217\u001b[0m \u001b[32m━━━━━━━━━━━━━━━━━━━━\u001b[0m\u001b[37m\u001b[0m \u001b[1m20s\u001b[0m 88ms/step - accuracy: 0.7615 - loss: 0.5973 - val_accuracy: 0.3062 - val_loss: 2.6201\n",
            "Epoch 21/100\n",
            "\u001b[1m217/217\u001b[0m \u001b[32m━━━━━━━━━━━━━━━━━━━━\u001b[0m\u001b[37m\u001b[0m \u001b[1m22s\u001b[0m 96ms/step - accuracy: 0.7769 - loss: 0.5672 - val_accuracy: 0.2992 - val_loss: 2.4622\n",
            "Epoch 22/100\n",
            "\u001b[1m217/217\u001b[0m \u001b[32m━━━━━━━━━━━━━━━━━━━━\u001b[0m\u001b[37m\u001b[0m \u001b[1m40s\u001b[0m 93ms/step - accuracy: 0.7846 - loss: 0.5531 - val_accuracy: 0.2889 - val_loss: 2.6031\n",
            "Epoch 23/100\n",
            "\u001b[1m217/217\u001b[0m \u001b[32m━━━━━━━━━━━━━━━━━━━━\u001b[0m\u001b[37m\u001b[0m \u001b[1m20s\u001b[0m 91ms/step - accuracy: 0.7965 - loss: 0.5269 - val_accuracy: 0.2987 - val_loss: 2.6646\n",
            "Epoch 24/100\n",
            "\u001b[1m217/217\u001b[0m \u001b[32m━━━━━━━━━━━━━━━━━━━━\u001b[0m\u001b[37m\u001b[0m \u001b[1m20s\u001b[0m 88ms/step - accuracy: 0.8100 - loss: 0.4988 - val_accuracy: 0.2958 - val_loss: 2.7168\n",
            "Epoch 25/100\n",
            "\u001b[1m217/217\u001b[0m \u001b[32m━━━━━━━━━━━━━━━━━━━━\u001b[0m\u001b[37m\u001b[0m \u001b[1m21s\u001b[0m 98ms/step - accuracy: 0.8183 - loss: 0.4915 - val_accuracy: 0.3010 - val_loss: 2.8631\n",
            "Epoch 26/100\n",
            "\u001b[1m217/217\u001b[0m \u001b[32m━━━━━━━━━━━━━━━━━━━━\u001b[0m\u001b[37m\u001b[0m \u001b[1m40s\u001b[0m 91ms/step - accuracy: 0.8158 - loss: 0.4856 - val_accuracy: 0.2964 - val_loss: 2.8810\n",
            "Epoch 27/100\n",
            "\u001b[1m217/217\u001b[0m \u001b[32m━━━━━━━━━━━━━━━━━━━━\u001b[0m\u001b[37m\u001b[0m \u001b[1m20s\u001b[0m 92ms/step - accuracy: 0.8116 - loss: 0.5005 - val_accuracy: 0.2709 - val_loss: 2.7504\n",
            "Epoch 28/100\n",
            "\u001b[1m217/217\u001b[0m \u001b[32m━━━━━━━━━━━━━━━━━━━━\u001b[0m\u001b[37m\u001b[0m \u001b[1m21s\u001b[0m 94ms/step - accuracy: 0.8282 - loss: 0.4592 - val_accuracy: 0.2848 - val_loss: 2.9937\n",
            "Epoch 29/100\n",
            "\u001b[1m217/217\u001b[0m \u001b[32m━━━━━━━━━━━━━━━━━━━━\u001b[0m\u001b[37m\u001b[0m \u001b[1m21s\u001b[0m 95ms/step - accuracy: 0.8367 - loss: 0.4316 - val_accuracy: 0.2802 - val_loss: 3.1142\n",
            "Epoch 30/100\n",
            "\u001b[1m217/217\u001b[0m \u001b[32m━━━━━━━━━━━━━━━━━━━━\u001b[0m\u001b[37m\u001b[0m \u001b[1m40s\u001b[0m 90ms/step - accuracy: 0.8494 - loss: 0.4048 - val_accuracy: 0.2871 - val_loss: 3.0959\n",
            "Epoch 31/100\n",
            "\u001b[1m217/217\u001b[0m \u001b[32m━━━━━━━━━━━━━━━━━━━━\u001b[0m\u001b[37m\u001b[0m \u001b[1m21s\u001b[0m 91ms/step - accuracy: 0.8569 - loss: 0.4021 - val_accuracy: 0.2865 - val_loss: 3.1931\n",
            "Epoch 32/100\n",
            "\u001b[1m217/217\u001b[0m \u001b[32m━━━━━━━━━━━━━━━━━━━━\u001b[0m\u001b[37m\u001b[0m \u001b[1m19s\u001b[0m 89ms/step - accuracy: 0.8707 - loss: 0.3634 - val_accuracy: 0.2837 - val_loss: 3.0781\n",
            "Epoch 33/100\n",
            "\u001b[1m217/217\u001b[0m \u001b[32m━━━━━━━━━━━━━━━━━━━━\u001b[0m\u001b[37m\u001b[0m \u001b[1m22s\u001b[0m 95ms/step - accuracy: 0.8570 - loss: 0.3854 - val_accuracy: 0.3016 - val_loss: 2.9835\n",
            "Epoch 34/100\n",
            "\u001b[1m217/217\u001b[0m \u001b[32m━━━━━━━━━━━━━━━━━━━━\u001b[0m\u001b[37m\u001b[0m \u001b[1m41s\u001b[0m 97ms/step - accuracy: 0.8736 - loss: 0.3735 - val_accuracy: 0.2865 - val_loss: 3.2500\n",
            "Epoch 35/100\n",
            "\u001b[1m217/217\u001b[0m \u001b[32m━━━━━━━━━━━━━━━━━━━━\u001b[0m\u001b[37m\u001b[0m \u001b[1m40s\u001b[0m 95ms/step - accuracy: 0.8746 - loss: 0.3625 - val_accuracy: 0.2964 - val_loss: 3.2624\n",
            "Epoch 36/100\n",
            "\u001b[1m217/217\u001b[0m \u001b[32m━━━━━━━━━━━━━━━━━━━━\u001b[0m\u001b[37m\u001b[0m \u001b[1m20s\u001b[0m 93ms/step - accuracy: 0.8653 - loss: 0.3712 - val_accuracy: 0.2906 - val_loss: 3.2948\n",
            "Epoch 37/100\n",
            "\u001b[1m217/217\u001b[0m \u001b[32m━━━━━━━━━━━━━━━━━━━━\u001b[0m\u001b[37m\u001b[0m \u001b[1m19s\u001b[0m 89ms/step - accuracy: 0.8734 - loss: 0.3548 - val_accuracy: 0.2958 - val_loss: 3.2546\n",
            "Epoch 38/100\n",
            "\u001b[1m217/217\u001b[0m \u001b[32m━━━━━━━━━━━━━━━━━━━━\u001b[0m\u001b[37m\u001b[0m \u001b[1m20s\u001b[0m 90ms/step - accuracy: 0.8437 - loss: 0.4184 - val_accuracy: 0.2940 - val_loss: 3.4623\n",
            "Epoch 39/100\n",
            "\u001b[1m217/217\u001b[0m \u001b[32m━━━━━━━━━━━━━━━━━━━━\u001b[0m\u001b[37m\u001b[0m \u001b[1m20s\u001b[0m 94ms/step - accuracy: 0.8738 - loss: 0.3324 - val_accuracy: 0.2952 - val_loss: 3.3683\n",
            "Epoch 40/100\n",
            "\u001b[1m217/217\u001b[0m \u001b[32m━━━━━━━━━━━━━━━━━━━━\u001b[0m\u001b[37m\u001b[0m \u001b[1m19s\u001b[0m 89ms/step - accuracy: 0.8724 - loss: 0.3575 - val_accuracy: 0.2860 - val_loss: 3.3917\n",
            "Epoch 41/100\n",
            "\u001b[1m217/217\u001b[0m \u001b[32m━━━━━━━━━━━━━━━━━━━━\u001b[0m\u001b[37m\u001b[0m \u001b[1m20s\u001b[0m 94ms/step - accuracy: 0.8784 - loss: 0.3265 - val_accuracy: 0.2842 - val_loss: 3.4487\n",
            "Epoch 42/100\n",
            "\u001b[1m217/217\u001b[0m \u001b[32m━━━━━━━━━━━━━━━━━━━━\u001b[0m\u001b[37m\u001b[0m \u001b[1m41s\u001b[0m 94ms/step - accuracy: 0.8826 - loss: 0.3154 - val_accuracy: 0.2889 - val_loss: 3.5002\n",
            "Epoch 43/100\n",
            "\u001b[1m217/217\u001b[0m \u001b[32m━━━━━━━━━━━━━━━━━━━━\u001b[0m\u001b[37m\u001b[0m \u001b[1m40s\u001b[0m 89ms/step - accuracy: 0.8728 - loss: 0.3390 - val_accuracy: 0.2865 - val_loss: 3.4319\n",
            "Epoch 44/100\n",
            "\u001b[1m217/217\u001b[0m \u001b[32m━━━━━━━━━━━━━━━━━━━━\u001b[0m\u001b[37m\u001b[0m \u001b[1m21s\u001b[0m 92ms/step - accuracy: 0.8759 - loss: 0.3441 - val_accuracy: 0.2877 - val_loss: 3.3963\n",
            "Epoch 45/100\n",
            "\u001b[1m217/217\u001b[0m \u001b[32m━━━━━━━━━━━━━━━━━━━━\u001b[0m\u001b[37m\u001b[0m \u001b[1m20s\u001b[0m 91ms/step - accuracy: 0.8765 - loss: 0.3202 - val_accuracy: 0.2865 - val_loss: 3.5406\n",
            "Epoch 46/100\n",
            "\u001b[1m217/217\u001b[0m \u001b[32m━━━━━━━━━━━━━━━━━━━━\u001b[0m\u001b[37m\u001b[0m \u001b[1m21s\u001b[0m 96ms/step - accuracy: 0.8834 - loss: 0.3033 - val_accuracy: 0.2923 - val_loss: 3.5936\n",
            "Epoch 47/100\n",
            "\u001b[1m217/217\u001b[0m \u001b[32m━━━━━━━━━━━━━━━━━━━━\u001b[0m\u001b[37m\u001b[0m \u001b[1m40s\u001b[0m 92ms/step - accuracy: 0.8717 - loss: 0.3370 - val_accuracy: 0.2848 - val_loss: 3.7982\n",
            "Epoch 48/100\n",
            "\u001b[1m217/217\u001b[0m \u001b[32m━━━━━━━━━━━━━━━━━━━━\u001b[0m\u001b[37m\u001b[0m \u001b[1m22s\u001b[0m 99ms/step - accuracy: 0.8957 - loss: 0.2846 - val_accuracy: 0.2825 - val_loss: 3.6649\n",
            "Epoch 49/100\n",
            "\u001b[1m217/217\u001b[0m \u001b[32m━━━━━━━━━━━━━━━━━━━━\u001b[0m\u001b[37m\u001b[0m \u001b[1m40s\u001b[0m 94ms/step - accuracy: 0.8796 - loss: 0.3141 - val_accuracy: 0.2975 - val_loss: 3.6058\n",
            "Epoch 50/100\n",
            "\u001b[1m217/217\u001b[0m \u001b[32m━━━━━━━━━━━━━━━━━━━━\u001b[0m\u001b[37m\u001b[0m \u001b[1m19s\u001b[0m 89ms/step - accuracy: 0.8823 - loss: 0.3059 - val_accuracy: 0.2935 - val_loss: 3.7787\n",
            "Epoch 51/100\n",
            "\u001b[1m217/217\u001b[0m \u001b[32m━━━━━━━━━━━━━━━━━━━━\u001b[0m\u001b[37m\u001b[0m \u001b[1m21s\u001b[0m 92ms/step - accuracy: 0.8893 - loss: 0.2818 - val_accuracy: 0.2917 - val_loss: 3.8898\n",
            "Epoch 52/100\n",
            "\u001b[1m217/217\u001b[0m \u001b[32m━━━━━━━━━━━━━━━━━━━━\u001b[0m\u001b[37m\u001b[0m \u001b[1m20s\u001b[0m 93ms/step - accuracy: 0.8935 - loss: 0.2747 - val_accuracy: 0.3016 - val_loss: 3.5804\n",
            "Epoch 53/100\n",
            "\u001b[1m217/217\u001b[0m \u001b[32m━━━━━━━━━━━━━━━━━━━━\u001b[0m\u001b[37m\u001b[0m \u001b[1m19s\u001b[0m 89ms/step - accuracy: 0.8910 - loss: 0.2883 - val_accuracy: 0.2969 - val_loss: 3.8311\n",
            "Epoch 54/100\n",
            "\u001b[1m217/217\u001b[0m \u001b[32m━━━━━━━━━━━━━━━━━━━━\u001b[0m\u001b[37m\u001b[0m \u001b[1m20s\u001b[0m 94ms/step - accuracy: 0.8975 - loss: 0.2671 - val_accuracy: 0.2969 - val_loss: 3.9255\n",
            "Epoch 55/100\n",
            "\u001b[1m217/217\u001b[0m \u001b[32m━━━━━━━━━━━━━━━━━━━━\u001b[0m\u001b[37m\u001b[0m \u001b[1m20s\u001b[0m 91ms/step - accuracy: 0.9015 - loss: 0.2561 - val_accuracy: 0.2975 - val_loss: 3.8777\n",
            "Epoch 56/100\n",
            "\u001b[1m217/217\u001b[0m \u001b[32m━━━━━━━━━━━━━━━━━━━━\u001b[0m\u001b[37m\u001b[0m \u001b[1m20s\u001b[0m 89ms/step - accuracy: 0.9039 - loss: 0.2528 - val_accuracy: 0.2912 - val_loss: 3.9272\n",
            "Epoch 57/100\n",
            "\u001b[1m217/217\u001b[0m \u001b[32m━━━━━━━━━━━━━━━━━━━━\u001b[0m\u001b[37m\u001b[0m \u001b[1m22s\u001b[0m 97ms/step - accuracy: 0.8973 - loss: 0.2693 - val_accuracy: 0.2848 - val_loss: 3.9914\n",
            "Epoch 58/100\n",
            "\u001b[1m217/217\u001b[0m \u001b[32m━━━━━━━━━━━━━━━━━━━━\u001b[0m\u001b[37m\u001b[0m \u001b[1m40s\u001b[0m 94ms/step - accuracy: 0.8986 - loss: 0.2619 - val_accuracy: 0.2952 - val_loss: 3.9241\n",
            "Epoch 59/100\n",
            "\u001b[1m217/217\u001b[0m \u001b[32m━━━━━━━━━━━━━━━━━━━━\u001b[0m\u001b[37m\u001b[0m \u001b[1m22s\u001b[0m 101ms/step - accuracy: 0.8988 - loss: 0.2542 - val_accuracy: 0.2946 - val_loss: 3.7561\n",
            "Epoch 60/100\n",
            "\u001b[1m217/217\u001b[0m \u001b[32m━━━━━━━━━━━━━━━━━━━━\u001b[0m\u001b[37m\u001b[0m \u001b[1m39s\u001b[0m 93ms/step - accuracy: 0.8882 - loss: 0.2886 - val_accuracy: 0.2796 - val_loss: 4.0963\n",
            "Epoch 61/100\n",
            "\u001b[1m217/217\u001b[0m \u001b[32m━━━━━━━━━━━━━━━━━━━━\u001b[0m\u001b[37m\u001b[0m \u001b[1m20s\u001b[0m 89ms/step - accuracy: 0.9046 - loss: 0.2510 - val_accuracy: 0.2854 - val_loss: 4.0646\n",
            "Epoch 62/100\n",
            "\u001b[1m217/217\u001b[0m \u001b[32m━━━━━━━━━━━━━━━━━━━━\u001b[0m\u001b[37m\u001b[0m \u001b[1m22s\u001b[0m 97ms/step - accuracy: 0.8902 - loss: 0.2789 - val_accuracy: 0.2912 - val_loss: 3.9818\n",
            "Epoch 63/100\n",
            "\u001b[1m217/217\u001b[0m \u001b[32m━━━━━━━━━━━━━━━━━━━━\u001b[0m\u001b[37m\u001b[0m \u001b[1m19s\u001b[0m 89ms/step - accuracy: 0.8970 - loss: 0.2653 - val_accuracy: 0.2923 - val_loss: 4.2075\n",
            "Epoch 64/100\n",
            "\u001b[1m217/217\u001b[0m \u001b[32m━━━━━━━━━━━━━━━━━━━━\u001b[0m\u001b[37m\u001b[0m \u001b[1m22s\u001b[0m 96ms/step - accuracy: 0.8964 - loss: 0.2520 - val_accuracy: 0.2923 - val_loss: 3.9574\n",
            "Epoch 65/100\n",
            "\u001b[1m217/217\u001b[0m \u001b[32m━━━━━━━━━━━━━━━━━━━━\u001b[0m\u001b[37m\u001b[0m \u001b[1m40s\u001b[0m 91ms/step - accuracy: 0.9041 - loss: 0.2685 - val_accuracy: 0.2912 - val_loss: 3.9219\n",
            "Epoch 66/100\n",
            "\u001b[1m217/217\u001b[0m \u001b[32m━━━━━━━━━━━━━━━━━━━━\u001b[0m\u001b[37m\u001b[0m \u001b[1m21s\u001b[0m 95ms/step - accuracy: 0.8957 - loss: 0.2649 - val_accuracy: 0.2889 - val_loss: 4.0870\n",
            "Epoch 67/100\n",
            "\u001b[1m217/217\u001b[0m \u001b[32m━━━━━━━━━━━━━━━━━━━━\u001b[0m\u001b[37m\u001b[0m \u001b[1m19s\u001b[0m 89ms/step - accuracy: 0.9045 - loss: 0.2355 - val_accuracy: 0.2819 - val_loss: 4.1146\n",
            "Epoch 68/100\n",
            "\u001b[1m217/217\u001b[0m \u001b[32m━━━━━━━━━━━━━━━━━━━━\u001b[0m\u001b[37m\u001b[0m \u001b[1m22s\u001b[0m 99ms/step - accuracy: 0.9063 - loss: 0.2365 - val_accuracy: 0.2906 - val_loss: 4.2166\n",
            "Epoch 69/100\n",
            "\u001b[1m217/217\u001b[0m \u001b[32m━━━━━━━━━━━━━━━━━━━━\u001b[0m\u001b[37m\u001b[0m \u001b[1m40s\u001b[0m 96ms/step - accuracy: 0.9118 - loss: 0.2293 - val_accuracy: 0.2900 - val_loss: 4.3237\n",
            "Epoch 70/100\n",
            "\u001b[1m217/217\u001b[0m \u001b[32m━━━━━━━━━━━━━━━━━━━━\u001b[0m\u001b[37m\u001b[0m \u001b[1m41s\u001b[0m 95ms/step - accuracy: 0.9051 - loss: 0.2335 - val_accuracy: 0.2906 - val_loss: 4.2106\n",
            "Epoch 71/100\n",
            "\u001b[1m217/217\u001b[0m \u001b[32m━━━━━━━━━━━━━━━━━━━━\u001b[0m\u001b[37m\u001b[0m \u001b[1m41s\u001b[0m 94ms/step - accuracy: 0.9075 - loss: 0.2453 - val_accuracy: 0.2894 - val_loss: 4.3702\n",
            "Epoch 72/100\n",
            "\u001b[1m217/217\u001b[0m \u001b[32m━━━━━━━━━━━━━━━━━━━━\u001b[0m\u001b[37m\u001b[0m \u001b[1m20s\u001b[0m 92ms/step - accuracy: 0.9046 - loss: 0.2360 - val_accuracy: 0.2889 - val_loss: 3.9838\n",
            "Epoch 73/100\n",
            "\u001b[1m217/217\u001b[0m \u001b[32m━━━━━━━━━━━━━━━━━━━━\u001b[0m\u001b[37m\u001b[0m \u001b[1m19s\u001b[0m 89ms/step - accuracy: 0.8990 - loss: 0.2486 - val_accuracy: 0.2860 - val_loss: 4.1819\n",
            "Epoch 74/100\n",
            "\u001b[1m217/217\u001b[0m \u001b[32m━━━━━━━━━━━━━━━━━━━━\u001b[0m\u001b[37m\u001b[0m \u001b[1m20s\u001b[0m 94ms/step - accuracy: 0.8818 - loss: 0.3026 - val_accuracy: 0.2854 - val_loss: 4.0980\n",
            "Epoch 75/100\n",
            "\u001b[1m217/217\u001b[0m \u001b[32m━━━━━━━━━━━━━━━━━━━━\u001b[0m\u001b[37m\u001b[0m \u001b[1m20s\u001b[0m 92ms/step - accuracy: 0.9073 - loss: 0.2328 - val_accuracy: 0.2889 - val_loss: 4.3318\n",
            "Epoch 76/100\n",
            "\u001b[1m217/217\u001b[0m \u001b[32m━━━━━━━━━━━━━━━━━━━━\u001b[0m\u001b[37m\u001b[0m \u001b[1m20s\u001b[0m 89ms/step - accuracy: 0.9097 - loss: 0.2251 - val_accuracy: 0.2865 - val_loss: 4.4329\n",
            "Epoch 77/100\n",
            "\u001b[1m217/217\u001b[0m \u001b[32m━━━━━━━━━━━━━━━━━━━━\u001b[0m\u001b[37m\u001b[0m \u001b[1m22s\u001b[0m 96ms/step - accuracy: 0.9124 - loss: 0.2214 - val_accuracy: 0.2935 - val_loss: 4.0166\n",
            "Epoch 78/100\n",
            "\u001b[1m217/217\u001b[0m \u001b[32m━━━━━━━━━━━━━━━━━━━━\u001b[0m\u001b[37m\u001b[0m \u001b[1m41s\u001b[0m 98ms/step - accuracy: 0.9012 - loss: 0.2640 - val_accuracy: 0.2929 - val_loss: 4.3470\n",
            "Epoch 79/100\n",
            "\u001b[1m217/217\u001b[0m \u001b[32m━━━━━━━━━━━━━━━━━━━━\u001b[0m\u001b[37m\u001b[0m \u001b[1m19s\u001b[0m 89ms/step - accuracy: 0.9088 - loss: 0.2261 - val_accuracy: 0.2912 - val_loss: 4.2365\n",
            "Epoch 80/100\n",
            "\u001b[1m217/217\u001b[0m \u001b[32m━━━━━━━━━━━━━━━━━━━━\u001b[0m\u001b[37m\u001b[0m \u001b[1m21s\u001b[0m 90ms/step - accuracy: 0.9174 - loss: 0.2141 - val_accuracy: 0.2842 - val_loss: 4.4327\n",
            "Epoch 81/100\n",
            "\u001b[1m217/217\u001b[0m \u001b[32m━━━━━━━━━━━━━━━━━━━━\u001b[0m\u001b[37m\u001b[0m \u001b[1m22s\u001b[0m 95ms/step - accuracy: 0.9019 - loss: 0.2363 - val_accuracy: 0.2854 - val_loss: 4.3939\n",
            "Epoch 82/100\n",
            "\u001b[1m217/217\u001b[0m \u001b[32m━━━━━━━━━━━━━━━━━━━━\u001b[0m\u001b[37m\u001b[0m \u001b[1m42s\u001b[0m 98ms/step - accuracy: 0.9004 - loss: 0.2544 - val_accuracy: 0.2848 - val_loss: 4.6758\n",
            "Epoch 83/100\n",
            "\u001b[1m217/217\u001b[0m \u001b[32m━━━━━━━━━━━━━━━━━━━━\u001b[0m\u001b[37m\u001b[0m \u001b[1m41s\u001b[0m 99ms/step - accuracy: 0.9102 - loss: 0.2200 - val_accuracy: 0.2906 - val_loss: 4.3008\n",
            "Epoch 84/100\n",
            "\u001b[1m217/217\u001b[0m \u001b[32m━━━━━━━━━━━━━━━━━━━━\u001b[0m\u001b[37m\u001b[0m \u001b[1m39s\u001b[0m 91ms/step - accuracy: 0.9043 - loss: 0.2361 - val_accuracy: 0.2860 - val_loss: 4.4961\n",
            "Epoch 85/100\n",
            "\u001b[1m217/217\u001b[0m \u001b[32m━━━━━━━━━━━━━━━━━━━━\u001b[0m\u001b[37m\u001b[0m \u001b[1m21s\u001b[0m 93ms/step - accuracy: 0.9122 - loss: 0.2172 - val_accuracy: 0.2940 - val_loss: 4.2856\n",
            "Epoch 86/100\n",
            "\u001b[1m217/217\u001b[0m \u001b[32m━━━━━━━━━━━━━━━━━━━━\u001b[0m\u001b[37m\u001b[0m \u001b[1m20s\u001b[0m 89ms/step - accuracy: 0.9089 - loss: 0.2357 - val_accuracy: 0.2831 - val_loss: 4.5383\n",
            "Epoch 87/100\n",
            "\u001b[1m217/217\u001b[0m \u001b[32m━━━━━━━━━━━━━━━━━━━━\u001b[0m\u001b[37m\u001b[0m \u001b[1m22s\u001b[0m 96ms/step - accuracy: 0.9064 - loss: 0.2096 - val_accuracy: 0.2813 - val_loss: 4.6483\n",
            "Epoch 88/100\n",
            "\u001b[1m217/217\u001b[0m \u001b[32m━━━━━━━━━━━━━━━━━━━━\u001b[0m\u001b[37m\u001b[0m \u001b[1m40s\u001b[0m 92ms/step - accuracy: 0.9076 - loss: 0.2218 - val_accuracy: 0.2883 - val_loss: 4.4036\n",
            "Epoch 89/100\n",
            "\u001b[1m217/217\u001b[0m \u001b[32m━━━━━━━━━━━━━━━━━━━━\u001b[0m\u001b[37m\u001b[0m \u001b[1m20s\u001b[0m 91ms/step - accuracy: 0.9002 - loss: 0.2559 - val_accuracy: 0.2935 - val_loss: 4.5386\n",
            "Epoch 90/100\n",
            "\u001b[1m217/217\u001b[0m \u001b[32m━━━━━━━━━━━━━━━━━━━━\u001b[0m\u001b[37m\u001b[0m \u001b[1m20s\u001b[0m 89ms/step - accuracy: 0.9171 - loss: 0.2040 - val_accuracy: 0.2894 - val_loss: 4.7708\n",
            "Epoch 91/100\n",
            "\u001b[1m217/217\u001b[0m \u001b[32m━━━━━━━━━━━━━━━━━━━━\u001b[0m\u001b[37m\u001b[0m \u001b[1m21s\u001b[0m 96ms/step - accuracy: 0.9140 - loss: 0.2045 - val_accuracy: 0.2865 - val_loss: 4.9574\n",
            "Epoch 92/100\n",
            "\u001b[1m217/217\u001b[0m \u001b[32m━━━━━━━━━━━━━━━━━━━━\u001b[0m\u001b[37m\u001b[0m \u001b[1m41s\u001b[0m 94ms/step - accuracy: 0.9217 - loss: 0.1900 - val_accuracy: 0.2842 - val_loss: 4.7116\n",
            "Epoch 93/100\n",
            "\u001b[1m217/217\u001b[0m \u001b[32m━━━━━━━━━━━━━━━━━━━━\u001b[0m\u001b[37m\u001b[0m \u001b[1m41s\u001b[0m 95ms/step - accuracy: 0.9211 - loss: 0.2053 - val_accuracy: 0.2883 - val_loss: 4.5267\n",
            "Epoch 94/100\n",
            "\u001b[1m217/217\u001b[0m \u001b[32m━━━━━━━━━━━━━━━━━━━━\u001b[0m\u001b[37m\u001b[0m \u001b[1m40s\u001b[0m 92ms/step - accuracy: 0.9069 - loss: 0.2338 - val_accuracy: 0.2889 - val_loss: 4.7151\n",
            "Epoch 95/100\n",
            "\u001b[1m217/217\u001b[0m \u001b[32m━━━━━━━━━━━━━━━━━━━━\u001b[0m\u001b[37m\u001b[0m \u001b[1m21s\u001b[0m 95ms/step - accuracy: 0.9206 - loss: 0.1933 - val_accuracy: 0.2877 - val_loss: 4.9128\n",
            "Epoch 96/100\n",
            "\u001b[1m217/217\u001b[0m \u001b[32m━━━━━━━━━━━━━━━━━━━━\u001b[0m\u001b[37m\u001b[0m \u001b[1m19s\u001b[0m 90ms/step - accuracy: 0.9025 - loss: 0.2428 - val_accuracy: 0.2917 - val_loss: 4.5613\n",
            "Epoch 97/100\n",
            "\u001b[1m217/217\u001b[0m \u001b[32m━━━━━━━━━━━━━━━━━━━━\u001b[0m\u001b[37m\u001b[0m \u001b[1m23s\u001b[0m 100ms/step - accuracy: 0.9003 - loss: 0.2321 - val_accuracy: 0.2854 - val_loss: 4.7839\n",
            "Epoch 98/100\n",
            "\u001b[1m217/217\u001b[0m \u001b[32m━━━━━━━━━━━━━━━━━━━━\u001b[0m\u001b[37m\u001b[0m \u001b[1m19s\u001b[0m 89ms/step - accuracy: 0.9133 - loss: 0.2158 - val_accuracy: 0.2877 - val_loss: 4.4525\n",
            "Epoch 99/100\n",
            "\u001b[1m217/217\u001b[0m \u001b[32m━━━━━━━━━━━━━━━━━━━━\u001b[0m\u001b[37m\u001b[0m \u001b[1m19s\u001b[0m 89ms/step - accuracy: 0.9124 - loss: 0.2236 - val_accuracy: 0.2831 - val_loss: 4.7692\n",
            "Epoch 100/100\n",
            "\u001b[1m217/217\u001b[0m \u001b[32m━━━━━━━━━━━━━━━━━━━━\u001b[0m\u001b[37m\u001b[0m \u001b[1m22s\u001b[0m 95ms/step - accuracy: 0.9054 - loss: 0.2189 - val_accuracy: 0.2825 - val_loss: 4.8125\n"
          ]
        }
      ]
    },
    {
      "cell_type": "code",
      "source": [
        "# Save the entire model (architecture, weights, and optimizer)\n",
        "path = r\"/content/drive/MyDrive/LSTM_model_BMWP.h5\"\n",
        "Lstm_model.save(path)\n"
      ],
      "metadata": {
        "colab": {
          "base_uri": "https://localhost:8080/"
        },
        "id": "IIzhrkn9GPBe",
        "outputId": "0ebb37a8-1377-4a55-8768-e6e81374907f"
      },
      "execution_count": 26,
      "outputs": [
        {
          "output_type": "stream",
          "name": "stderr",
          "text": [
            "WARNING:absl:You are saving your model as an HDF5 file via `model.save()` or `keras.saving.save_model(model)`. This file format is considered legacy. We recommend using instead the native Keras format, e.g. `model.save('my_model.keras')` or `keras.saving.save_model(model, 'my_model.keras')`. \n"
          ]
        }
      ]
    },
    {
      "cell_type": "code",
      "source": [
        "# Predict the operator\n",
        "def generate_text_seq(model, tokenizer, seed_text, max_length):\n",
        "  bnltk_token = tokens = t.bn_word_tokenizer(seed_text)\n",
        "  encoded= tokenizer.texts_to_sequences([seed_text])[0]\n",
        "  encoded= pad_sequences([encoded], maxlen = max_length, padding ='post')\n",
        "  y_predict= np.argmax(model.predict(encoded), axis=-1)\n",
        "\n",
        "  return y_predict\n"
      ],
      "metadata": {
        "id": "Bsx1wDApg7Ak"
      },
      "execution_count": 37,
      "outputs": []
    },
    {
      "cell_type": "code",
      "source": [
        "#Taking input problem\n",
        "input_word = 'প্রথম সারিতে ৫৫ টি ইট ,২য় সারিতে ৮৮ ,তৃতীয় সারিতে ৩৩ টি ইট আছে। এখানে মোট কটি ইট সাজানো আছে লেখ।'\n",
        "max_length = 55\n",
        "\n",
        "#Function call\n",
        "predicted_operator = generate_text_seq(Lstm_model, tokenizer, input_word, max_length)\n",
        "print('Predicted_operator:  ', predicted_operator[0])"
      ],
      "metadata": {
        "colab": {
          "base_uri": "https://localhost:8080/"
        },
        "id": "LmTE3oKBhaBM",
        "outputId": "302356d5-fd34-4a10-9145-1dddd74daf67"
      },
      "execution_count": 90,
      "outputs": [
        {
          "output_type": "stream",
          "name": "stdout",
          "text": [
            "\u001b[1m1/1\u001b[0m \u001b[32m━━━━━━━━━━━━━━━━━━━━\u001b[0m\u001b[37m\u001b[0m \u001b[1m0s\u001b[0m 42ms/step\n",
            "Predicted_operator:   1\n"
          ]
        }
      ]
    },
    {
      "cell_type": "code",
      "source": [
        "{' -':0, '-':0, ' +':1, '+':1, '*':2, ' *':2, '/':3}"
      ],
      "metadata": {
        "colab": {
          "base_uri": "https://localhost:8080/"
        },
        "id": "_7pEjSqBqbrT",
        "outputId": "d305d9fa-e0f6-4c2b-d5b7-6efbadda5ba4"
      },
      "execution_count": 31,
      "outputs": [
        {
          "output_type": "execute_result",
          "data": {
            "text/plain": [
              "{' -': 0, '-': 0, ' +': 1, '+': 1, '*': 2, ' *': 2, '/': 3}"
            ]
          },
          "metadata": {},
          "execution_count": 31
        }
      ]
    },
    {
      "cell_type": "code",
      "source": [],
      "metadata": {
        "id": "FBvjS7vjTuaG"
      },
      "execution_count": null,
      "outputs": []
    }
  ],
  "metadata": {
    "colab": {
      "provenance": []
    },
    "kernelspec": {
      "display_name": "Python 3",
      "name": "python3"
    },
    "language_info": {
      "name": "python"
    }
  },
  "nbformat": 4,
  "nbformat_minor": 0
}